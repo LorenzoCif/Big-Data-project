{
 "cells": [
  {
   "cell_type": "markdown",
   "metadata": {},
   "source": [
    "# Introduzione a NumPy"
   ]
  },
  {
   "cell_type": "markdown",
   "metadata": {},
   "source": [
    "## Indice\n",
    "1. [NumPy](#numpy)<br>\n",
    "2. [`ndarray`](#ndarray)<br>\n",
    "    2.1 [Creare un array](#creare_array)<br>\n",
    "    2.2 [Caratteristiche di un `ndarray`](#caratteristiche_array)<br>\n",
    "    2.3 [Cambiare la forma di un array](#cambiare_forma_array)<br>\n",
    "    2.4 [Accedere agli elementi di un array](#accedere_elementi)<br>\n",
    "    2.5 [Unire più array](#unire_array)<br>\n",
    "    2.6 [Copie e viste di un array](#copie_viste)<br>\n",
    "3. [Algebra lineare](#algebra_lineare)<br>\n",
    "    3.1 [Operazioni di base con scalari](#operazioni_scalari)<br>\n",
    "    3.2 [Prodotto di array](#prodotto_array)<br>\n",
    "4. [Funzioni](#funzioni)<br>\n",
    "    4.1 [Funzioni matematiche](#funzioni_matematiche)<br>\n",
    "    4.2 [Applicare una funzione lungo un asse](#funzioni_asse)<br>"
   ]
  },
  {
   "cell_type": "markdown",
   "metadata": {},
   "source": [
    "# 1. NumPy <a id=numpy> </a>\n",
    "\n",
    "Dalla pagina Wikipedia di [NumPy](https://en.wikipedia.org/wiki/NumPy):\n",
    "> NumPy is a **library** for the Python programming language, adding **support for large, multi-dimensional arrays** and matrices, along with a **large collection of high-level mathematical functions** to operate on these arrays.\n",
    "\n",
    "Dal [sito ufficiale](http://www.numpy.org/) di NumPy:\n",
    "> NumPy is the fundamental package for scientific computing with Python. It contains among other things:\n",
    "* a powerful N-dimensional array object\n",
    "* sophisticated (broadcasting) functions\n",
    "* tools for integrating C/C++ and Fortran code\n",
    "* useful linear algebra, Fourier transform, and random number capabilities\n",
    "\n",
    ">Besides its obvious scientific uses, NumPy can also be used as an efficient multi-dimensional container of generic data. Arbitrary data-types can be defined. This allows NumPy to seamlessly and speedily integrate with a wide variety of databases.\n",
    "\n",
    "Tutorial ufficiale: [Quickstart tutorial](https://docs.scipy.org/doc/numpy/user/quickstart.html)."
   ]
  },
  {
   "cell_type": "code",
   "execution_count": 2,
   "metadata": {},
   "outputs": [
    {
     "name": "stdout",
     "output_type": "stream",
     "text": [
      "The autoreload extension is already loaded. To reload it, use:\n",
      "  %reload_ext autoreload\n"
     ]
    }
   ],
   "source": [
    "import matplotlib.pyplot as plt\n",
    "import numpy as np\n",
    "\n",
    "%load_ext autoreload\n",
    "%autoreload 2"
   ]
  },
  {
   "cell_type": "markdown",
   "metadata": {},
   "source": [
    "# 2. `ndarray` <a id=ndarray> </a>"
   ]
  },
  {
   "cell_type": "markdown",
   "metadata": {},
   "source": [
    "## 2.1 Creare un array <a id=creare_array> </a>"
   ]
  },
  {
   "cell_type": "markdown",
   "metadata": {},
   "source": [
    "### `numpy.array()`"
   ]
  },
  {
   "cell_type": "code",
   "execution_count": 3,
   "metadata": {},
   "outputs": [
    {
     "name": "stdout",
     "output_type": "stream",
     "text": [
      "Tipo: <class 'numpy.ndarray'>\n",
      "Contenuto della variabile:\n",
      "[[1 2 3]\n",
      " [4 5 6]]\n"
     ]
    }
   ],
   "source": [
    "a = np.array(\n",
    "    [[1, 2, 3], \n",
    "     [4, 5, 6]]\n",
    ")\n",
    "\n",
    "print(\"Tipo: {}\".format(type(a)))\n",
    "print(\"Contenuto della variabile:\")\n",
    "print(a)"
   ]
  },
  {
   "cell_type": "markdown",
   "metadata": {},
   "source": [
    "### `numpy.arange()`"
   ]
  },
  {
   "cell_type": "code",
   "execution_count": 8,
   "metadata": {},
   "outputs": [
    {
     "name": "stdout",
     "output_type": "stream",
     "text": [
      "Tipo: <class 'numpy.ndarray'>\n",
      "Tipo: <class 'list'>\n",
      "Contenuto delle variabili\n",
      "NumPy array: [0 1 2 3 4 5]\n",
      "Lista: [0, 1, 2, 3, 4, 5]\n"
     ]
    }
   ],
   "source": [
    "numpy_array = np.arange(6)\n",
    "lista = [num for num in range(6)]\n",
    "\n",
    "print(\"Tipo: {}\".format(type(numpy_array)))\n",
    "print(\"Tipo: {}\".format(type(lista)))\n",
    "\n",
    "print(\"Contenuto delle variabili\")\n",
    "print(\"NumPy array:\", numpy_array)\n",
    "print(\"Lista:\", lista)"
   ]
  },
  {
   "cell_type": "markdown",
   "metadata": {},
   "source": [
    "### `numpy.zeros()`"
   ]
  },
  {
   "cell_type": "code",
   "execution_count": 55,
   "metadata": {},
   "outputs": [
    {
     "name": "stdout",
     "output_type": "stream",
     "text": [
      "Contenuto della variabile:\n",
      "[[0. 0. 0.]\n",
      " [0. 0. 0.]]\n"
     ]
    }
   ],
   "source": [
    "a = np.zeros((2, 3))\n",
    "\n",
    "print(\"Contenuto della variabile:\")\n",
    "print(a)"
   ]
  },
  {
   "cell_type": "markdown",
   "metadata": {},
   "source": [
    "### `numpy.ones()`"
   ]
  },
  {
   "cell_type": "code",
   "execution_count": 221,
   "metadata": {},
   "outputs": [
    {
     "name": "stdout",
     "output_type": "stream",
     "text": [
      "Contenuto della variabile:\n",
      "[[1. 1. 1.]\n",
      " [1. 1. 1.]]\n"
     ]
    }
   ],
   "source": [
    "a = np.ones((2, 3))\n",
    "\n",
    "print(\"Contenuto della variabile:\")\n",
    "print(a)"
   ]
  },
  {
   "cell_type": "markdown",
   "metadata": {},
   "source": [
    "### `numpy.random.random()`"
   ]
  },
  {
   "cell_type": "code",
   "execution_count": 219,
   "metadata": {},
   "outputs": [
    {
     "name": "stdout",
     "output_type": "stream",
     "text": [
      "Contenuto della variabile:\n",
      "[[0.51323949 0.55187197 0.15309128]\n",
      " [0.37144204 0.604164   0.73351447]]\n"
     ]
    }
   ],
   "source": [
    "a = np.random.random((2, 3))\n",
    "\n",
    "print(\"Contenuto della variabile:\")\n",
    "print(a)"
   ]
  },
  {
   "cell_type": "markdown",
   "metadata": {},
   "source": [
    "### `numpy.empty()`"
   ]
  },
  {
   "cell_type": "code",
   "execution_count": 222,
   "metadata": {
    "scrolled": true
   },
   "outputs": [
    {
     "name": "stdout",
     "output_type": "stream",
     "text": [
      "Contenuto della variabile:\n",
      "[[1. 1. 1.]\n",
      " [1. 1. 1.]]\n"
     ]
    }
   ],
   "source": [
    "a = np.empty((2, 3))\n",
    "\n",
    "print(\"Contenuto della variabile:\")\n",
    "print(a)"
   ]
  },
  {
   "cell_type": "markdown",
   "metadata": {},
   "source": [
    "### Esercizio\n",
    "\n",
    "Ottenere il seguente array utilizzando esclusivamente `numpy.arange()`:\n",
    "```python\n",
    "[10, 20, 30, 40, 50, 60, 70, 80, 90]\n",
    "```"
   ]
  },
  {
   "cell_type": "code",
   "execution_count": 144,
   "metadata": {},
   "outputs": [
    {
     "data": {
      "text/plain": [
       "array([10, 20, 30, 40, 50, 60, 70, 80, 90])"
      ]
     },
     "execution_count": 144,
     "metadata": {},
     "output_type": "execute_result"
    }
   ],
   "source": [
    "\"\"\"\n",
    "help(np.arange)\n",
    "Help on built-in function arange in module numpy:\n",
    "\n",
    "arange(...)\n",
    "    arange([start,] stop[, step,], dtype=None)\n",
    "    \n",
    "    Return evenly spaced values within a given interval.\n",
    "\"\"\"\n",
    "np.arange(start=10, stop=100, step=10)"
   ]
  },
  {
   "cell_type": "markdown",
   "metadata": {},
   "source": [
    "## 2.2 Caratteristiche di un `ndarray` <a id=caratteristiche_array> </a>"
   ]
  },
  {
   "cell_type": "markdown",
   "metadata": {},
   "source": [
    "### `numpy.ndarray.ndim`\n",
    "In NumPy `ndarray.ndim` fa riferimento al rango della matrice, ovvero:\n",
    "- il numero massimo di vettori colonna linearmente indipendenti, o\n",
    "- il numero massimo di vettori riga linearmente indipendenti. \n",
    "\n",
    "Le due definizioni sono equivalenti."
   ]
  },
  {
   "cell_type": "code",
   "execution_count": 223,
   "metadata": {},
   "outputs": [
    {
     "name": "stdout",
     "output_type": "stream",
     "text": [
      "Numero di dimensioni: 2\n"
     ]
    }
   ],
   "source": [
    "a = np.array(\n",
    "    [[1, 2, 3],\n",
    "     [4, 5, 6]]\n",
    ")\n",
    "\n",
    "print(\"Numero di dimensioni: {}\".format(a.ndim))"
   ]
  },
  {
   "cell_type": "code",
   "execution_count": 224,
   "metadata": {},
   "outputs": [
    {
     "name": "stdout",
     "output_type": "stream",
     "text": [
      "[[1 2 3]\n",
      " [4 5 6]\n",
      " [7 8 9]]\n",
      "\n",
      "Numero di dimensioni: 2\n"
     ]
    }
   ],
   "source": [
    "b = np.array([[1,2,3],[4,5,6],[7,8,9]])\n",
    "\n",
    "print(b)\n",
    "print(\"\\nNumero di dimensioni: {}\".format(b.ndim))"
   ]
  },
  {
   "cell_type": "markdown",
   "metadata": {},
   "source": [
    "### `numpy.ndarray.shape`"
   ]
  },
  {
   "cell_type": "code",
   "execution_count": 66,
   "metadata": {},
   "outputs": [
    {
     "name": "stdout",
     "output_type": "stream",
     "text": [
      "Forma: (2, 3)\n"
     ]
    }
   ],
   "source": [
    "a = np.array(\n",
    "    [[1, 2, 3],\n",
    "     [4, 5, 6]]\n",
    ")\n",
    "\n",
    "print(\"Forma: {}\".format(a.shape))"
   ]
  },
  {
   "cell_type": "markdown",
   "metadata": {},
   "source": [
    "### `numpy.ndarray.size`"
   ]
  },
  {
   "cell_type": "code",
   "execution_count": 20,
   "metadata": {},
   "outputs": [
    {
     "name": "stdout",
     "output_type": "stream",
     "text": [
      "Numero di elementi: 6\n"
     ]
    }
   ],
   "source": [
    "a = np.array(\n",
    "    [[1, 2, 3],\n",
    "     [4, 5, 6]]\n",
    ")\n",
    "\n",
    "print(\"Numero di elementi: {}\".format(a.size))"
   ]
  },
  {
   "cell_type": "markdown",
   "metadata": {},
   "source": [
    "### `numpy.ndarray.itemsize`"
   ]
  },
  {
   "cell_type": "code",
   "execution_count": 37,
   "metadata": {},
   "outputs": [
    {
     "name": "stdout",
     "output_type": "stream",
     "text": [
      "Dimensione in bytes di ogni elemento dell'array: 8\n"
     ]
    }
   ],
   "source": [
    "a = np.array(\n",
    "    [[1, 2, 3],\n",
    "     [4, 5, 6]]\n",
    ")\n",
    "\n",
    "print(\"Dimensione in bytes di ogni elemento dell'array: {}\".format(a.itemsize))"
   ]
  },
  {
   "cell_type": "markdown",
   "metadata": {},
   "source": [
    "###  `numpy.ndarray.dtype `"
   ]
  },
  {
   "cell_type": "code",
   "execution_count": 36,
   "metadata": {},
   "outputs": [
    {
     "name": "stdout",
     "output_type": "stream",
     "text": [
      "Tipo degli elmenti dell'array: int64\n"
     ]
    }
   ],
   "source": [
    "a = np.array(\n",
    "    [[1, 2, 3],\n",
    "     [4, 5, 6]]\n",
    ")\n",
    "\n",
    "print(\"Tipo degli elmenti dell'array: {}\".format(a.dtype))"
   ]
  },
  {
   "cell_type": "markdown",
   "metadata": {},
   "source": [
    "### Esercizio\n",
    "\n",
    "Sapendo che il tipo degli elementi è `int64`, avremmo potuto prevedere la dimensione in bytes? Motivare la risposta."
   ]
  },
  {
   "cell_type": "code",
   "execution_count": 48,
   "metadata": {},
   "outputs": [
    {
     "data": {
      "text/plain": [
       "20000"
      ]
     },
     "execution_count": 48,
     "metadata": {},
     "output_type": "execute_result"
    }
   ],
   "source": [
    "# si, perché 64 bit corrispondono a 8 byte.\n",
    "# posso calcolare la dimensione complessiva di un ndarray (in byte) in questo modo:\n",
    "b = np.zeros((50,50))\n",
    "b.itemsize * b.size"
   ]
  },
  {
   "cell_type": "markdown",
   "metadata": {},
   "source": [
    "## 2.3 Cambiare la forma di un array <a id=cambiare_forma_array> </a>"
   ]
  },
  {
   "cell_type": "markdown",
   "metadata": {},
   "source": [
    "###  `numpy.ndarray.reshape() `"
   ]
  },
  {
   "cell_type": "code",
   "execution_count": 72,
   "metadata": {},
   "outputs": [
    {
     "name": "stdout",
     "output_type": "stream",
     "text": [
      "Contenuto della variabile:\n",
      "[0 1 2 3 4 5]\n",
      "\n",
      "Dimensioni: 1\n",
      "Forma: (6,)\n",
      "\n",
      "Modificare le dimensioni dell'array:\n",
      "a = a.reshape(3, 2)\n",
      "\n",
      "Contenuto della variabile:\n",
      "[[0 1]\n",
      " [2 3]\n",
      " [4 5]]\n",
      "\n",
      "Dimensioni: 2\n",
      "Forma: (3, 2)\n"
     ]
    }
   ],
   "source": [
    "a = np.arange(6)\n",
    "\n",
    "print(\"Contenuto della variabile:\")\n",
    "print(a)\n",
    "print(\"\\nDimensioni: {}\".format(a.ndim))\n",
    "print(\"Forma: {}\".format(a.shape))\n",
    "\n",
    "print(\"\\nModificare le dimensioni dell'array:\")\n",
    "a = a.reshape(3, 2)\n",
    "print(\"a = a.reshape(3, 2)\")\n",
    "\n",
    "print(\"\\nContenuto della variabile:\")\n",
    "print(a)\n",
    "print(\"\\nDimensioni: {}\".format(a.ndim))\n",
    "print(\"Forma: {}\".format(a.shape))"
   ]
  },
  {
   "cell_type": "markdown",
   "metadata": {},
   "source": [
    "###  `numpy.diag() `"
   ]
  },
  {
   "cell_type": "code",
   "execution_count": 78,
   "metadata": {},
   "outputs": [
    {
     "name": "stdout",
     "output_type": "stream",
     "text": [
      "Contenuto della variabile:\n",
      "[1. 1.]\n",
      "\n",
      "Forma: (2,)\n",
      "\n",
      "Creare una matrice diagonale a partire da un vettore:\n",
      "a = np.diag(a)\n",
      "\n",
      "Contenuto della variabile:\n",
      "[[1. 0.]\n",
      " [0. 1.]]\n",
      "\n",
      "Forma: (2, 2)\n",
      "Dimensioni: 2\n"
     ]
    }
   ],
   "source": [
    "a = np.ones(2)\n",
    "\n",
    "print(\"Contenuto della variabile:\")\n",
    "print(a)\n",
    "print(\"\\nForma: {}\".format(a.shape))\n",
    "\n",
    "print(\"\\nCreare una matrice diagonale a partire da un vettore:\")\n",
    "print(\"a = np.diag(a)\")\n",
    "a = np.diag(a)\n",
    "\n",
    "print(\"\\nContenuto della variabile:\")\n",
    "print(a)\n",
    "print(\"\\nForma: {}\".format(a.shape))\n",
    "print(\"Dimensioni: {}\".format(a.ndim))\n"
   ]
  },
  {
   "cell_type": "markdown",
   "metadata": {},
   "source": [
    "### Esercizio\n",
    "\n",
    "Verificare che, se la matrice diagonale che si vuole ottenere è l'identità, si può utilizzare direttamente `numpy.eye()`."
   ]
  },
  {
   "cell_type": "code",
   "execution_count": 94,
   "metadata": {},
   "outputs": [
    {
     "name": "stdout",
     "output_type": "stream",
     "text": [
      "Confronto element-wise:\n",
      "[[ True  True  True  True  True]\n",
      " [ True  True  True  True  True]\n",
      " [ True  True  True  True  True]\n",
      " [ True  True  True  True  True]\n",
      " [ True  True  True  True  True]]\n",
      "\n",
      "Confronto tra NumPy array:\n",
      "True\n"
     ]
    }
   ],
   "source": [
    "print(\"Confronto element-wise:\")\n",
    "print(np.equal(np.eye(5), np.diag(np.ones(5))))\n",
    "\n",
    "print(\"\\nConfronto tra NumPy array:\")\n",
    "print(np.array_equal(np.eye(5), np.diag(np.ones(5))))"
   ]
  },
  {
   "cell_type": "markdown",
   "metadata": {},
   "source": [
    "### Esercizio\n",
    "\n",
    "Creare il seguente array usando `numpy.arange()` e `numpy.diag()`:\n",
    "```python\n",
    "[[0 0 0]\n",
    " [0 1 0]\n",
    " [0 0 2]]\n",
    " ```"
   ]
  },
  {
   "cell_type": "code",
   "execution_count": 96,
   "metadata": {},
   "outputs": [
    {
     "name": "stdout",
     "output_type": "stream",
     "text": [
      "[[0 0 0]\n",
      " [0 1 0]\n",
      " [0 0 2]]\n"
     ]
    }
   ],
   "source": [
    "a = np.diag(np.arange(3))\n",
    "print(a)"
   ]
  },
  {
   "cell_type": "markdown",
   "metadata": {},
   "source": [
    "###  `numpy.ndarray.T `"
   ]
  },
  {
   "cell_type": "code",
   "execution_count": 101,
   "metadata": {},
   "outputs": [
    {
     "name": "stdout",
     "output_type": "stream",
     "text": [
      "Contenuto della variabile:\n",
      "[[1. 1. 1.]\n",
      " [1. 1. 1.]]\n",
      "\n",
      "Forma: (2, 3)\n",
      "\n",
      "Trasporre la matrice:\n",
      "a = a.T\n",
      "\n",
      "Contenuto della variabile:\n",
      "[[1. 1.]\n",
      " [1. 1.]\n",
      " [1. 1.]]\n",
      "\n",
      "Forma: (3, 2)\n"
     ]
    }
   ],
   "source": [
    "a = np.ones((2, 3))\n",
    "\n",
    "print(\"Contenuto della variabile:\")\n",
    "print(a)\n",
    "print(\"\\nForma: {}\".format(a.shape))\n",
    "\n",
    "print(\"\\nTrasporre la matrice:\")\n",
    "print(\"a = a.T\")\n",
    "a = a.T\n",
    "\n",
    "print(\"\\nContenuto della variabile:\")\n",
    "print(a)\n",
    "print(\"\\nForma: {}\".format(a.shape))"
   ]
  },
  {
   "cell_type": "markdown",
   "metadata": {},
   "source": [
    "### `numpy.newaxis`"
   ]
  },
  {
   "cell_type": "code",
   "execution_count": 104,
   "metadata": {},
   "outputs": [
    {
     "name": "stdout",
     "output_type": "stream",
     "text": [
      "Contenuto della variabile:\n",
      "[0 1 2 3 4]\n",
      "\n",
      "Forma: (5,)\n",
      "\n",
      "Aggiungere una dimensione all'array:\n",
      "a = a[:, np.newaxis]\n",
      "\n",
      "Contenuto della variabile:\n",
      "[[0]\n",
      " [1]\n",
      " [2]\n",
      " [3]\n",
      " [4]]\n",
      "\n",
      "Forma: (5, 1)\n"
     ]
    }
   ],
   "source": [
    "a = np.arange(5)\n",
    "\n",
    "print(\"Contenuto della variabile:\")\n",
    "print(a)\n",
    "print(\"\\nForma: {}\".format(a.shape))\n",
    "\n",
    "print(\"\\nAggiungere una dimensione all'array:\")\n",
    "print(\"a = a[:, np.newaxis]\")\n",
    "a = a[:, np.newaxis] # equivalente a: a[:, None]\n",
    "\n",
    "print(\"\\nContenuto della variabile:\")\n",
    "print(a)\n",
    "print(\"\\nForma: {}\".format(a.shape))"
   ]
  },
  {
   "cell_type": "markdown",
   "metadata": {},
   "source": [
    "## 2.4 Accedere agli elementi di un array <a id=accedere_elementi> </a>"
   ]
  },
  {
   "cell_type": "code",
   "execution_count": 129,
   "metadata": {},
   "outputs": [
    {
     "name": "stdout",
     "output_type": "stream",
     "text": [
      "Contenuto della variabile:\n",
      "[[ 0  1  2]\n",
      " [ 3  4  5]\n",
      " [ 6  7  8]\n",
      " [ 9 10 11]]\n",
      "\n",
      "Elemento della seconda riga, terza colonna (a[1, 2]):\n",
      "5\n",
      "\n",
      "Prima riga (a[0, :]):\n",
      "[0 1 2]\n",
      "\n",
      "Seconda colonna (a[:, 1]):\n",
      "[ 1  4  7 10]\n",
      "\n",
      "Seconda e terza riga (a[1:3, :]):\n",
      "[[3 4 5]\n",
      " [6 7 8]]\n",
      "* Vedi il prossimo esercizio\n",
      "\n",
      "Ultime due colonne (a[:, -2:]):\n",
      "[[ 1  2]\n",
      " [ 4  5]\n",
      " [ 7  8]\n",
      " [10 11]]\n",
      "\n",
      "Righe in ordine inverso (a[::-1, :]):\n",
      "[[ 9 10 11]\n",
      " [ 6  7  8]\n",
      " [ 3  4  5]\n",
      " [ 0  1  2]]\n"
     ]
    }
   ],
   "source": [
    "a = np.arange(12).reshape((4, 3))\n",
    "\n",
    "print(\"Contenuto della variabile:\")\n",
    "print(a)\n",
    "\n",
    "print(\"\\nElemento della seconda riga, terza colonna (a[1, 2]):\")\n",
    "print(a[1, 2])\n",
    "\n",
    "print(\"\\nPrima riga (a[0, :]):\")\n",
    "print(a[0, :])\n",
    "\n",
    "print(\"\\nSeconda colonna (a[:, 1]):\")\n",
    "print(a[:, 1])\n",
    "\n",
    "print(\"\\nSeconda e terza riga (a[1:3, :]):\")\n",
    "print(a[1:3, :])\n",
    "print(\"* Vedi il prossimo esercizio\")\n",
    "\n",
    "print(\"\\nUltime due colonne (a[:, -2:]):\")\n",
    "print(a[:, -2:])\n",
    "\n",
    "print(\"\\nRighe in ordine inverso (a[::-1, :]):\")\n",
    "print(a[::-1, :])"
   ]
  },
  {
   "cell_type": "code",
   "execution_count": 157,
   "metadata": {},
   "outputs": [
    {
     "name": "stdout",
     "output_type": "stream",
     "text": [
      "Array iniziale:\n",
      "[0 1 2 3 4 5 6 7 8 9]\n",
      "\n",
      "Elementi di 'a' a salti di 2:\n",
      "[0 2 4 6 8]\n",
      "\n",
      "Elementi di 'a' a salti di 2 (iniziando dalla fine dell'array):\n",
      "[9 7 5 3 1]\n"
     ]
    }
   ],
   "source": [
    "# Elemento 'by' della funzione np.arange:\n",
    "a = np.arange(10)\n",
    "print(\"Array iniziale:\")\n",
    "print(a)\n",
    "\n",
    "# Elementi di 'a' a salti di 2:\n",
    "print(\"\\nElementi di 'a' a salti di 2:\")\n",
    "print(a[::2])\n",
    "\n",
    "# Elementi di 'a' a salti di 2 (iniziando dalla fine dell'array):\n",
    "print(\"\\nElementi di 'a' a salti di 2 (iniziando dalla fine dell'array):\")\n",
    "print(a[::-2])"
   ]
  },
  {
   "cell_type": "markdown",
   "metadata": {},
   "source": [
    "## Esercizio\n",
    "\n",
    "1. Creare (in modo intelligente...) l'array\n",
    "```python\n",
    "[[ 0,  1,  2,  3],\n",
    " [ 4,  5,  6,  7],\n",
    " [ 8,  9, 10, 11],\n",
    " [12, 13, 14, 15]]\n",
    "```\n",
    "2. Selezionare gli elementi della seconda e terza riga, seconda, terza e quarta colonna, verificare che il risultato sia uguale a\n",
    "\n",
    "```python\n",
    "[[ 5,  6,  7],\n",
    " [ 9, 10, 11]]\n",
    "```"
   ]
  },
  {
   "cell_type": "code",
   "execution_count": 156,
   "metadata": {},
   "outputs": [
    {
     "name": "stdout",
     "output_type": "stream",
     "text": [
      "Esercizio 1:\n",
      "[ 0  1  2  3  4  5  6  7  8  9 10 11 12 13 14 15]\n",
      "[[ 0  1  2  3]\n",
      " [ 4  5  6  7]\n",
      " [ 8  9 10 11]\n",
      " [12 13 14 15]]\n",
      "\n",
      "Esercizio 2:\n",
      "[[ 5  6  7]\n",
      " [ 9 10 11]]\n",
      "\n",
      "\n",
      "Help on built-in function arange in module numpy:\n",
      "\n",
      "arange(...)\n",
      "    arange([start,] stop[, step,], dtype=None)\n",
      "    \n",
      "    Return evenly spaced values within a given interval.\n",
      "    \n",
      "    Values are generated within the half-open interval ``[start, stop)``\n",
      "    (in other words, the interval including `start` but excluding `stop`).\n",
      "    For integer arguments the function is equivalent to the Python built-in\n",
      "    `range` function, but returns an ndarray rather than a list.\n",
      "    \n",
      "    When using a non-integer step, such as 0.1, the results will often not\n",
      "    be consistent.  It is better to use `numpy.linspace` for these cases.\n",
      "    \n",
      "    Parameters\n",
      "    ----------\n",
      "    start : number, optional\n",
      "        Start of interval.  The interval includes this value.  The default\n",
      "        start value is 0.\n",
      "    stop : number\n",
      "        End of interval.  The interval does not include this value, except\n",
      "        in some cases where `step` is not an integer and floating point\n",
      "        round-off affects the length of `out`.\n",
      "    step : number, optional\n",
      "        Spacing between values.  For any output `out`, this is the distance\n",
      "        between two adjacent values, ``out[i+1] - out[i]``.  The default\n",
      "        step size is 1.  If `step` is specified as a position argument,\n",
      "        `start` must also be given.\n",
      "    dtype : dtype\n",
      "        The type of the output array.  If `dtype` is not given, infer the data\n",
      "        type from the other input arguments.\n",
      "    \n",
      "    Returns\n",
      "    -------\n",
      "    arange : ndarray\n",
      "        Array of evenly spaced values.\n",
      "    \n",
      "        For floating point arguments, the length of the result is\n",
      "        ``ceil((stop - start)/step)``.  Because of floating point overflow,\n",
      "        this rule may result in the last element of `out` being greater\n",
      "        than `stop`.\n",
      "    \n",
      "    See Also\n",
      "    --------\n",
      "    linspace : Evenly spaced numbers with careful handling of endpoints.\n",
      "    ogrid: Arrays of evenly spaced numbers in N-dimensions.\n",
      "    mgrid: Grid-shaped arrays of evenly spaced numbers in N-dimensions.\n",
      "    \n",
      "    Examples\n",
      "    --------\n",
      "    >>> np.arange(3)\n",
      "    array([0, 1, 2])\n",
      "    >>> np.arange(3.0)\n",
      "    array([ 0.,  1.,  2.])\n",
      "    >>> np.arange(3,7)\n",
      "    array([3, 4, 5, 6])\n",
      "    >>> np.arange(3,7,2)\n",
      "    array([3, 5])\n",
      "\n"
     ]
    }
   ],
   "source": [
    "# Esercizio 1.\n",
    "print(\"Esercizio 1:\")\n",
    "a = np.arange(16)\n",
    "print(a)\n",
    "b = np.reshape(a, (4, 4))\n",
    "print(b)\n",
    "\n",
    "# Esercizio 2.\n",
    "print(\"\\nEsercizio 2:\")\n",
    "c = b[1:3, 1:4]\n",
    "print(c)\n",
    "\n",
    "\n",
    "# perché non \n",
    "#    c = b[1:2, 1:3] ?\n",
    "\n",
    "# Guardate l'help della funzione np.arange\n",
    "print(\"\\n\")\n",
    "help(np.arange)\n",
    "\n",
    "# Values are generated within the half-open interval [start, stop)\n",
    "# (in other words, the interval including start but excluding stop)."
   ]
  },
  {
   "cell_type": "markdown",
   "metadata": {},
   "source": [
    "## 2.5 Unire più array <a id=unire_array> </a>"
   ]
  },
  {
   "cell_type": "markdown",
   "metadata": {},
   "source": [
    "### `numpy.hstack()` (orizzontalmente)"
   ]
  },
  {
   "cell_type": "code",
   "execution_count": 139,
   "metadata": {},
   "outputs": [
    {
     "name": "stdout",
     "output_type": "stream",
     "text": [
      "Contenuto della variabile \"a\":\n",
      "[[0. 0.]\n",
      " [0. 0.]]\n",
      "\n",
      "Contenuto della variabile \"b\":\n",
      "[[1. 1.]\n",
      " [1. 1.]]\n",
      "\n",
      "Impilare orizzontalmente \"a\" e \"b\":\n",
      "c = np.hstack([a, b])\n",
      "\n",
      "Contenuto della variabile \"c\":\n",
      "[[0. 0. 1. 1.]\n",
      " [0. 0. 1. 1.]]\n"
     ]
    }
   ],
   "source": [
    "a = np.zeros((2, 2))\n",
    "b = np.ones((2, 2))\n",
    "\n",
    "print('Contenuto della variabile \"a\":')\n",
    "print(a)\n",
    "\n",
    "print('\\nContenuto della variabile \"b\":')\n",
    "print(b)\n",
    "\n",
    "print('\\nImpilare orizzontalmente \"a\" e \"b\":')\n",
    "print(\"c = np.hstack([a, b])\")\n",
    "c = np.hstack([a, b])\n",
    "\n",
    "print('\\nContenuto della variabile \"c\":')\n",
    "print(c)"
   ]
  },
  {
   "cell_type": "markdown",
   "metadata": {},
   "source": [
    "### `numpy.vstack()` (verticalmente)"
   ]
  },
  {
   "cell_type": "code",
   "execution_count": 140,
   "metadata": {},
   "outputs": [
    {
     "name": "stdout",
     "output_type": "stream",
     "text": [
      "Contenuto della variabile \"a\":\n",
      "[[0. 0.]\n",
      " [0. 0.]]\n",
      "\n",
      "Contenuto della variabile \"b\":\n",
      "[[1. 1.]\n",
      " [1. 1.]]\n",
      "\n",
      "Impilare verticalmente \"a\" e \"b\":\n",
      "c = np.vstack([a, b])\n",
      "\n",
      "Contenuto della variabile \"c\":\n",
      "[[0. 0.]\n",
      " [0. 0.]\n",
      " [1. 1.]\n",
      " [1. 1.]]\n"
     ]
    }
   ],
   "source": [
    "a = np.zeros((2, 2))\n",
    "b = np.ones((2, 2))\n",
    "\n",
    "print('Contenuto della variabile \"a\":')\n",
    "print(a)\n",
    "\n",
    "print('\\nContenuto della variabile \"b\":')\n",
    "print(b)\n",
    "\n",
    "print('\\nImpilare verticalmente \"a\" e \"b\":')\n",
    "print(\"c = np.vstack([a, b])\")\n",
    "c = np.vstack([a, b])\n",
    "\n",
    "print('\\nContenuto della variabile \"c\":')\n",
    "print(c)"
   ]
  },
  {
   "cell_type": "markdown",
   "metadata": {},
   "source": [
    "## 2.6 Copie e viste di un array <a id=copie_viste> </a>"
   ]
  },
  {
   "cell_type": "markdown",
   "metadata": {},
   "source": [
    "### Vista (view)"
   ]
  },
  {
   "cell_type": "code",
   "execution_count": 141,
   "metadata": {},
   "outputs": [
    {
     "name": "stdout",
     "output_type": "stream",
     "text": [
      "Contenuto della variabile \"a\":\n",
      "[1. 1. 1. 1.]\n",
      "\n",
      "b = a\n",
      "\n",
      "Contenuto della variabile \"b\":\n",
      "[1. 1. 1. 1.]\n",
      "\n",
      "\"b\" è \"a\"? True\n",
      "\n",
      "Modifico \"b\"...\n",
      "\n",
      "Contenuto della variabile \"a\":\n",
      "[1. 1. 0. 1.]\n",
      "\n",
      "Contenuto della variabile \"b\":\n",
      "[1. 1. 0. 1.]\n"
     ]
    }
   ],
   "source": [
    "a = np.ones(4)\n",
    "\n",
    "print('Contenuto della variabile \"a\":')\n",
    "print(a)\n",
    "\n",
    "print(\"\\nb = a\")\n",
    "b = a\n",
    "\n",
    "print('\\nContenuto della variabile \"b\":')\n",
    "print(b)\n",
    "\n",
    "print('\\n\"b\" è \"a\"? {}'.format(b is a))\n",
    "\n",
    "print('\\nModifico \"b\"...')\n",
    "b[2] = 0\n",
    "\n",
    "print('\\nContenuto della variabile \"a\":')\n",
    "print(a)\n",
    "\n",
    "print('\\nContenuto della variabile \"b\":')\n",
    "print(b)"
   ]
  },
  {
   "cell_type": "markdown",
   "metadata": {},
   "source": [
    "### Copia (copy)"
   ]
  },
  {
   "cell_type": "code",
   "execution_count": 142,
   "metadata": {},
   "outputs": [
    {
     "name": "stdout",
     "output_type": "stream",
     "text": [
      "Contenuto della variabile \"a\":\n",
      "[1. 1. 1. 1.]\n",
      "\n",
      "b = a.copy()\n",
      "\n",
      "Contenuto della variabile \"b\":\n",
      "[1. 1. 1. 1.]\n",
      "\n",
      "\"b\" è \"a\"? False\n",
      "\n",
      "Modifico \"b\"...\n",
      "\n",
      "Contenuto della variabile \"a\":\n",
      "[1. 1. 1. 1.]\n",
      "\n",
      "Contenuto della variabile \"b\":\n",
      "[1. 1. 0. 1.]\n"
     ]
    }
   ],
   "source": [
    "a = np.ones(4)\n",
    "\n",
    "print('Contenuto della variabile \"a\":')\n",
    "print(a)\n",
    "\n",
    "print(\"\\nb = a.copy()\")\n",
    "b = a.copy()\n",
    "\n",
    "print('\\nContenuto della variabile \"b\":')\n",
    "print(b)\n",
    "\n",
    "print('\\n\"b\" è \"a\"? {}'.format(b is a))\n",
    "\n",
    "print('\\nModifico \"b\"...')\n",
    "b[2] = 0\n",
    "\n",
    "print('\\nContenuto della variabile \"a\":')\n",
    "print(a)\n",
    "\n",
    "print('\\nContenuto della variabile \"b\":')\n",
    "print(b)"
   ]
  },
  {
   "cell_type": "markdown",
   "metadata": {},
   "source": [
    "# 3. Algebra lineare <a id=algebra_lineare> </a>"
   ]
  },
  {
   "cell_type": "markdown",
   "metadata": {},
   "source": [
    "## 3.1 Operazioni di base con scalari <a id=operazioni_scalari> </a>"
   ]
  },
  {
   "cell_type": "code",
   "execution_count": 161,
   "metadata": {},
   "outputs": [
    {
     "name": "stdout",
     "output_type": "stream",
     "text": [
      "Contenuto della variabile:\n",
      "[[20 30]\n",
      " [40 50]]\n",
      "\n",
      "Divido per 10 e aggiungo 5:\n",
      "a = (a / 10) + 5\n",
      "\n",
      "Contenuto della variabile:\n",
      "[[ 7.  8.]\n",
      " [ 9. 10.]]\n"
     ]
    }
   ],
   "source": [
    "a = np.arange(20, 60, 10).reshape(2, 2)\n",
    "\n",
    "print(\"Contenuto della variabile:\")\n",
    "print(a)\n",
    "\n",
    "print(\"\\nDivido per 10 e aggiungo 5:\")\n",
    "print(\"a = (a / 10) + 5\")\n",
    "a = (a / 10) + 5\n",
    "\n",
    "print(\"\\nContenuto della variabile:\")\n",
    "print(a)"
   ]
  },
  {
   "cell_type": "markdown",
   "metadata": {},
   "source": [
    "## 3.2 Prodotto di array <a id=prodotto_array> </a>"
   ]
  },
  {
   "cell_type": "markdown",
   "metadata": {},
   "source": [
    "### `*` ([prodotto di Hadamard](https://it.wikipedia.org/wiki/Moltiplicazione_di_matrici#Costruzioni_alternative) o prodotto puntuale)"
   ]
  },
  {
   "cell_type": "code",
   "execution_count": 162,
   "metadata": {},
   "outputs": [
    {
     "name": "stdout",
     "output_type": "stream",
     "text": [
      "Contenuto della variabile \"a\":\n",
      "[[2 1]\n",
      " [0 3]]\n",
      "\n",
      "Contenuto della variabile \"b\":\n",
      "[[2 0]\n",
      " [1 3]]\n",
      "\n",
      "Prodotto di Hadamard tra \"a\" e \"b\":\n",
      "c = a * b\n",
      "\n",
      "Contenuto della variabile \"c\":\n",
      "[[4 0]\n",
      " [0 9]]\n"
     ]
    }
   ],
   "source": [
    "a = np.array(\n",
    "    [[2, 1], \n",
    "     [0, 3]]\n",
    ")\n",
    "b = np.array(\n",
    "    [[2, 0], \n",
    "     [1, 3]]\n",
    ")\n",
    "\n",
    "print('Contenuto della variabile \"a\":')\n",
    "print(a)\n",
    "\n",
    "print('\\nContenuto della variabile \"b\":')\n",
    "print(b)\n",
    "\n",
    "print('\\nProdotto di Hadamard tra \"a\" e \"b\":')\n",
    "print(\"c = a * b\")\n",
    "c = a * b\n",
    "\n",
    "print('\\nContenuto della variabile \"c\":')\n",
    "print(c)"
   ]
  },
  {
   "cell_type": "markdown",
   "metadata": {},
   "source": [
    "### Esercizio\n",
    "\n",
    "Studiare il concetto di [broadcasting](https://docs.scipy.org/doc/numpy-1.13.0/user/basics.broadcasting.html). \n",
    "Anteprima:\n",
    "> The term broadcasting describes how numpy treats arrays with different shapes during arithmetic operations. Subject to certain constraints, the smaller array is “broadcast” across the larger array so that they have compatible shapes.\n",
    "\n",
    "\n",
    "Se\n",
    "```python\n",
    "a = np.empty((2, 3, 4))\n",
    "b = np.empty((3, 4))\n",
    "c = a * b\n",
    "```\n",
    "qual è la `shape` di `c`? provare a rispondere e, solo successivamente, verificarlo scrivendo l'opportuno codice."
   ]
  },
  {
   "cell_type": "code",
   "execution_count": 229,
   "metadata": {},
   "outputs": [
    {
     "name": "stdout",
     "output_type": "stream",
     "text": [
      "Array a: \n",
      " [[[1. 1. 1. 1.]\n",
      "  [1. 1. 1. 1.]\n",
      "  [1. 1. 1. 1.]]\n",
      "\n",
      " [[1. 1. 1. 1.]\n",
      "  [1. 1. 1. 1.]\n",
      "  [1. 1. 1. 1.]]]\n",
      "\n",
      " Array b: \n",
      " [[1. 1. 1. 1.]\n",
      " [1. 1. 1. 1.]\n",
      " [1. 1. 1. 1.]]\n",
      "\n",
      " Array c: \n",
      " [[[1. 1. 1. 1.]\n",
      "  [1. 1. 1. 1.]\n",
      "  [1. 1. 1. 1.]]\n",
      "\n",
      " [[1. 1. 1. 1.]\n",
      "  [1. 1. 1. 1.]\n",
      "  [1. 1. 1. 1.]]]\n",
      "\n",
      "Forma di c:  (2, 3, 4)\n"
     ]
    }
   ],
   "source": [
    "a = np.ones((2, 3, 4))\n",
    "b = np.ones((3, 4))\n",
    "c = a * b\n",
    "\n",
    "print(\"Array a: \\n {}\".format(a))\n",
    "print(\"\\n Array b: \\n {}\".format(b))\n",
    "print(\"\\n Array c: \\n {}\".format(c))\n",
    "\n",
    "print(\"\\nForma di c: \", np.shape(c))"
   ]
  },
  {
   "cell_type": "markdown",
   "metadata": {},
   "source": [
    "### `numpy.dot()` ([prodotto scalare](https://it.wikipedia.org/wiki/Prodotto_scalare) o [prodotto matriciale](https://it.wikipedia.org/wiki/Moltiplicazione_di_matrici) se `ndim` è uguale a 2)"
   ]
  },
  {
   "cell_type": "code",
   "execution_count": 184,
   "metadata": {},
   "outputs": [
    {
     "name": "stdout",
     "output_type": "stream",
     "text": [
      "Contenuto della variabile \"a\":\n",
      "[[2 1]\n",
      " [0 3]]\n",
      "\n",
      "Contenuto della variabile \"b\":\n",
      "[[2 0]\n",
      " [1 3]]\n",
      "\n",
      "Prodotto scalare tra \"a\" e \"b\":\n",
      "c = np.dot(a, b)\n",
      "\n",
      "Contenuto della variabile \"c\":\n",
      "[[5 3]\n",
      " [3 9]]\n"
     ]
    }
   ],
   "source": [
    "a = np.array(\n",
    "    [[2, 1], \n",
    "     [0, 3]]\n",
    ")\n",
    "b = np.array(\n",
    "    [[2, 0], \n",
    "     [1, 3]]\n",
    ")\n",
    "\n",
    "print('Contenuto della variabile \"a\":')\n",
    "print(a)\n",
    "\n",
    "print('\\nContenuto della variabile \"b\":')\n",
    "print(b)\n",
    "\n",
    "print('\\nProdotto scalare tra \"a\" e \"b\":')\n",
    "print(\"c = np.dot(a, b)\")\n",
    "c = np.dot(a, b) # equivalente a: c = a.dot(b)\n",
    "\n",
    "print('\\nContenuto della variabile \"c\":')\n",
    "print(c)"
   ]
  },
  {
   "cell_type": "markdown",
   "metadata": {},
   "source": [
    "### Esercizio\n",
    "\n",
    "Sia \n",
    "```python\n",
    "a = np.array(\n",
    "    [[0, -1],\n",
    "     [1, 2]]\n",
    ")\n",
    "```\n",
    "1. Calcolare l'inversa di $a$ utilizzando la funzione `numpy.linalg.inv()`.\n",
    "2. Verificare che la matrice ottenuta sia effettivamente l'inversa di $a$ facendo il prodotto (quale?) tra le due matrici."
   ]
  },
  {
   "cell_type": "code",
   "execution_count": null,
   "metadata": {},
   "outputs": [],
   "source": []
  },
  {
   "cell_type": "markdown",
   "metadata": {},
   "source": [
    "# 4. Funzioni <a id=funzioni> </a>"
   ]
  },
  {
   "cell_type": "markdown",
   "metadata": {},
   "source": [
    "## 4.1 Funzioni matematiche <a id=funzioni_matematiche> </a>"
   ]
  },
  {
   "cell_type": "markdown",
   "metadata": {},
   "source": [
    "### `numpy.sin()`"
   ]
  },
  {
   "cell_type": "code",
   "execution_count": 189,
   "metadata": {},
   "outputs": [
    {
     "name": "stdout",
     "output_type": "stream",
     "text": [
      "Contenuto della variabile:\n",
      "[[0.         0.52359878]\n",
      " [1.04719755 1.57079633]]\n",
      "\n",
      "Seno degli elementi dell'array:\n",
      "a = np.sin(a)\n",
      "\n",
      "Contenuto della variabile:\n",
      "[[0.   0.5 ]\n",
      " [0.87 1.  ]]\n"
     ]
    }
   ],
   "source": [
    "a = np.array(\n",
    "    [[0, np.pi / 6],\n",
    "     [np.pi / 3, np.pi / 2]]\n",
    ")\n",
    "\n",
    "print(\"Contenuto della variabile:\")\n",
    "print(a)\n",
    "\n",
    "print(\"\\nSeno degli elementi dell'array:\")\n",
    "print(\"a = np.sin(a)\")\n",
    "a = np.sin(a)\n",
    "\n",
    "print(\"\\nContenuto della variabile:\")\n",
    "print(a.round(2))"
   ]
  },
  {
   "cell_type": "markdown",
   "metadata": {},
   "source": [
    "### `numpy.cos()`"
   ]
  },
  {
   "cell_type": "code",
   "execution_count": 190,
   "metadata": {},
   "outputs": [
    {
     "name": "stdout",
     "output_type": "stream",
     "text": [
      "Contenuto della variabile:\n",
      "[[0.         0.52359878]\n",
      " [1.04719755 1.57079633]]\n",
      "\n",
      "Coseno degli elementi dell'array:\n",
      "a = np.cos(a)\n",
      "\n",
      "Contenuto della variabile:\n",
      "[[1.   0.87]\n",
      " [0.5  0.  ]]\n"
     ]
    }
   ],
   "source": [
    "a = np.array(\n",
    "    [[0, np.pi / 6],\n",
    "     [np.pi / 3, np.pi / 2]]\n",
    ")\n",
    "\n",
    "print(\"Contenuto della variabile:\")\n",
    "print(a)\n",
    "\n",
    "print(\"\\nCoseno degli elementi dell'array:\")\n",
    "print(\"a = np.cos(a)\")\n",
    "a = np.cos(a)\n",
    "\n",
    "print(\"\\nContenuto della variabile:\")\n",
    "print(a.round(2))"
   ]
  },
  {
   "cell_type": "markdown",
   "metadata": {},
   "source": [
    "### Esercizio\n",
    "\n",
    "Creare nuovi esempi utilizzando le funzioni `numpy.exp()`,  `numpy.log()`,  `numpy.sqrt()`."
   ]
  },
  {
   "cell_type": "code",
   "execution_count": null,
   "metadata": {},
   "outputs": [],
   "source": []
  },
  {
   "cell_type": "markdown",
   "metadata": {},
   "source": [
    "### Esercizio\n",
    "\n",
    "Siano\n",
    "```python\n",
    "a = np.array([np.cos(np.pi / 6), np.sin(np.pi / 6)])\n",
    "b = np.array([np.cos(np.pi / 3), np.sin(np.pi / 3)])\n",
    "```\n",
    "1. Ispezionare la funzione  `grafico_due_vettori` in `msbd/grafici/arrays.py`.\n",
    "2. Verificare che $a \\cdot b = |a| \\times |b| \\times \\cos(\\theta)$, con $\\theta$ angolo tra i due vettori.\n",
    "\n",
    "> Suggerimento: per $|\\cdot|$ vedere `np.linalg.norm()`."
   ]
  },
  {
   "cell_type": "code",
   "execution_count": 195,
   "metadata": {
    "scrolled": true
   },
   "outputs": [
    {
     "data": {
      "image/png": "[encoded data removed]",
      "text/plain": [
       "<Figure size 288x288 with 1 Axes>"
      ]
     },
     "metadata": {
      "needs_background": "light"
     },
     "output_type": "display_data"
    }
   ],
   "source": [
    "from msbd.grafici import grafico_due_vettori\n",
    "\n",
    "a = np.array([np.cos(np.pi / 6), np.sin(np.pi / 6)])\n",
    "b = np.array([np.cos(np.pi / 3), np.sin(np.pi / 3)])\n",
    "\n",
    "plt.figure(figsize=(4, 4))\n",
    "\n",
    "grafico_due_vettori(a, b)\n",
    "\n",
    "plt.show()"
   ]
  },
  {
   "cell_type": "code",
   "execution_count": null,
   "metadata": {},
   "outputs": [],
   "source": []
  },
  {
   "cell_type": "markdown",
   "metadata": {},
   "source": [
    "## 4.2 Applicare una funzione lungo un asse <a id=funzioni_asse> </a>"
   ]
  },
  {
   "cell_type": "markdown",
   "metadata": {},
   "source": [
    "### Su tutti gli assi"
   ]
  },
  {
   "cell_type": "code",
   "execution_count": 198,
   "metadata": {},
   "outputs": [
    {
     "name": "stdout",
     "output_type": "stream",
     "text": [
      "Contenuto della variabile:\n",
      "[[-1  1]\n",
      " [-1  1]]\n",
      "\n",
      "Media su tutti gli assi (np.mean(a)):\n",
      "0.0\n"
     ]
    }
   ],
   "source": [
    "a = np.array(\n",
    "    [[-1, 1],\n",
    "     [-1, 1]]\n",
    ")\n",
    "\n",
    "print(\"Contenuto della variabile:\")\n",
    "print(a)\n",
    "\n",
    "print(\"\\nMedia su tutti gli assi (np.mean(a)):\")\n",
    "print(np.mean(a)) # equivalente a: a.mean()"
   ]
  },
  {
   "cell_type": "markdown",
   "metadata": {},
   "source": [
    "### Lungo il primo/secondo asse"
   ]
  },
  {
   "cell_type": "code",
   "execution_count": 203,
   "metadata": {},
   "outputs": [
    {
     "name": "stdout",
     "output_type": "stream",
     "text": [
      "Contenuto della variabile:\n",
      "[[-1  1]\n",
      " [-1  1]]\n",
      "\n",
      "Media lungo il primo asse/per colonne (np.mean(a, axis=0)):\n",
      "[-1.  1.]\n",
      "\n",
      "Media lungo il secondo asse/per righe (np.mean(a, axis=1)):\n",
      "[0. 0.]\n"
     ]
    }
   ],
   "source": [
    "a = np.array(\n",
    "    [[-1, 1],\n",
    "     [-1, 1]]\n",
    ")\n",
    "\n",
    "print(\"Contenuto della variabile:\")\n",
    "print(a)\n",
    "\n",
    "print(\"\\nMedia lungo il primo asse/per colonne (np.mean(a, axis=0)):\")\n",
    "print(np.mean(a, axis=0)) # equivalente a: a.mean(axis=0)\n",
    "\n",
    "print(\"\\nMedia lungo il secondo asse/per righe (np.mean(a, axis=1)):\")\n",
    "print(np.mean(a, axis=1)) # equivalente a: a.mean(axis=1)"
   ]
  },
  {
   "cell_type": "markdown",
   "metadata": {},
   "source": [
    "## Esercizio\n",
    "\n",
    "Sia\n",
    "```python\n",
    "a = np.array(\n",
    "    [\n",
    "        [[1, 2],\n",
    "         [3, 4]],\n",
    "        [[1, 2],\n",
    "         [3, 4]],\n",
    "        [[1, 2],\n",
    "         [3, 4]],\n",
    "    ]\n",
    ")\n",
    "```\n",
    "Calcolare la media prima lungo il primo, poi lungo il secondo e infine lungo terzo asse."
   ]
  },
  {
   "cell_type": "code",
   "execution_count": 218,
   "metadata": {},
   "outputs": [
    {
     "name": "stdout",
     "output_type": "stream",
     "text": [
      "Dimensioni di a:  3 \n",
      "\n",
      "Forma di a:  (3, 2, 2) \n",
      "\n",
      "Media lungo il primo asse:\n",
      " [[1. 2.]\n",
      " [3. 4.]] \n",
      "\n",
      "Media lungo il secondo asse:\n",
      " [[2. 3.]\n",
      " [2. 3.]\n",
      " [2. 3.]] \n",
      "\n",
      "Media lungo il terzo asse:\n",
      " [[1.5 3.5]\n",
      " [1.5 3.5]\n",
      " [1.5 3.5]] \n",
      "\n"
     ]
    }
   ],
   "source": [
    "a = np.array(\n",
    "    [\n",
    "        [[1, 2],\n",
    "         [3, 4]],\n",
    "        [[1, 2],\n",
    "         [3, 4]],\n",
    "        [[1, 2],\n",
    "         [3, 4]],\n",
    "    ]\n",
    ")\n",
    "# a è un array a 3 dimensioni:\n",
    "print(\"Dimensioni di a: \", a.ndim, \"\\n\")\n",
    "print(\"Forma di a: \", a.shape, \"\\n\")\n",
    "\n",
    "print(\"Media lungo il primo asse:\\n {} \\n\".format(a.mean(axis=0)))\n",
    "print(\"Media lungo il secondo asse:\\n {} \\n\".format(a.mean(axis=1)))\n",
    "print(\"Media lungo il terzo asse:\\n {} \\n\".format(a.mean(axis=2)))"
   ]
  }
 ],
 "metadata": {
  "kernelspec": {
   "display_name": "Python 3",
   "language": "python",
   "name": "python3"
  },
  "language_info": {
   "codemirror_mode": {
    "name": "ipython",
    "version": 3
   },
   "file_extension": ".py",
   "mimetype": "text/x-python",
   "name": "python",
   "nbconvert_exporter": "python",
   "pygments_lexer": "ipython3",
   "version": "3.7.4"
  }
 },
 "nbformat": 4,
 "nbformat_minor": 2
}
