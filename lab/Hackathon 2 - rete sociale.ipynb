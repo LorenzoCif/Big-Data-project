{
 "cells": [
  {
   "cell_type": "markdown",
   "metadata": {},
   "source": [
    "## 1. Descrizione del problema"
   ]
  },
  {
   "cell_type": "markdown",
   "metadata": {},
   "source": [
    "Si vuole creare una **rete sociale** che metta in relazione diversi autori di pubblicazioni scientifiche (docenti, assegnisti, dottorandi e professori emeriti afferenti al Dipartimento di Statistica). La forza della loro relazione (peso di ciascun arco) sarà determinata in base al numero di pubblicazioni fatte assieme.\n",
    "\n",
    "La lista degli autori si otterrà mediante *web scraping* di alcune tabelle contenute nelle pagine web del [sito del Dipartimento di Scienze Statistiche](https://www.stat.unipd.it/). I dati ottenuti possono essere \"sporchi\" ed avere bisogno di essere filtrati e/o trattati.\n",
    "\n",
    "Una volta realizzato il grafo, vogliamo ottenere alcuni indici per descrivere i nodi e il grafo stesso."
   ]
  },
  {
   "cell_type": "markdown",
   "metadata": {},
   "source": [
    "## 2. Web scraping dei dati"
   ]
  },
  {
   "cell_type": "code",
   "execution_count": 1,
   "metadata": {},
   "outputs": [],
   "source": [
    "import urllib.request\n",
    "from bs4 import BeautifulSoup\n",
    "import re\n",
    "import itertools\n",
    "import pandas as pd"
   ]
  },
  {
   "cell_type": "markdown",
   "metadata": {},
   "source": [
    "La funzione `pulisci_stringa` serve a rimuovere tutti i caratteri \"non alfanumerici\" da ciascuna stringa di testo."
   ]
  },
  {
   "cell_type": "code",
   "execution_count": 2,
   "metadata": {},
   "outputs": [],
   "source": [
    "def pulisci_stringa(x):\n",
    "    if x is None or x.strip()==\"\":\n",
    "        return None\n",
    "    x = re.sub('[^0-9a-zA-Z_ ]+', ' ', x.title().strip())\n",
    "    return(x)"
   ]
  },
  {
   "cell_type": "markdown",
   "metadata": {},
   "source": [
    "### 2.1 Lista dei docenti"
   ]
  },
  {
   "cell_type": "code",
   "execution_count": 116,
   "metadata": {},
   "outputs": [],
   "source": [
    "url = \"https://www.stat.unipd.it/dipartimento/docenti\"\n",
    "page = urllib.request.urlopen(url)\n",
    "soup = BeautifulSoup(page, \"lxml\")\n",
    "\n",
    "elem_docenti = soup.findAll(attrs={\"target\" : \"_blank\"})\n",
    "\n",
    "lista_docenti = []\n",
    "for elem in elem_docenti:\n",
    "    lista_docenti.append(elem.string)\n",
    "\n",
    "lista_docenti = [pulisci_stringa(nome) for nome in lista_docenti if nome is not None and nome != 'home' ]"
   ]
  },
  {
   "cell_type": "code",
   "execution_count": 117,
   "metadata": {},
   "outputs": [
    {
     "data": {
      "text/plain": [
       "['Adimari Gianfranco',\n",
       " 'Barbiera Irene',\n",
       " 'Bassi Francesca',\n",
       " 'Bernardi Mauro',\n",
       " 'Bille  Anna Gloria',\n",
       " 'Bisaglia Luisa',\n",
       " 'Boccuzzo Giovanna',\n",
       " 'Bolzan Mario',\n",
       " 'Brazzale Alessandra Rosalba',\n",
       " 'Canale Antonio',\n",
       " 'Capizzi Giovanna',\n",
       " 'Caporin Massimiliano',\n",
       " 'Castiglioni Maria',\n",
       " 'Cattelan Manuela',\n",
       " 'Celant Giorgio',\n",
       " 'Cesaroni Annalisa',\n",
       " 'Clerici Renata',\n",
       " 'Cortese Giuliana',\n",
       " 'Dalla Valle Alessandra',\n",
       " 'Dalla Zuanna Gianpiero',\n",
       " 'Di Fonzo Tommaso',\n",
       " 'Furlan Claudia',\n",
       " 'Giraldo Anna',\n",
       " 'Grigoletto Matteo',\n",
       " 'Guidolin Mariangela',\n",
       " 'Guolo Annamaria',\n",
       " 'Kenne Pagui Euloge Clovis',\n",
       " 'Lisi Francesco',\n",
       " 'Masarotto Guido',\n",
       " 'Mazzuco Stefano',\n",
       " 'Meggiolaro Silvia',\n",
       " 'Menardi Giovanna',\n",
       " 'Mortarino Cinzia',\n",
       " 'Ongaro Fausta',\n",
       " 'Paccagnella Omar',\n",
       " 'Paggiaro Adriano',\n",
       " 'Risso  Davide',\n",
       " 'Roverato  Alberto',\n",
       " 'Ruli Erlis',\n",
       " 'Salvan Alessandra',\n",
       " 'Sartori Nicola',\n",
       " 'Scarpa Bruno',\n",
       " 'Scioni Manuela',\n",
       " 'Tanturri Maria Letizia',\n",
       " 'Tonolo Alberto',\n",
       " 'Ventura Laura']"
      ]
     },
     "execution_count": 117,
     "metadata": {},
     "output_type": "execute_result"
    }
   ],
   "source": [
    "lista_docenti"
   ]
  },
  {
   "cell_type": "markdown",
   "metadata": {},
   "source": [
    "### 2.2 Lista degli assegnisti di ricerca"
   ]
  },
  {
   "cell_type": "markdown",
   "metadata": {},
   "source": [
    "Suggerimento: iterare le righe della prima tabella della pagina `soup.findAll('table')[0].tbody.findAll('tr')`.\n",
    "\n",
    "Per identificare il campo da cui leggere nome e cognome del ricercatore, aiutarsi stampando il contenuto di una riga della tabella, ad esempio: \n",
    "\n",
    "`print(soup.findAll('table')[0].tbody.findAll('tr')[0])`."
   ]
  },
  {
   "cell_type": "code",
   "execution_count": 234,
   "metadata": {},
   "outputs": [],
   "source": [
    "url = \"https://www.stat.unipd.it/fare-ricerca/assegnisti\"\n",
    "page = urllib.request.urlopen(url)\n",
    "soup = BeautifulSoup(page, \"lxml\")\n",
    "\n",
    "elem_assegnisti = soup.findAll('table')[0].tbody.findAll('tr')\n",
    "\n",
    "lista_assegnisti = []\n",
    "for elem in elem_assegnisti:\n",
    "        lista_assegnisti.append(elem.span.string)\n",
    "\n",
    "lista_assegnisti = [pulisci_stringa(nome) for nome in lista_assegnisti if nome is not None]"
   ]
  },
  {
   "cell_type": "code",
   "execution_count": 235,
   "metadata": {},
   "outputs": [
    {
     "name": "stdout",
     "output_type": "stream",
     "text": [
      "['Righelli Dario', 'Aliverti Emanuele', 'Ferraccioli Federico', 'Nguyen Thi Kim Hue', 'Parise Nicoletta', 'Stefanucci Marco', 'To Duc Khanh', 'Silan Margherita', 'Sottosanti Andrea', 'Poli Francesco']\n"
     ]
    }
   ],
   "source": [
    "print(lista_assegnisti)"
   ]
  },
  {
   "cell_type": "markdown",
   "metadata": {},
   "source": [
    "### 2.3 Lista dei dottorandi"
   ]
  },
  {
   "cell_type": "code",
   "execution_count": 94,
   "metadata": {},
   "outputs": [
    {
     "name": "stdout",
     "output_type": "stream",
     "text": [
      "Ahmad Tougeer\n",
      "Alfonzetti Giuseppe\n",
      "Banzato Erika\n",
      "Belloni Pietro\n",
      "Nicolas Bianco\n",
      "Castiglione Cristian\n",
      "Girardi Marco\n",
      "Huang Caizhu\n",
      "Setoudeh Fariborz\n",
      "D'Angelo Laura\n",
      "De Nicolò Silvia\n",
      "Degani Emanuele\n",
      "None\n",
      "None\n",
      "None\n",
      "None\n",
      "None\n",
      "None\n",
      "None\n",
      "Angela Andreella\n",
      "Gagliardi Alessandro\n",
      "Lambardi di San Miniato Michele\n",
      "Liu Shaowen\n",
      "Malenje Bonface\n",
      "Musau Victor\n",
      "Pesantez Cabrera Tania Erika\n"
     ]
    },
    {
     "ename": "AttributeError",
     "evalue": "'NoneType' object has no attribute 'string'",
     "output_type": "error",
     "traceback": [
      "\u001b[1;31m---------------------------------------------------------------------------\u001b[0m",
      "\u001b[1;31mAttributeError\u001b[0m                            Traceback (most recent call last)",
      "\u001b[1;32m<ipython-input-94-e501e0f3883d>\u001b[0m in \u001b[0;36m<module>\u001b[1;34m\u001b[0m\n\u001b[0;32m      7\u001b[0m \u001b[0mlista_dottorandi\u001b[0m \u001b[1;33m=\u001b[0m \u001b[1;33m[\u001b[0m\u001b[1;33m]\u001b[0m\u001b[1;33m\u001b[0m\u001b[1;33m\u001b[0m\u001b[0m\n\u001b[0;32m      8\u001b[0m \u001b[1;32mfor\u001b[0m \u001b[0melem\u001b[0m \u001b[1;32min\u001b[0m \u001b[0melem_dottorandi\u001b[0m\u001b[1;33m:\u001b[0m\u001b[1;33m\u001b[0m\u001b[1;33m\u001b[0m\u001b[0m\n\u001b[1;32m----> 9\u001b[1;33m         \u001b[0mprint\u001b[0m\u001b[1;33m(\u001b[0m\u001b[0melem\u001b[0m\u001b[1;33m.\u001b[0m\u001b[0ma\u001b[0m\u001b[1;33m.\u001b[0m\u001b[0mstring\u001b[0m\u001b[1;33m)\u001b[0m\u001b[1;33m\u001b[0m\u001b[1;33m\u001b[0m\u001b[0m\n\u001b[0m\u001b[0;32m     10\u001b[0m \u001b[1;33m\u001b[0m\u001b[0m\n\u001b[0;32m     11\u001b[0m \u001b[1;31m#lista_dottorandi = [pulisci_stringa(nome) for nome in lista_dottrandi if nome is not None]\u001b[0m\u001b[1;33m\u001b[0m\u001b[1;33m\u001b[0m\u001b[1;33m\u001b[0m\u001b[0m\n",
      "\u001b[1;31mAttributeError\u001b[0m: 'NoneType' object has no attribute 'string'"
     ]
    }
   ],
   "source": [
    "url = \"https://www.stat.unipd.it/fare-ricerca/people-cicli-attivi\"\n",
    "page = urllib.request.urlopen(url)\n",
    "soup = BeautifulSoup(page, \"lxml\")\n",
    "\n",
    "elem_dottorandi = soup.findAll('table')[0].tbody.findAll('tr')\n",
    "\n",
    "lista_dottorandi = []\n",
    "for elem in elem_dottorandi:\n",
    "        print(elem.a.string)\n",
    "\n",
    "lista_dottorandi = [pulisci_stringa(nome) for nome in lista_dottrandi if nome is not None]"
   ]
  },
  {
   "cell_type": "markdown",
   "metadata": {},
   "source": [
    "### (facoltativo) 2.4 Lista dei professori emeriti"
   ]
  },
  {
   "cell_type": "code",
   "execution_count": null,
   "metadata": {},
   "outputs": [],
   "source": []
  },
  {
   "cell_type": "markdown",
   "metadata": {},
   "source": [
    "Suggerimento: iterare le celle della tabella `soup.findAll('td', class_=\"tab_dctv\")`.\n",
    "Escludere dalla lista i nomi non validi: stringhe vuote ed indirizzi mail."
   ]
  },
  {
   "cell_type": "code",
   "execution_count": null,
   "metadata": {},
   "outputs": [],
   "source": [
    "url = \"https://www.stat.unipd.it/dipartimento/professori-emeriti\"\n",
    "# ...\n",
    "\n",
    "lista_emeriti = []\n",
    "for row in soup.findAll('td', class_=\"tab_dctv\"):\n",
    "    # ...\n",
    "    #lista_emeriti += [...]\n",
    "\n",
    "lista_emeriti = [pulisci_stringa(nome) for nome in lista_emeriti if nome is not None]"
   ]
  },
  {
   "cell_type": "markdown",
   "metadata": {},
   "source": [
    "### (facoltativo) 2.5 Lista degli studiosi senior"
   ]
  },
  {
   "cell_type": "code",
   "execution_count": null,
   "metadata": {},
   "outputs": [],
   "source": [
    "url = \"https://www.stat.unipd.it/dipartimento/studiosi-senior\"\n",
    "# ..."
   ]
  },
  {
   "cell_type": "markdown",
   "metadata": {},
   "source": [
    "### 2.6 Assemblare tutte le liste"
   ]
  },
  {
   "cell_type": "markdown",
   "metadata": {},
   "source": [
    "Tutti gli autori ottenuti nelle operazioni precedenti vanno inseriti in un'unica lista, rimuovendo i valori nulli."
   ]
  },
  {
   "cell_type": "code",
   "execution_count": 239,
   "metadata": {},
   "outputs": [],
   "source": [
    "lista_autori = lista_docenti"
   ]
  },
  {
   "cell_type": "markdown",
   "metadata": {},
   "source": [
    "### 2.7 Ottenere la lista delle pubblicazioni"
   ]
  },
  {
   "cell_type": "markdown",
   "metadata": {},
   "source": [
    "Per scaricare la lista delle pubblicazioni, interroghiamo il motore di ricerca [Padua Research Archive](https://www.research.unipd.it/simple-search) su piattaforma IRIS (Institutional Research Information System).\n",
    "\n",
    "Facendo una ricerca (ad esempio per autore: \"Mario Rossi\"), il sistema genera una URL che è possibile parametrizzare per altre ricerche simili: `https://www.research.unipd.it/simple-search?query=mario+rossi&rpp=10&sort_by=score&order=desc`.\n",
    "\n",
    "Utilizzeremo questa proprietà per scaricare le pubblicazioni degli autori raccolti fino a questo punto, sostituendo nell'URL la stringa `\"mario+rossi\"`."
   ]
  },
  {
   "cell_type": "code",
   "execution_count": 170,
   "metadata": {},
   "outputs": [
    {
     "name": "stderr",
     "output_type": "stream",
     "text": [
      "100%|██████████████████████████████████████████████████████████████████████████████| 1035/1035 [06:44<00:00,  2.56it/s]\n"
     ]
    }
   ],
   "source": [
    "from tqdm import tqdm\n",
    "\n",
    "# scraping della ricerca su https://www.research.unipd.it\n",
    "url_template = \"https://www.research.unipd.it/simple-search?query=%22{}%22&rpp=100&sort_by=bi_sort_2_sort&order=desc\"\n",
    "    \n",
    "# ... una volta ottenuta la lista degli autori, che possono essere più di 2, posso usare questa funzione\n",
    "# per avere la combinazione a gruppi di 2\n",
    "combinazioni_autori = [pair for pair in itertools.combinations(lista_autori, 2)]\n",
    "lista_pubblicazioni = []\n",
    "lista_pubblicazioni2 = []\n",
    "for comb in tqdm(combinazioni_autori):\n",
    "    lista_pubblicazioni2 = []\n",
    "    url = url_template.format((comb[0] + \" \" + comb[1]).replace(\" \",\"+\"))\n",
    "    page = urllib.request.urlopen(url)\n",
    "    soup = BeautifulSoup(page, \"lxml\")\n",
    "    elementi = soup.findAll('tr')\n",
    "    for elem in elementi:\n",
    "        lista_pubblicazioni2.append(elem.a.string)\n",
    "        lista_pubblicazioni2 = [pulisci_stringa(nome) for nome in lista_pubblicazioni2 if nome is not None]  \n",
    "    lista_pubblicazioni.append(lista_pubblicazioni2)\n",
    " "
   ]
  },
  {
   "cell_type": "code",
   "execution_count": 132,
   "metadata": {},
   "outputs": [],
   "source": [
    "lista_pubblicazioni = []\n",
    "url = url_template.format((combinazioni_autori[44][0] + \" \" + combinazioni_autori[44][1]).replace(\" \",\"+\"))\n",
    "page = urllib.request.urlopen(url)\n",
    "soup = BeautifulSoup(page, \"lxml\")\n",
    "elementi = soup.findAll('tr')\n",
    "for elem in elementi:\n",
    "    lista_pubblicazioni.append(elem.a.string)\n",
    "lista_pubblicazioni = [pulisci_stringa(nome) for nome in lista_pubblicazioni if nome is not None]"
   ]
  },
  {
   "cell_type": "code",
   "execution_count": 173,
   "metadata": {},
   "outputs": [
    {
     "name": "stdout",
     "output_type": "stream",
     "text": [
      "[[], [], [], [], [], [], [], [], [], [], [], [], [], [], [], [], [], [], [], [], [], [], [], [], ['A Note On The Asymptotic Behaviour Of Empirical Likelihood Statistics', 'Una Nota Sul Comportamento Asintotico Della Statistica Di Verosimiglianza Empirica '], [], [], [], [], [], [], [], [], [], [], [], [], [], [], [], [], [], [], [], ['Quasi Likelihood From M Estimators  A Numerical Comparison With Empirical Likelihood', 'Quasi Profile Log Likelihoods For Unbiased Estimating Functions', 'Quasi Likelihood From M Estimators  A Numerical Comparison With Empirical Likelihood', 'Robust Inference For Generalized Linear Models With Application To Logistic Regression', 'On The Robust Inference For Generalized Linear Models'], [], [], [], [], [], [], [], [], [], [], ['A Synthetic Measure Of Mortality Using Skeletal Data From Ancient Cemeteries  The D Index', 'Missing Women In The Italian Middle Ages  Data And Interpretation', 'Missing Women In The Italian Middle Ages  Data And Interpretation', 'Why Paleodemography', 'La Mortalit  Ai Tempi Della Peste Nera  Indagine Paleodemografica Dell Italia Di Xiv Secolo '], [], [], [], [], [], [], ['Population Dynamics In Italy In The Middle Ages  New Insights From Archaeological Findings', 'Le Dinamiche Di Popolazione Dell Italia Medievale  Nuovi Riscontri Su Documenti E Reperti Archeologici'], [], [], [], [], [], [], [], [], [], [], [], [], [], [], [], [], [], [], [], [], [], [], [], [], [], [], [], [], [], [], [], [], [], [], [], [], [], [], [], ['Evaluating Students Satisfaction At University  The Opportunities Offered By Latent Class Modeling', 'Valutare Per Migliorare L Insegnamento', 'Students  Evaluation Of Teaching At A Large Italian University  Validation Of Measurement Scale', 'Tools For Teaching Assessment At Padua University  Role  Development And Validation  Prodid Project    Teacher Professional Development And Academic Educational Innovation    Report Of The Research Unit N 3   Lo Strumento Dell Universit  Di Padova Per La Valutazione Della Didattica  Funzione  Evoluzione E Validazione  Progetto Prodid   Preparazione Alla Professionalit  Docente E Innovazione Didattica   Rapporto Dell Unit  Di Ricerca N 3 '], [], [], [], [], [], ['Transizioni E Mobilit   Nel Mercato Del Lavoro Italiano  1979 2003'], [], ['Green Jobs And Green Skills As A Driver Of Circular Economy For European Smes'], [], [], [], [], [], [], [], [], [], [], [], [], [], [], [], [], ['Latent Class Modeling Of Markers Of Day Specific Fertility', 'Latent Class Models Of Markers Of Day Specific Fertility'], [], [], [], [], [], [], [], [], [], [], [], [], [], [], [], [], [], [], [], [], [], [], [], [], [], [], [], [], [], [], [], [], [], [], [], [], [], [], [], [], [], [], [], [], [], [], [], [], [], [], [], [], [], [], [], [], [], [], [], [], [], [], [], [], [], [], [], [], [], [], [], [], [], [], [], [], [], [], [], [], [], [], [], [], [], [], [], [], [], [], ['Bayesian Nonparametric Forecasting For Inar Models'], [], [], [], [], [], [], [], [], [], [], [], [], [], ['Tyme Varying Long Memory Processes', 'Prediction Intervals For Farima Processes By Bootstrap Methods', 'Forecasting Long Memory Processes'], [], [], [], [], [], [], [], [], [], [], [], [], [], [], [], [], [], [], [], [], [], [], ['Alcune Scene  Statistiche  Sulla Famiglia Di Ieri E Di Oggi'], [], [], [], [], [], [], [], [], [], [], [], [], [], [], [], [], [], [], [], [], [], [], [], [], [], [], [], ['Facets Of Graduates  Job Satisfaction', 'Le Determinanti Della Soddisfazione Per Il Lavoro Dopo La Laurea'], [], [], [], [], [], [], [], [], [], [], [], [], [], [], [], [], [], [], [], [], [], [], [], [], [], [], [], [], [], [], [], [], [], [], [], [], [], [], [], [], [], [], [], [], [], [], [], [], [], [], [], [], [], [], [], [], [], [], [], [], [], [], [], [], [], [], [], [], [], [], [], [], [], [], [], [], [], [], ['Improved Inference On A Scalar Fixed Effect Of Interest In Nonlinear Mixed Effects Models'], [], [], [], [], [], ['Considerazioni Pratiche Sugli Stimatori Di Tipo M Ottimali', 'Hampel Estimation For Extreme Value Distributions', 'How Robust Is Conditional Inference', 'Adjusted Quasi Profile Likelihoods And Robustness'], [], [], [], [], [], [], [], [], [], [], [], [], [], [], ['A Night Of Statistics  Problem Solving  And Teamwork'], [], ['Bayesian Modeling Of University First Year Students  Grades After Placement Test'], [], [], [], [], [], [], [], [], [], [], [], [], [], [], ['Bayesian Nonparametric Location Scale Shape Mixtures', 'Age Specific Probability Of Childbirth  Smoothing Via Bayesian Nonparametric Mixture Of Rounded Kernels', 'Informative Bayesian Inference For Skew Normal Distribution'], [], [], [], [], [], [], [], [], [], [], [], [], [], [], [], [], [], [], [], [], [], ['Phase I Distribution Free Analysis With The R Package Dfphase1', 'Phase I Distribution Free Analysis Of Multivariate Data', 'Efficient Control Chart Calibration By Simulated Stochastic Approximation', 'An Empirical Bayes Approach For Detecting Changes In The Basal Body Temperature', 'Phase I Distribution Free Analysis With The R Package Dfphase1', 'Comparison Of Phase Ii Control Charts Based On Variable Selection Methods', 'Efficient Control Chart Calibration By Simulated Stochastic Approximation', 'Phase I Distribution Free Analysis Of Univariate Data', 'Permutation Based Design Of The Phase I X Control Chart  With Or Without Supplementary Run Rules', 'Adaptive Generalized Likelihood Ratio Control Charts For Detecting Unknown Patterned Mean Shifts', 'An Enhanced Control Chart For Start Up Processes And Short Runs', 'Nonparametric Design Of Phase I X Control Charts With Or Without Sensitizing Run Rules', 'A Least Angle Regression Control Chart For Multidimensional Data', 'A Least Angle Regression Control Chart For Multivariate Data', 'Linear Profile Monitoring Using An Adaptive Ewma Control Chart', 'Evaluation Of The Run Length Distribution For A Combined Shewhart Ewma Control Chart', 'Self Starting Cuscore Control Charts For Individual Multivariate Observations', 'Combined Shewhart Ewma Control Charts With Estimated Parameters', 'An Enhanced Control Chart For Start Up Processes And Short Runs', 'Bootstrap Based Design Of Residual Control Charts', 'An Enhanced Residual Mewma Control Chart For Monitoring Autocorrelated Data', 'Practical Design Of Generalized Likelihood Ratio Control Charts For Autocorrelated Data', 'The Ewmast Control Charts With Estimated Limits  Properties And Recommendations', 'Bootstrap Design Of Control Charts For Autocorrelated Data', 'An Adaptive Exponentially Weighted Moving Average Control Chart', 'Calibrazione Di Una Carta Di Controllo Mediante Approssimazione Stocastica', 'Alcuni Miglioramenti Degli Schemi Di Controllo Sets E Cuscore', 'Una Carta Di Controllo Di Tipo Ewma Con Pesi Adattivi'], [], [], [], [], [], [], [], [], [], [], [], [], [], [], [], [], [], [], [], [], [], [], [], [], [], [], [], [], [], [], [], [], ['A Conditional Single Index Model With Local Covariates For Detecting And Evaluating Active Portfolio Management', 'Comparing And Selecting Performance Measures Using Rank Correlations', 'Misspecification Tests For Periodic Long Memory Garch Models', 'Periodic Long Memory Garch Models', 'Generalised Long Memory Garch Models For Intra Daily Volatility', 'Misspecification Tests For Periodic Long Memory Garch Models', 'Sfigarch  A Seasonal Long Memory Garch Model'], [], [], [], [], [], [], [], [], [], [], [], [], [], [], [], [], [], [], [], [], [], ['Condizioni Personali E Familiari Degli Anziani In Casa Di Riposo  Due Istituzioni Venete', 'Condizioni Personali E Familiari Degli Anziani In Casa Di Riposo  Due Istituzioni Venete'], [], [], ['Controlled Impact Evaluation Of A Birth Registration Intervention  Burkina Faso', 'A Synthetic Measure Of Mortality Using Skeletal Data From Ancient Cemeteries  The D Index', 'La Famiglia   In Crisi   Falso', 'Missing Women In The Italian Middle Ages  Data And Interpretation', 'Missing Women In The Italian Middle Ages  Data And Interpretation', 'Why Paleodemography', 'La Mortalit  Ai Tempi Della Peste Nera  Indagine Paleodemografica Dell Italia Di Xiv Secolo', 'Spread Of Cohabitation And Proximity Between Kin In Contemporary Italy', 'Missing Women In The Italian Middle Ages  Data And Interpretation', 'Le Famiglie Del Nord Est Nel Primo Decennio Del Nuovo Secolo', 'La Popolazione Fra Crisi Economica E Pressione Migratoria', 'Sessualit  E Contraccezione', 'Vite Di Coppia', 'La Bassa Fecondit  Italiana  Cause  Conseguenze E Politiche', 'Marital And Reproductive Behaviour In Italy After 1995  Bridging The Gap With Wester Europe', 'A Marriage Cohort Analysis Of Legal Separations In Italy', 'Popolazione E Famiglia Del Nord Est  Risorse E Vincoli Per Lo Sviluppo', 'Evoluzione Recente Della Popolazione E Dei Comportamenti Coniugali Nel Nord Est', 'Popolazione  Migrazioni E Sviluppo Economico Nelle Regioni Italiane Ed Europee', 'Current Sexual Behaviour', 'Una Popolazione In Movimento  Il Nord Est E La  Nuova Europa', 'Popolazione E Immigrazione  Come Cambia Il Nord Est', 'Fare Famiglia In Italia  Un Secolo Di Cambiamenti', 'Planned And Unplanned Births And Conceptions In Italy  1970 1995', 'Una Storia Italiana', 'Innovation And Tradition  Reproductive And Marital Behaviour In Italy In The 1970S And 1980S'], [], [], [], [], [], [], [], [], [], [], [], [], [], [], [], [], [], [], [], [], [], [], [], [], [], [], [], [], [], [], [], [], [], [], [], [], [], [], [], [], [], [], [], [], [], [], [], [], [], [], [], [], ['Empirical And Simulated Adjustments Of Composite Likelihood Ratio Statistics', 'Empirical And Simulated Adjustments Of Composite Likelihood Ratio Statistics '], ['Personalized Transcranial Alternating Current Stimulation  Tacs  And Physical Therapy To Treat Motor And Cognitive Symptoms In Parkinson S Disease  A Randomized Cross Over Trial'], [], [], [], [], [], [], [], [], [], [], [], [], [], [], [], [], [], [], [], [], [], [], [], [], [], [], [], [], [], [], [], [], [], [], [], [], [], [], [], [], [], [], [], [], [], [], [], [], [], [], [], [], [], [], [], [], [], [], [], [], [], [], [], [], [], [], [], ['Valutare Per Migliorare L Insegnamento'], [], [], ['The Determinants Of Academic Outcomes In A Competing Risks Approach  Evidence From Italy', 'Un Indagine Tra Gli Studenti Padovani', 'The Determinants Of Academic Outcomes In A Competing Risks Approach  Evidence From Italy', 'The Determinants Of Academic Outcomes In A Competing Risks Approach  Evidence From Italy', 'Resilienza E Successo Accademico  Risultati Da Un Indagine Sugli Studenti Patavini', 'The Determinants Of Academic Success And Failure In A Competing Risks Approach', 'Interrupted Careers  The Determinants Of University Outcomes In A Competing Risks Approach  Book Of Short Paper', 'Course Organisational Structure As A Determinant Of Academic Success  Some Evidence From The University Of Padova  Italy', 'Aspetti Strategici E Motivazionali E Successo Accademico  Differenti Profili Degli Studenti Universitari', 'Le Carriere Universitarie Tra Successo Formativo  Abbandono  Cambio Di Corso E Ritardo  Un Analisi Per Coorte Attraverso Gli Archivi Dell Ateneo Di Padova', 'The Course Organizational Structure As A Determinant Of Academic Success  Some Evidences From Padova University'], [], [], [], [], [], [], [], ['Transizioni Educative Nella Scuola Secondaria  Lo Sviluppo Di Competenze Per Una Positiva Integrazione In Nuovi Contesti Formativi E Professionali', 'The Context Of Body Art  Body Piercing And Tattooing Among High School Students In A North Eastern Italian Region', 'Presentazione Dell Indagine E Analisi Dei Contesti Di Vita'], [], [], [], ['Tools For Teaching Assessment At Padua University  Role  Development And Validation  Prodid Project    Teacher Professional Development And Academic Educational Innovation    Report Of The Research Unit N 3   Lo Strumento Dell Universit  Di Padova Per La Valutazione Della Didattica  Funzione  Evoluzione E Validazione  Progetto Prodid   Preparazione Alla Professionalit  Docente E Innovazione Didattica   Rapporto Dell Unit  Di Ricerca N 3', 'Il Questionario Per I Docenti  Costruzione  Implementazione  Analisi Progetto Prodid  Preparazione Alla Professionalit  Docente E Innovazione Didattica    Rapporto Dell Unit  Di Ricerca N 3', 'Le Ricerca Del Progetto Prodid  Primi Risultati'], [], [], [], [], [], [], [], [], [], [], [], [], [], [], [], [], [], [], [], [], [], [], [], [], [], [], [], [], [], [], [], [], [], ['Monte Carlo Modified Profile Likelihood In Models For Clustered Data', 'Monte Carlo Modified Profile Likelihood In Survival Models For Clustered Censored Data', 'Integrated Likelihoods In Parametric Survival Models For Highly Clustered Censored Data'], [], [], [], [], ['Accurate Higher Order Likelihood Inference On P Y   X', 'Competing Risks Regression With Internal Time Dependent Covariates', 'Likelihood Asymptotics For The Stress Strength Model P X Y '], [], [], ['Pre Launch Forecasting Of A Pharmaceutical Drug', 'The Diffusion Of Nuclear Energy In Some Developing Countries', 'Emergence Of A Pharmaceutical Drug As New Entrant In A Category  Ex Ante Diffusion Of Innovation Modeling And Forecasting', 'The Diffusion Of Nuclear Energy In Some Developing And Graduated Developing Countries', 'Diffusion Of Nuclear Energy In Some Developing And Graduated Developing Countries', 'Forecasting Accuracy Of Wind Power Technology Diffusion Models Across Countries', 'Forecasting Accuracy Of The Generalized Bass Model Versus The Most Widespread Diffusion Models In Wind Power System', 'Short Term Forecasts Of The Spread Of Wind Power Technology Across Countries', 'Modelling The Wind Natural Energy With A Diffusion Model  The Usa Case', 'A Comparison Between American And European Wind Energy Diffusion Models'], [], [], ['World Oil Depletion Models  Price Effects Compared With Strategic Or Technological Interventions', 'World Oil Depletion Models  Price Effects Compared With Strategic Or Technological Interventions'], [], [], [], [], [], [], [], [], [], [], [], [], [], [], [], [], [], [], [], [], [], [], [], [], [], [], [], [], [], [], [], [], [], [], [], ['Valutare Per Migliorare L Insegnamento'], [], [], [], [], [], [], [], [], ['La Popolazione Del Nord Est  Tra Tempo Di Crisi E Crisi Del Tempo', 'La Popolazione Del Nord Est Fra Tempo Di Crisi E Crisi Del Tempo', 'La Popolazione  Una Risorsa Per Il Nord Est Del Futuro', 'Veneti Che Cambiano 1971 2021  La Popolazione Sotto La Lente Di Quattro Censimenti E Di Alcune Ricerche Recenti'], [], [], [], ['Le Stime Flash Di Indicatori Macroeconomici E L Attuazione Dei Principal European Economic Indicators'], [], [], [], [], ['Serie Storiche Economiche  Analisi Statistiche E Applicazioni', 'La Destagionalizzazione Degli Indici Della Produzione Industriale Per Branca Di Attivit  Evidenze Empiriche Su Serie Italiane', 'Complementi Di Statistica Economica  Analisi Alle Serie Storiche Univariate'], [], [], [], [], [], [], [], [], [], [], [], [], [], [], [], [], [], [], [], [], ['Pre Launch Forecasting Of A Pharmaceutical Drug', 'Has The Fukushima Accident Influenced Short Term Consumption In The Evolution Of Nuclear Energy  An Analysis Of The World And Seven Leading Countries', 'Are There Any Effects Of Fukushima Accident On The Diffusion Of Nuclear Energy', 'Emergence Of A Pharmaceutical Drug As New Entrant In A Category  Ex Ante Diffusion Of Innovation Modeling And Forecasting'], [], [], [], [], [], [], [], ['Interaction Among Three Substitute Products  An Extended Innovation Diffusion Model', 'Forecasting The Impact Of Renewable Energies In Competition With Non Renewable Sources', 'Forecasting The Impact Of Renewable Energies In The Competition With Non Renewable Sources', 'Pleural Mesothelioma  Forecasts Of The Death Toll In The Area Of Casale Monferrato  Italy', 'Sensitivity Analysis On A Cellular Automata Model For The Diffusion Of Pleural Mesothelioma', 'Pleural Mesothelioma  Forecsts Of The Death Toll In The Area Of Casale Monferrato  Italy'], [], [], [], [], [], [], [], [], [], [], [], [], [], [], [], [], [], [], [], ['Compatibility Of Children And Work Preferences  Two European Cases', 'Il Ruolo Del Reddito Nelle Decisioni Di Fecondit '], ['La Valutazione Del Tutorato Formativo Per Gli Studenti Universitari  Il Processo  La Soddisfazione  L Efficacia', 'Tutor A Entre Iguales En El Programa De Tutor A Formativa', 'La Valutazione Del Programma Di Tutorato Formativo', 'The Evaluation Of Formative Tutoring At The University Of Padova', 'Who Are The Students Participating In Guidance And Tutoring Programme  A Case Study At The University Of Padova', 'The Determinants Of Academic Outcomes In A Competing Risks Approach  Evidence From Italy', 'The Determinants Of Academic Outcomes In A Competing Risks Approach  Evidence From Italy', 'The Determinants Of Academic Outcomes In A Competing Risks Approach  Evidence From Italy', 'Attitudes  Motivations And Emotions Towards University Study  A Latent Class Approach', 'Strategic  Motivational And Emotional Aspects Of University Study  A Latent Class Approach', 'The Determinants Of Academic Success And Failure In A Competing Risks Approach', 'Interrupted Careers  The Determinants Of University Outcomes In A Competing Risks Approach  Book Of Short Paper'], [], [], [], ['Le Stime Flash Di Indicatori Macroeconomici E L Attuazione Dei Principal European Economic Indicators'], ['L Effetto Degli Incentivi Alle Assunzioni E Alle Trasformazioni  Prime Evidenze Per Il Veneto', 'The Effect Of Subsidies For Recruitments And Transformations  First Results For The Veneto Region'], [], [], [], [], [], [], [], [], [], [], [], [], [], ['A Hierarchical Bayesian Model For Rna Seq Data', 'Complex Models And Computational Methods In Statistics', 'Practical Implications Of Higher Moments In Risk Management', 'Looking For Skewness In Financial Time Series', 'Value At Risk Prediction By Higher Moment Dynamics', 'Looking For Skewness In Financial Time Series', 'A Garch Type Model With Dynamic Skewness And Kurtosis '], [], [], [], [], [], [], [], [], [], [], [], [], [], [], [], [], [], ['Modello Lineare  Teoria E Applicazioni Con R', 'Statistica Per Le Scienze Economiche  Esercizi Con Richiami Di Teoria '], [], [], [], [], [], [], [], ['Pre Launch Forecasting Of A Pharmaceutical Drug', 'Emergence Of A Pharmaceutical Drug As New Entrant In A Category  Ex Ante Diffusion Of Innovation Modeling And Forecasting', 'Cross Country Diffusion Of Photovoltaic Systems  Modelling Choices And Forecasts For National Adoption Patterns', 'The Diffusion Of Photovoltaic Energy Across Countries  Modeling Choices And Forecasts For National Growth Patterns', 'Cross Country Diffusion Of Photovoltaic Systems  Modelling Choices And Forecasts For National Adoption Patterns'], [], [], [], [], [], [], [], [], [], [], [], [], [], [], [], [], [], [], [], [], [], [], [], [], [], [], [], [], [], [], [], [], ['Detection Of Silica Particles In Lung Tissue By Environmental Scanning Electron Microscopy'], [], [], [], [], [], [], [], [], [], [], [], [], ['Median Bias Reduction Of Maximum Likelihood Estimates In Binary Regression Models', 'On Full Efficiency Of The Maximum Composite Likelihood Estimator', 'Combined Composite Likelihood'], ['Mean And Median Bias Reduction In Generalized Linear Models'], ['Bayesian Modeling Of University First Year Students  Grades After Placement Test'], [], [], [], [], [], [], [], ['Double Clustering For Rating Mutual Funds'], [], [], [], [], [], [], [], [], [], [], [], [], [], [], [], [], [], [], [], [], [], [], [], [], [], [], ['Sequential Predictions Of Menstrual Cycle Lengths', 'Costruzione Di Mappe Delle Concentrazioni Di Inquinanti Atmosferici Combinando I Dati Di Centraline Fisse E Mobili  Annali Di Statistica  Serie X  Vol 10  Pp  257 265 '], [], [], [], [], ['Living Arrangements And Cognitive Decline Among The Elderly In Europe', 'Family Structures And Health Behaviour In Adolescents', 'Family Resources And Cognitive Decline Among Elderly In Italy', 'Family Resources And Health Behaviours In Adolescence', 'Economic Consequences Of Union Dissolution In Italy  Finding From The European Community Household Panel', 'Economic Consequences Of Marital Dissolution In Italy  Findings From European Community Household Panel', 'Economic Consequences Of Marital Dissolution In Italy  Findings From European Community Household Panel'], [], [], ['Melatonin And The Charlson Comorbidity Index  Cci  The Treviso Longeva  Trelong  Study', 'Body Mass Index  Lifestyles  Physical Performance And Cognitive Decline  The  Treviso Longeva  Trelong  Study', 'Living Arrangements And Cognitive Decline Among The Elderly In Europe', 'Family Resources And Cognitive Decline Among Elderly In Europe', 'Family Resources And Cognitive Decline Among Elderly In Italy', 'The Treviso Dementia  Tredem  Study  A Biomedical  Neuroradiological  Neuropsychological And Social Investigation On Dementia In The North East Of Italy', 'Family Resources And Cognitive Decline Among Elderly In Italy', 'Body Mass Index  Cognition  Disability  Apoe Genotype  And Mortality  The  Treviso Longeva  Study', 'Costi E Benefici Dei Figli', 'Percorsi E Tempi Di Autonomia Residenziale  Una Valutazione Dell Impatto Sulla Fecondita  In Italia', 'Scelte Riproduttive Tra Orientamenti Valoriali  Costi E Opportunit  Uno Studio Qualitativo In Contesto Urbano', 'Forme Di Vita Familiare In Tarda Et', 'Leaving Home Ain T Easy  A Comparative Longitudinal Analysis Of Echp Data'], [], [], [], [], [], [], [], ['A Mortality Model Based On A Mixture Distribution Function', 'Fitting Age Specific Fertility Rates By A Flexible Generalized Skew Normal Probability Density Function'], [], [], [], [], [], [], ['The Involvement In Childcare Of Married And Cohabiting Fathers  Evidence From Italy', 'Living Arrangements And Cognitive Decline Among The Elderly In Europe', 'Life Satisfaction Among Older People In Italy In A Gender Approach', 'Non Resident Parent Child Contact After Marital Dissolution And Parental Repartnering  Evidence From Italy', 'Non Resident Parent Child Contact After Marital Dissolution  Evidence From Italy', 'Family Contexts And Adolescents  Emotional Status', 'Maternal Age And Parenting Practices', 'Life Satisfaction Among Elderly In Italy', 'Life Satisfaction Among Elderly In Italy', 'Family Resources And Cognitive Decline Among Elderly In Italy', 'Family Contexts And Adolescents  Emotional Status', 'Family Contexts And Adolescents  Emotional Status', 'Late Maternal Age And Parenting Practices', 'The Implications Of Marital Instability For A Woman S Fertility  Empirical Evidence From Italy', 'Fecondit  E Instabilit  Matrimoniale', 'Le Determinanti Delle Seconde Unioni Tra Le Donne Separate', 'Repartnering After Marital Dissolution  Does The Context Play A Role', 'Repartnering After Marital Dissolution In Italy', 'Repartnering After Marital Dissolution  Does The Context Play A Role', 'Economic Consequences Of Marital Dissolution In Italy  Findings From European Community Household Panel', 'Economic Consequences Of Marital Dissolution In Italy  Findings From European Community Household Panel'], [], [], [], [], [], [], [], [], [], ['Gender Roles And Parenting Practices Among Married And Cohabiting Couples  Evidence From The Italian Time Use Survey', 'Gender Roles And Parenting Practices Among Married And Cohabiting Couples  Evidence From The Italian Time Use Survey'], [], [], [], [], [], [], [], [], [], [], [], [' Model Independent Searches For New Physics Via Parametric Anomaly Detection'], [], [], [], [], [], [], [], [], [], [], [], [], [], [], [], [], [], [], [], [], [], [], [], [], [], [], [], [], [], ['Valutare Per Migliorare L Insegnamento', 'La Ricerca Valutativa Nel Campo Della Didattica   Una Indagine Tra I Docenti Dell Universit  Di Padova Evaluative Research In Education A Survey Among Professors Of University Of Padova', 'Tools For Teaching Assessment At Padua University  Role  Development And Validation  Prodid Project    Teacher Professional Development And Academic Educational Innovation    Report Of The Research Unit N 3   Lo Strumento Dell Universit  Di Padova Per La Valutazione Della Didattica  Funzione  Evoluzione E Validazione  Progetto Prodid   Preparazione Alla Professionalit  Docente E Innovazione Didattica   Rapporto Dell Unit  Di Ricerca N 3', 'Il Questionario Per I Docenti  Costruzione  Implementazione  Analisi Progetto Prodid  Preparazione Alla Professionalit  Docente E Innovazione Didattica    Rapporto Dell Unit  Di Ricerca N 3', 'Le Ricerca Del Progetto Prodid  Primi Risultati'], [], [], [], [], [], [], [], [], [], [], [], [], [], [], [], [], [], [], [], ['Un Contributo Alla Validazione Italiana Della Scala Multidimensionale Di Vittimizzazione Tra Pari'], [], [], [], [], [], [], [], [], [], [], [], [], [], [], [], [], [], [], ['Robust Approximate Bayesian Inference', 'Approximate Robust Bayesian Inference With An Application To Linear Mixed Models', 'Improved Laplace Approximation For Marginal Likelihoods', 'Approximate Bayesian Computation With Composite Score Functions', 'Marginal Posterior Simulation Via Higher Order Tail Area Approximations'], [], [], [], [], ['Accurate Likelihood Inference For The Volume Under The Roc Surface', 'Objective Bayesian Inference With Proper Scoring Rules', 'Modern Likelihood Inference For Measures Of Process Capability', 'Bayesian Inference For Directional Data Through Abc And Homogeneous Proper Scoring Rules', 'Optimal B Robust Posterior Distributions For Operational Risk', 'Higher Order Bayesian Approximations For Pseudo Posterior Distributions', 'Posterior Distributions From Optimally B Robust Estimating Functions And Approximate Bayesian Computation', 'Bayesian Marginal Posterior Simulation From The Signed Li  Kelihood Root  An Application To The Cox Regression Model', 'Approximate Bayesian Inference Based On Modified Log Likelihood Ratios', 'Modern Bayesian Inference In Zero Inflated Poisson Models', 'Bayesian Approximation Methods For Pseudo Posterior Distributions In The Presence Of Nuisance Parameters'], ['Efficient Composite Likelihood For A Scalar Parameter Of Interest', 'Median Unbiased Estimator For The Two Parameter Logistic Model', 'Modified Profile Likelihood For Fixed Effects Panel Data Models', 'Median Bias Reduction Of Maximum Likelihood Estimates In Binary Regression Models', 'Inference From Pseudolikelihoods With Plug In Estimates', 'On Full Efficiency Of The Maximum Composite Likelihood Estimator', 'Combined Composite Likelihood', 'Adjusted Pseudo Composite Likelihood Ratios', 'Adjusting Pseudo Likelihood Ratios For A Parameter Of Interest', 'Adjusting Composite Likelihood Ratio Statistics'], [], [], [], [], ['Adjustments Of Profile Likelihood Through Predictive Densities', 'Remedying The Neyman Scott Phenomenon In Model Discrimination', 'Bayesian Analysis In Regression Models Using Pseudo Likelihoods', 'Likelihood Based Discrimination Between Separate Scale And Regression Models', 'Likelihood Theory  Prediction  Model Selection  Asymptotic Connections', 'The Effects Of Rounding On Likelihood Procedures'], [], [], [], [], ['Robust Approximate Bayesian Inference', 'Approximate Robust Bayesian Inference With An Application To Linear Mixed Models', 'Improved Laplace Approximation For Marginal Likelihoods', 'Approximate Bayesian Computation With Composite Score Functions', 'Approximate Bayesian Computation With Proper Scoring Rules', 'Marginal Posterior Simulation Via Higher Order Tail Area Approximations', 'Modified Estimating Equations In Models With Stratum Nuisance Parameters'], [], [], [], [], [], [], [], [], [], []]\n"
     ]
    }
   ],
   "source": [
    "print(lista_pubblicazioni)"
   ]
  },
  {
   "cell_type": "markdown",
   "metadata": {},
   "source": [
    "## 3. Costruzione del dataset"
   ]
  },
  {
   "cell_type": "markdown",
   "metadata": {},
   "source": [
    "### 3.1 Valorizzazione degli archi"
   ]
  },
  {
   "cell_type": "markdown",
   "metadata": {},
   "source": [
    "Scorriamo tutte le coppie di autori delle pubblicazioni scaricate e conteggiamo la frequenza con la quale ciascuna coppia si presenta. Selezioniamo solo le coppie di autori che hanno fatto almeno 2 pubblicazioni assieme, per ridurre il possibile numero di archi."
   ]
  },
  {
   "cell_type": "code",
   "execution_count": 174,
   "metadata": {},
   "outputs": [],
   "source": [
    "lista_pubblicazioni2 = lista_pubblicazioni.copy()"
   ]
  },
  {
   "cell_type": "code",
   "execution_count": 181,
   "metadata": {},
   "outputs": [],
   "source": [
    "numero_pubblicazioni = []\n",
    "for pub in lista_pubblicazioni:\n",
    "    numero_pubblicazioni.append(len(pub))"
   ]
  },
  {
   "cell_type": "code",
   "execution_count": 211,
   "metadata": {},
   "outputs": [],
   "source": [
    "combinazione_autori_def = []\n",
    "for i in range(0,len(combinazione_autori)):\n",
    "    if numero_pubblicazioni[i]>=2:\n",
    "        combinazione_autori_def.append(combinazioni_autori[i])                            "
   ]
  },
  {
   "cell_type": "code",
   "execution_count": 196,
   "metadata": {},
   "outputs": [],
   "source": [
    "numero_pubblicazioni_def = []\n",
    "for i in range(0,len(numero_pubblicazioni)):\n",
    "    if numero_pubblicazioni[i]>=2:\n",
    "        numero_pubblicazioni_def.append(numero_pubblicazioni[i])"
   ]
  },
  {
   "cell_type": "code",
   "execution_count": 221,
   "metadata": {},
   "outputs": [],
   "source": [
    "for i in range(0,len(combinazione_autori_def)):\n",
    "    combinazione_autori_def[i] += (numero_pubblicazioni_def[i],)"
   ]
  },
  {
   "cell_type": "code",
   "execution_count": 243,
   "metadata": {},
   "outputs": [
    {
     "ename": "IndexError",
     "evalue": "list index out of range",
     "output_type": "error",
     "traceback": [
      "\u001b[1;31m---------------------------------------------------------------------------\u001b[0m",
      "\u001b[1;31mIndexError\u001b[0m                                Traceback (most recent call last)",
      "\u001b[1;32m<ipython-input-243-e4b3dc0291a6>\u001b[0m in \u001b[0;36m<module>\u001b[1;34m\u001b[0m\n\u001b[0;32m      6\u001b[0m             \u001b[0mc\u001b[0m \u001b[1;33m+=\u001b[0m \u001b[0mcombinazione_autori_def\u001b[0m\u001b[1;33m[\u001b[0m\u001b[0mj\u001b[0m\u001b[1;33m]\u001b[0m\u001b[1;33m[\u001b[0m\u001b[1;36m2\u001b[0m\u001b[1;33m]\u001b[0m\u001b[1;33m\u001b[0m\u001b[1;33m\u001b[0m\u001b[0m\n\u001b[0;32m      7\u001b[0m     \u001b[1;32mif\u001b[0m \u001b[0mc\u001b[0m\u001b[1;33m>\u001b[0m\u001b[1;36m10\u001b[0m\u001b[1;33m:\u001b[0m\u001b[1;33m\u001b[0m\u001b[1;33m\u001b[0m\u001b[0m\n\u001b[1;32m----> 8\u001b[1;33m         \u001b[0mcomb_autori\u001b[0m\u001b[1;33m.\u001b[0m\u001b[0mappend\u001b[0m\u001b[1;33m(\u001b[0m\u001b[0mcombinazione_autori_def\u001b[0m\u001b[1;33m[\u001b[0m\u001b[0mi\u001b[0m\u001b[1;33m]\u001b[0m\u001b[1;33m)\u001b[0m\u001b[1;33m\u001b[0m\u001b[1;33m\u001b[0m\u001b[0m\n\u001b[0m",
      "\u001b[1;31mIndexError\u001b[0m: list index out of range"
     ]
    }
   ],
   "source": [
    "comb_autori = []\n",
    "for i in range(0,len(lista_autori)):\n",
    "    c=0\n",
    "    for j in range(0,len(combinazione_autori_def)):\n",
    "        if (combinazione_autori_def[j][0]==lista_autori[i] or combinazione_autori_def[j][1]==lista_autori[i]):\n",
    "            c += combinazione_autori_def[j][2]\n",
    "    if c>10:\n",
    "        comb_autori.append(combinazione_autori_def[i])"
   ]
  },
  {
   "cell_type": "code",
   "execution_count": 222,
   "metadata": {},
   "outputs": [
    {
     "name": "stdout",
     "output_type": "stream",
     "text": [
      "[('Adimari Gianfranco', 'Guolo Annamaria', 2), ('Adimari Gianfranco', 'Ventura Laura', 5), ('Barbiera Irene', 'Castiglioni Maria', 5), ('Barbiera Irene', 'Dalla Zuanna Gianpiero', 2), ('Bassi Francesca', 'Clerici Renata', 4), ('Bassi Francesca', 'Scarpa Bruno', 2), ('Bisaglia Luisa', 'Grigoletto Matteo', 3), ('Boccuzzo Giovanna', 'Paggiaro Adriano', 2), ('Brazzale Alessandra Rosalba', 'Ventura Laura', 4), ('Canale Antonio', 'Scarpa Bruno', 3), ('Capizzi Giovanna', 'Masarotto Guido', 28), ('Caporin Massimiliano', 'Lisi Francesco', 7), ('Castiglioni Maria', 'Clerici Renata', 2), ('Castiglioni Maria', 'Dalla Zuanna Gianpiero', 26), ('Cattelan Manuela', 'Sartori Nicola', 2), ('Clerici Renata', 'Giraldo Anna', 11), ('Clerici Renata', 'Meggiolaro Silvia', 3), ('Clerici Renata', 'Paccagnella Omar', 3), ('Cortese Giuliana', 'Sartori Nicola', 3), ('Cortese Giuliana', 'Ventura Laura', 3), ('Dalla Valle Alessandra', 'Furlan Claudia', 10), ('Dalla Valle Alessandra', 'Guidolin Mariangela', 2), ('Dalla Zuanna Gianpiero', 'Tanturri Maria Letizia', 4), ('Di Fonzo Tommaso', 'Lisi Francesco', 3), ('Furlan Claudia', 'Guidolin Mariangela', 4), ('Furlan Claudia', 'Mortarino Cinzia', 6), ('Giraldo Anna', 'Mazzuco Stefano', 2), ('Giraldo Anna', 'Meggiolaro Silvia', 12), ('Giraldo Anna', 'Paggiaro Adriano', 2), ('Grigoletto Matteo', 'Lisi Francesco', 7), ('Grigoletto Matteo', 'Ventura Laura', 2), ('Guidolin Mariangela', 'Mortarino Cinzia', 5), ('Kenne Pagui Euloge Clovis', 'Salvan Alessandra', 3), ('Masarotto Guido', 'Scarpa Bruno', 2), ('Mazzuco Stefano', 'Meggiolaro Silvia', 7), ('Mazzuco Stefano', 'Ongaro Fausta', 13), ('Mazzuco Stefano', 'Scarpa Bruno', 2), ('Meggiolaro Silvia', 'Ongaro Fausta', 21), ('Meggiolaro Silvia', 'Tanturri Maria Letizia', 2), ('Paccagnella Omar', 'Paggiaro Adriano', 5), ('Ruli Erlis', 'Sartori Nicola', 5), ('Ruli Erlis', 'Ventura Laura', 11), ('Salvan Alessandra', 'Sartori Nicola', 10), ('Salvan Alessandra', 'Ventura Laura', 6), ('Sartori Nicola', 'Ventura Laura', 7)]\n"
     ]
    }
   ],
   "source": [
    "print(combinazione_autori_def)"
   ]
  },
  {
   "cell_type": "markdown",
   "metadata": {},
   "source": [
    "### 3.2 Valorizzazione dei nodi"
   ]
  },
  {
   "cell_type": "markdown",
   "metadata": {},
   "source": [
    "Filtriamo gli autori con almeno 10 pubblicazioni ciascuno."
   ]
  },
  {
   "cell_type": "code",
   "execution_count": null,
   "metadata": {},
   "outputs": [],
   "source": []
  },
  {
   "cell_type": "markdown",
   "metadata": {},
   "source": [
    "## 4. Costruzione del grafo"
   ]
  },
  {
   "cell_type": "markdown",
   "metadata": {},
   "source": [
    "### 4.1 Inizializzazione del grafo"
   ]
  },
  {
   "cell_type": "markdown",
   "metadata": {},
   "source": [
    "Costruiamo infine il grafo istanziando la classe `networkx.Graph()` e applicando il metodo `add_weighted_edges_from()` usando come parametro la nostra lista degli archi \"pesata\".\n",
    "\n",
    "Calcoliamo la posizione dei nodi con la funzione `networkx.spring_layout()`."
   ]
  },
  {
   "cell_type": "code",
   "execution_count": 191,
   "metadata": {},
   "outputs": [],
   "source": [
    "import networkx as nx\n",
    "import matplotlib.pyplot as plt"
   ]
  },
  {
   "cell_type": "code",
   "execution_count": 225,
   "metadata": {},
   "outputs": [],
   "source": [
    "G = nx.Graph()\n",
    "N = G.nodes()\n",
    "A = G.edges()"
   ]
  },
  {
   "cell_type": "code",
   "execution_count": 227,
   "metadata": {},
   "outputs": [],
   "source": [
    "G.add_weighted_edges_from(combinazione_autori_def)"
   ]
  },
  {
   "cell_type": "markdown",
   "metadata": {},
   "source": [
    "### 4.2 Rappresentazione del grafo"
   ]
  },
  {
   "cell_type": "code",
   "execution_count": 238,
   "metadata": {
    "scrolled": true
   },
   "outputs": [
    {
     "data": {
      "image/png": "[encoded data removed]",
      "text/plain": [
       "<Figure size 432x288 with 1 Axes>"
      ]
     },
     "metadata": {},
     "output_type": "display_data"
    }
   ],
   "source": [
    "pos = nx.spring_layout(G, seed=1)\n",
    "\n",
    "nx.draw_networkx(G = G, pos = pos, with_labels=True)\n",
    "plt.axis('off')\n",
    "plt.tight_layout()\n",
    "plt.show()"
   ]
  },
  {
   "cell_type": "markdown",
   "metadata": {},
   "source": [
    "### 4.3 Community detection"
   ]
  },
  {
   "cell_type": "markdown",
   "metadata": {},
   "source": [
    "Utilizzare il metodo di Louvain per identificare le diverse comunità e calcolare la modularità di questo partizionamento."
   ]
  },
  {
   "cell_type": "code",
   "execution_count": 244,
   "metadata": {},
   "outputs": [],
   "source": [
    "import community\n",
    "import pandas as pd"
   ]
  },
  {
   "cell_type": "code",
   "execution_count": null,
   "metadata": {},
   "outputs": [],
   "source": []
  },
  {
   "cell_type": "markdown",
   "metadata": {},
   "source": [
    "### 4.4 Calcolo della betweenness dei nodi"
   ]
  },
  {
   "cell_type": "markdown",
   "metadata": {},
   "source": [
    "Calcolare la betweenness dei nodi del grafo."
   ]
  },
  {
   "cell_type": "code",
   "execution_count": null,
   "metadata": {},
   "outputs": [],
   "source": []
  },
  {
   "cell_type": "markdown",
   "metadata": {},
   "source": [
    "### 4.5 Rappresentazione del grafo (parametrizzando dimensione e colori dei nodi)"
   ]
  },
  {
   "cell_type": "markdown",
   "metadata": {},
   "source": [
    "Rappresentare nuovamente il grafo parametrizzando:\n",
    "* il colore dei nodi: determinato dalla comunità\n",
    "* la dimensione dei nodi: determinata dalla betweenness"
   ]
  },
  {
   "cell_type": "code",
   "execution_count": null,
   "metadata": {},
   "outputs": [],
   "source": []
  },
  {
   "cell_type": "code",
   "execution_count": null,
   "metadata": {},
   "outputs": [],
   "source": []
  }
 ],
 "metadata": {
  "kernelspec": {
   "display_name": "Python 3",
   "language": "python",
   "name": "python3"
  },
  "language_info": {
   "codemirror_mode": {
    "name": "ipython",
    "version": 3
   },
   "file_extension": ".py",
   "mimetype": "text/x-python",
   "name": "python",
   "nbconvert_exporter": "python",
   "pygments_lexer": "ipython3",
   "version": "3.7.6"
  }
 },
 "nbformat": 4,
 "nbformat_minor": 2
}
