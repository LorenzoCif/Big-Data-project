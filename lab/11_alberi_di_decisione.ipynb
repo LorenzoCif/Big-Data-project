{
 "cells": [
  {
   "cell_type": "markdown",
   "metadata": {},
   "source": [
    "I dati utilizzati in questo notebook sono stati presi dalla competizione di Kaggle [Titanic: Machine Learning from Disaster](https://www.kaggle.com/c/titanic).\n",
    "\n",
    "### Riferimenti bibliografici:\n",
    "\n",
    "* Hastie, T.; Tibshirani, R. & Friedman, J. (2009), [The Elements of Statistical Learning](https://web.stanford.edu/~hastie/ElemStatLearn/)."
   ]
  },
  {
   "cell_type": "markdown",
   "metadata": {},
   "source": [
    "# Alberi di decisione"
   ]
  },
  {
   "cell_type": "markdown",
   "metadata": {},
   "source": [
    "## Indice"
   ]
  },
  {
   "cell_type": "markdown",
   "metadata": {},
   "source": [
    "1. [Titanic: Machine Learning from Disaster](#titanic)<br>\n",
    "    1.1 [Descrizione](#descrizione)<br>\n",
    "    1.2 [Leggere i dati e dividere le variabili esplicative dalla variabile risposta](#leggere_dati)<br>\n",
    "2. [Analisi esplorativa](#analisi_esplorativa)<br>\n",
    "    2.1 [Studiare le variabili esplicative](#esplicative)<br>\n",
    "    2.2 [Studiare la relazione tra variabili esplicative e variabile risposta](#esplicative_risposta)<br>\n",
    "3. [Alberi di decisione](#alberi)<br>\n",
    "    3.1 [Misure di impurità](#impurità)<br>\n",
    "    3.2 [Creare una o più baseline](#baseline)<br>\n",
    "4. [Scegliere gli iperparametri ottimali](#iperparametri)<br>\n",
    "    4.1 [Definire la griglia di ricerca (*grid search*)](#grid)<br>\n",
    "    4.2 [Calcolare l'accuratezza del modello per ogni combinazione degli iperparametri](#risultati)<br>\n",
    "    4.3 [Visualizzare i risultati della ricerca](#visualizzare_risultati)<br>\n",
    "    4.4 [Confrontare l'accuratezza del modello prima e dopo la scelta degli iperparametri ottimali](#confrontare)<br>\n",
    "5. [Visualizzare le caratteristiche dell'albero](#visualizzare)<br>\n",
    "    5.1 [Visualizzare l'albero](#visualizzare_albero)<br>\n",
    "    5.2 [Visualizzare l'importanza delle variabili](#visualizzare_importanza)<br>\n",
    "    5.3 [Visualizzare le superfici di decisione](#visualizzare_superfici)<br>"
   ]
  },
  {
   "cell_type": "code",
   "execution_count": 1,
   "metadata": {},
   "outputs": [],
   "source": [
    "import inspect\n",
    "import matplotlib.pyplot as plt\n",
    "import numpy as np\n",
    "import pandas as pd\n",
    "\n",
    "%load_ext autoreload\n",
    "%autoreload 2"
   ]
  },
  {
   "cell_type": "markdown",
   "metadata": {},
   "source": [
    "# 1. [Titanic: Machine Learning from Disaster](https://www.kaggle.com/c/titanic) <a id=titanic> </a>"
   ]
  },
  {
   "cell_type": "markdown",
   "metadata": {},
   "source": [
    "## 1.1 Descrizione <a id=descrizione> </a>"
   ]
  },
  {
   "cell_type": "markdown",
   "metadata": {},
   "source": [
    "### Competition Description\n",
    "The sinking of the RMS Titanic is one of the most infamous shipwrecks in history.  On April 15, 1912, during her maiden voyage, the Titanic sank after colliding with an iceberg, killing 1502 out of 2224 passengers and crew. This sensational tragedy shocked the international community and led to better safety regulations for ships.\n",
    "\n",
    "One of the reasons that the shipwreck led to such loss of life was that there were not enough lifeboats for the passengers and crew. Although there was some element of luck involved in surviving the sinking, some groups of people were more likely to survive than others, such as women, children, and the upper-class.\n",
    "\n",
    "In this challenge, we ask you to complete the analysis of what sorts of people were likely to survive. In particular, we ask you to apply the tools of machine learning to predict which passengers survived the tragedy.\n",
    "\n",
    "### Goal\n",
    "It is your job to predict if a passenger survived the sinking of the Titanic or not. \n",
    "For each in the test set, you must predict a 0 or 1 value for the variable.\n",
    "\n",
    "### Metric\n",
    "Your score is the percentage of passengers you correctly predict. This is known simply as \"accuracy”."
   ]
  },
  {
   "cell_type": "markdown",
   "metadata": {},
   "source": [
    "### Variable descriptions\n",
    "* PassengerId: passenger identifier\n",
    "* Pclass: Passenger Class (1 = 1st; 2 = 2nd; 3 = 3rd)\n",
    "* Survived: (0 = No; 1 = Yes)\n",
    "* Name: name\n",
    "* Sex: sex\n",
    "* Age: age\n",
    "* SibSp: Number of Siblings/Spouses Aboard\n",
    "* Parch: Number of Parents/Children Aboard\n",
    "* Ticket: Ticket Number\n",
    "* Fare: Passenger Fare (British pound)\n",
    "* Cabin: Cabin number\n",
    "* Embarked: Port of Embarkation (C = Cherbourg; Q = Queenstown; S = Southampton)"
   ]
  },
  {
   "cell_type": "markdown",
   "metadata": {},
   "source": [
    "## 1.2 Leggere i dati e dividere le variabili esplicative dalla variabile risposta <a id=leggere_dati> </a>"
   ]
  },
  {
   "cell_type": "markdown",
   "metadata": {},
   "source": [
    "### Leggere i dati"
   ]
  },
  {
   "cell_type": "code",
   "execution_count": 1,
   "metadata": {},
   "outputs": [
    {
     "ename": "NameError",
     "evalue": "name 'pd' is not defined",
     "output_type": "error",
     "traceback": [
      "\u001b[1;31m---------------------------------------------------------------------------\u001b[0m",
      "\u001b[1;31mNameError\u001b[0m                                 Traceback (most recent call last)",
      "\u001b[1;32m<ipython-input-1-1ac13d4fd79f>\u001b[0m in \u001b[0;36m<module>\u001b[1;34m\u001b[0m\n\u001b[0;32m      1\u001b[0m \u001b[0mPATH\u001b[0m \u001b[1;33m=\u001b[0m \u001b[1;34m\"msbd/datasets/titanic\"\u001b[0m\u001b[1;33m\u001b[0m\u001b[1;33m\u001b[0m\u001b[0m\n\u001b[0;32m      2\u001b[0m \u001b[1;33m\u001b[0m\u001b[0m\n\u001b[1;32m----> 3\u001b[1;33m \u001b[0mdati\u001b[0m \u001b[1;33m=\u001b[0m \u001b[0mpd\u001b[0m\u001b[1;33m.\u001b[0m\u001b[0mread_csv\u001b[0m\u001b[1;33m(\u001b[0m\u001b[0mPATH\u001b[0m \u001b[1;33m+\u001b[0m \u001b[1;34m\"/reso_commerciale.csv\"\u001b[0m\u001b[1;33m)\u001b[0m\u001b[1;33m\u001b[0m\u001b[1;33m\u001b[0m\u001b[0m\n\u001b[0m\u001b[0;32m      4\u001b[0m \u001b[0mprint\u001b[0m\u001b[1;33m(\u001b[0m\u001b[1;34m\"Dimensione del dataset: {} x {}\"\u001b[0m\u001b[1;33m.\u001b[0m\u001b[0mformat\u001b[0m\u001b[1;33m(\u001b[0m\u001b[1;33m*\u001b[0m\u001b[0mdati\u001b[0m\u001b[1;33m.\u001b[0m\u001b[0mshape\u001b[0m\u001b[1;33m)\u001b[0m\u001b[1;33m)\u001b[0m\u001b[1;33m\u001b[0m\u001b[1;33m\u001b[0m\u001b[0m\n\u001b[0;32m      5\u001b[0m \u001b[0mdati\u001b[0m\u001b[1;33m.\u001b[0m\u001b[0mhead\u001b[0m\u001b[1;33m(\u001b[0m\u001b[1;33m)\u001b[0m\u001b[1;33m\u001b[0m\u001b[1;33m\u001b[0m\u001b[0m\n",
      "\u001b[1;31mNameError\u001b[0m: name 'pd' is not defined"
     ]
    }
   ],
   "source": [
    "PATH = \"msbd/datasets/titanic\"\n",
    "\n",
    "dati = pd.read_csv(PATH + \"/reso_commerciale.csv\")\n",
    "print(\"Dimensione del dataset: {} x {}\".format(*dati.shape))\n",
    "dati.head()"
   ]
  },
  {
   "cell_type": "markdown",
   "metadata": {},
   "source": [
    "### Dividere le variabili esplicative dalla variabile risposta"
   ]
  },
  {
   "cell_type": "code",
   "execution_count": 3,
   "metadata": {},
   "outputs": [],
   "source": [
    "risposta =  \"Survived\"\n",
    "\n",
    "X, y = dati.drop(columns=risposta).copy(), dati[risposta].copy()\n",
    "\n",
    "# Ricordiamoci che l'assegnazione di un oggetto in python con l'operatore '=' non copia solamente il valore, \n",
    "# ma anche il riferimento all'oggetto originale.\n",
    "# Si provi ad esempio, ad inizializzare y con y = dati[risposta]\n",
    "# si modifichi y (es. y[0:10] = 0)\n",
    "# si stampi il contenuto di y e di dati[risposta][0:10]"
   ]
  },
  {
   "cell_type": "markdown",
   "metadata": {},
   "source": [
    "# 2. Analisi esplorativa <a id=analisi_esplorativa> </a>"
   ]
  },
  {
   "cell_type": "markdown",
   "metadata": {},
   "source": [
    "## 2.1 Studiare le variabili esplicative <a id=esplicative> </a>"
   ]
  },
  {
   "cell_type": "code",
   "execution_count": 4,
   "metadata": {},
   "outputs": [],
   "source": [
    "# TODO: vedi esercizio seguente"
   ]
  },
  {
   "cell_type": "markdown",
   "metadata": {},
   "source": [
    "## 2.2 Studiare la relazione tra variabili esplicative e variabile risposta <a id=esplicative_risposta> </a>"
   ]
  },
  {
   "cell_type": "markdown",
   "metadata": {},
   "source": [
    "### Dividiere i dati in training e validation"
   ]
  },
  {
   "cell_type": "code",
   "execution_count": 5,
   "metadata": {},
   "outputs": [],
   "source": [
    "from sklearn.model_selection import train_test_split\n",
    "\n",
    "X_train, X_val, y_train, y_val = train_test_split(X, y, test_size=0.25, random_state=42)"
   ]
  },
  {
   "cell_type": "code",
   "execution_count": 6,
   "metadata": {},
   "outputs": [],
   "source": [
    "import seaborn as sns\n",
    "import warnings"
   ]
  },
  {
   "cell_type": "code",
   "execution_count": 7,
   "metadata": {},
   "outputs": [
    {
     "data": {
      "image/png": "[encoded data removed]",
      "text/plain": [
       "<Figure size 432x432 with 3 Axes>"
      ]
     },
     "metadata": {
      "needs_background": "light"
     },
     "output_type": "display_data"
    }
   ],
   "source": [
    "warnings.simplefilter(action='ignore', category=FutureWarning)\n",
    "\n",
    "dati_grafico = X_train[[\"Age\", \"Fare\"]].copy()\n",
    "dati_grafico['Survived'] = y_train.values\n",
    "dati_grafico.dropna(inplace=True)\n",
    "\n",
    "g = sns.JointGrid(\"Age\", \"Fare\", dati_grafico, ratio=2, height=6, space=0.2, ylim=[-10, 300])\n",
    "\n",
    "for i, gr in dati_grafico.groupby(\"Survived\"):\n",
    "    sns.distplot(gr[\"Age\"], ax=g.ax_marg_x)\n",
    "    sns.distplot(gr[\"Fare\"], ax=g.ax_marg_y, vertical=True)\n",
    "    g.ax_joint.plot(gr[\"Age\"], gr[\"Fare\"], 'o', alpha=0.5)\n",
    "plt.legend([\"Morto\", \"Soprav\"])\n",
    "plt.show()"
   ]
  },
  {
   "cell_type": "markdown",
   "metadata": {},
   "source": [
    "### Esercizio\n",
    "\n",
    "Cosa si può dedurre dal grafico precedente?"
   ]
  },
  {
   "cell_type": "code",
   "execution_count": null,
   "metadata": {},
   "outputs": [],
   "source": []
  },
  {
   "cell_type": "markdown",
   "metadata": {},
   "source": [
    "### Esercizio\n",
    "\n",
    "1. Completare l'analisi esplorativa commentandone i risultati;\n",
    "2. Creare almeno una variabile utilizzando le variabili \"Name\" e/o \"Ticket\" e/o \"Cabin\" sulla base dei risultati ottenuti al punto procedente."
   ]
  },
  {
   "cell_type": "code",
   "execution_count": 8,
   "metadata": {},
   "outputs": [
    {
     "data": {
      "text/html": [
       "<div>\n",
       "<style scoped>\n",
       "    .dataframe tbody tr th:only-of-type {\n",
       "        vertical-align: middle;\n",
       "    }\n",
       "\n",
       "    .dataframe tbody tr th {\n",
       "        vertical-align: top;\n",
       "    }\n",
       "\n",
       "    .dataframe thead th {\n",
       "        text-align: right;\n",
       "    }\n",
       "</style>\n",
       "<table border=\"1\" class=\"dataframe\">\n",
       "  <thead>\n",
       "    <tr style=\"text-align: right;\">\n",
       "      <th>flag_Cabin</th>\n",
       "      <th>0</th>\n",
       "      <th>1</th>\n",
       "    </tr>\n",
       "    <tr>\n",
       "      <th>Pclass</th>\n",
       "      <th></th>\n",
       "      <th></th>\n",
       "    </tr>\n",
       "  </thead>\n",
       "  <tbody>\n",
       "    <tr>\n",
       "      <th>1</th>\n",
       "      <td>40</td>\n",
       "      <td>176</td>\n",
       "    </tr>\n",
       "    <tr>\n",
       "      <th>2</th>\n",
       "      <td>168</td>\n",
       "      <td>16</td>\n",
       "    </tr>\n",
       "    <tr>\n",
       "      <th>3</th>\n",
       "      <td>479</td>\n",
       "      <td>12</td>\n",
       "    </tr>\n",
       "  </tbody>\n",
       "</table>\n",
       "</div>"
      ],
      "text/plain": [
       "flag_Cabin    0    1\n",
       "Pclass              \n",
       "1            40  176\n",
       "2           168   16\n",
       "3           479   12"
      ]
     },
     "execution_count": 8,
     "metadata": {},
     "output_type": "execute_result"
    }
   ],
   "source": [
    "# Esempio:\n",
    "dati_copy = dati.copy()\n",
    "dati_copy[\"flag_Cabin\"] = 1 - pd.isna(dati[\"Cabin\"])*1\n",
    "pd.crosstab(dati_copy[\"Pclass\"], dati_copy[\"flag_Cabin\"])"
   ]
  },
  {
   "cell_type": "markdown",
   "metadata": {},
   "source": [
    "### Eliminare le variabili che non si intendono utilizzare"
   ]
  },
  {
   "cell_type": "markdown",
   "metadata": {},
   "source": [
    "> Nota: non avendo fatto l'analisi esplorativa, eliminiamo le variabili che richiederebbero un trattamento più lungo e una comprensione maggiore del data set. La riga seguente, come parti sucessive del notebook, vanno modificate a seconda delle variabili che si intende costruire sulla base dei risultati dell'analisi esplorativa."
   ]
  },
  {
   "cell_type": "code",
   "execution_count": 9,
   "metadata": {},
   "outputs": [
    {
     "name": "stdout",
     "output_type": "stream",
     "text": [
      "Variabili rimaste: Pclass, Sex, Age, SibSp, Parch, Fare, Embarked.\n"
     ]
    }
   ],
   "source": [
    "var_da_elim = [\"PassengerId\", \"Name\", \"Ticket\", \"Cabin\"]\n",
    "\n",
    "X = X.drop(var_da_elim, axis=1)\n",
    "X_train = X_train.drop(var_da_elim, axis=1)\n",
    "X_val = X_val.drop(var_da_elim, axis=1)\n",
    "\n",
    "print(\"Variabili rimaste: {}.\".format(\", \".join(X.columns.tolist())))"
   ]
  },
  {
   "cell_type": "markdown",
   "metadata": {},
   "source": [
    "# 3. Alberi di decisione <a id=alberi> </a>"
   ]
  },
  {
   "cell_type": "markdown",
   "metadata": {},
   "source": [
    "## 3.1 Misure di impurità <a id=impurità> </a>"
   ]
  },
  {
   "cell_type": "markdown",
   "metadata": {},
   "source": [
    "### Esercizio\n",
    "\n",
    "Completare le funzioni `indice_gini` e `tasso_errata_classificazione` definite in `msbd/indici/indici.py`;\n",
    "\n",
    "Si ricorda che:\n",
    "\n",
    "$\n",
    "I_G(p) = 2 p (1 - p)\\\\\n",
    "I_{EC}(p) = 1 - \\max(p, 1 - p)\n",
    "$\n",
    "\n",
    "per $p \\in [0,1]$.\n",
    "\n",
    "> Suggerimento: dati due array `a` e `b`, entrambi di dimensioni (n,), `c = np.max([a, b], axis=0)` è un vettore di dimensioni (n,) dove, $\\forall i\\in\\{0, \\dots, n - 1\\},\\, c[i] = max(a[i], b[i])$."
   ]
  },
  {
   "cell_type": "code",
   "execution_count": 10,
   "metadata": {},
   "outputs": [
    {
     "name": "stdout",
     "output_type": "stream",
     "text": [
      "def indice_gini(p):\n",
      "    \"\"\"Indice di Gini\n",
      "\n",
      "    Parameters\n",
      "    ----------\n",
      "    p : array, shape (n,)\n",
      "        Array delle probabilità.\n",
      "\n",
      "    Returns\n",
      "    -------\n",
      "    i : array, shape (n,)\n",
      "        Indici di Gini degli elementi di p.\n",
      "    \"\"\"\n",
      "    # ============== YOUR CODE HERE ==============\n",
      "    i = 2 * p * (1 - p)\n",
      "    # ============================================\n",
      "    return i\n",
      "\n",
      "def tasso_errata_classificazione(p):\n",
      "    \"\"\"Tasso di errata classificazione\n",
      "\n",
      "    Parameters\n",
      "    ----------\n",
      "    p : array, shape (n,)\n",
      "        Array delle probabilità.\n",
      "\n",
      "    Returns\n",
      "    -------\n",
      "    i : array, shape (n,)\n",
      "        Tasso di errata classificazione degli elementi di p.\n",
      "    \"\"\"\n",
      "    # ============== YOUR CODE HERE ==============\n",
      "    i = 1 - np.max([p, 1 - p], axis=0)\n",
      "    # ============================================\n",
      "    return i\n",
      "\n"
     ]
    }
   ],
   "source": [
    "from msbd.indici import indice_gini\n",
    "from msbd.indici import tasso_errata_classificazione\n",
    "\n",
    "print(inspect.getsource(indice_gini))\n",
    "print(inspect.getsource(tasso_errata_classificazione))"
   ]
  },
  {
   "cell_type": "code",
   "execution_count": 11,
   "metadata": {},
   "outputs": [
    {
     "data": {
      "image/png": "[encoded data removed]",
      "text/plain": [
       "<Figure size 432x216 with 1 Axes>"
      ]
     },
     "metadata": {
      "needs_background": "light"
     },
     "output_type": "display_data"
    }
   ],
   "source": [
    "p = np.linspace(0, 1, 1000)\n",
    "\n",
    "plt.figure(figsize=(6, 3))\n",
    "\n",
    "plt.title(\"Misure di impurità\")\n",
    "plt.plot(p, indice_gini(p), label=\"Indice di impurità di Gini\")\n",
    "plt.plot(p, tasso_errata_classificazione(p), label=\"Tasso di errata classificazione\")\n",
    "plt.xlabel(\"p\")\n",
    "plt.legend()\n",
    "\n",
    "plt.show()"
   ]
  },
  {
   "cell_type": "markdown",
   "metadata": {},
   "source": [
    "### Esercizio\n",
    "\n",
    "Dato un nodo $n_{00} = [\\#\\,\\text{Morti}, \\#\\,\\text{Sopravvissuti}] = [400, 400]$, calcolare l'indice di impurità di Gini e il tasso di errata classificazione per:\n",
    "1. risultato della divisione $a$: $n^a_{10} = [300, 100]$ e $n^a_{11} = [100, 300]$;\n",
    "2. Il risultato della divisione $b$: $n^b_{10} = [200, 400]$ e $n^b_{11} = [200, 0]$:\n",
    "\n",
    "> Suggerimento: l'indice della divisione $a$ va calcolato come $I(a) = w^a_0 * I(n^a_{10}) + w^a_1 * I(n^a_{11})$,  dove:\n",
    "\n",
    "> $w^a_0 = \\frac{\\sum n^a_{10}}{\\sum n^a_{10} + \\sum n^a_{11}}$ e \n",
    "> $w^a_1 = \\frac{\\sum n^a_{11}}{\\sum n^a_{10} + \\sum n^a_{11}} = 1 - w^a_0$.\n",
    "\n",
    "Risultato atteso per lo split b:\n",
    "$I_G^b = \\frac{1}{3}$\n",
    "$I_{EC}^b = \\frac{1}{4}$\n"
   ]
  },
  {
   "cell_type": "code",
   "execution_count": 12,
   "metadata": {},
   "outputs": [
    {
     "name": "stdout",
     "output_type": "stream",
     "text": [
      "Indice di impurità di Gini [400 400]: 0.500\n",
      "Tasso di errata classificazione [400 400]: 0.500\n",
      "\n",
      "Indice di impurità di Gini [400 400] -> [300 100] e [100 300]: 0.375\n",
      "Tasso di errata classificazione [400 400] -> [300 100] e [100 300]: 0.250\n",
      "\n",
      "Indice di impurità di Gini [400 400] -> [200 400] e [200   0]: 0.333\n",
      "Tasso di errata classificazione [400 400] -> [200 400] e [200   0]: 0.250\n",
      "\n"
     ]
    }
   ],
   "source": [
    "n00 = np.array([400, 400])\n",
    "\n",
    "n10_a = np.array([300, 100])\n",
    "n11_a = np.array([100, 300])\n",
    "\n",
    "n10_b = np.array([200, 400])\n",
    "n11_b = np.array([200, 0])\n",
    "\n",
    "## calcolare I_G() di n00, nota: p = n00[1] / (n00[0] + n00[1])\n",
    "ig_n00 = indice_gini(n00[1] / n00.sum())\n",
    "# calcolare I_EC() di n00\n",
    "ec_n00 = tasso_errata_classificazione(n00[1] / n00.sum())\n",
    "\n",
    "## divisione \"a\"\n",
    "# calcolare w0_a e w1_a\n",
    "w0_a = n10_a.sum() / (n10_a.sum() + n11_a.sum())\n",
    "w1_a = 1 - w0_a\n",
    "\n",
    "# calcolare I_G() di n10_a e n11_a\n",
    "ig_n10_a = indice_gini(n10_a[1] / n10_a.sum())\n",
    "ig_n11_a = indice_gini(n11_a[1] / n11_a.sum())\n",
    "# calcolare I_G() della divisione \"a\"\n",
    "ig_a = w0_a * ig_n10_a + w1_a * ig_n11_a\n",
    "\n",
    "# calcolare I_EC() di n10_a e n11_a\n",
    "ec_n10_a = tasso_errata_classificazione(n10_a[1] / n10_a.sum())\n",
    "ec_n11_a = tasso_errata_classificazione(n11_a[1] / n11_a.sum())\n",
    "# calcolare I_EC() della divisione \"a\"\n",
    "ec_a = w0_a * ec_n10_a + w1_a * ec_n11_a\n",
    "\n",
    "# TODO: sostituire gli 0. con i valori corretti\n",
    "# ============== YOUR CODE HERE ==============\n",
    "## divisione \"b\"\n",
    "# calcolare w0_b e w1_b\n",
    "w0_b = n10_b.sum()/(n10_b.sum() + n11_b.sum())\n",
    "w1_b = 1 - w0_b\n",
    "\n",
    "# calcolare I_G() di n10_b e n11_b\n",
    "ig_n10_b = indice_gini(n10_b[1]/n10_b.sum())\n",
    "ig_n11_b = indice_gini(n11_b[1]/n11_b.sum())\n",
    "# calcolare I_G() della divisione \"b\"\n",
    "ig_b = w0_b * ig_n10_b + w1_b * ig_n11_b\n",
    "\n",
    "# calcolare I_EC() di n10_b e n11_b\n",
    "ec_n10_b = tasso_errata_classificazione(n10_b[1]/n10_b.sum())\n",
    "ec_n11_b = tasso_errata_classificazione(n11_b[1]/n11_b.sum())\n",
    "# calcolare I_EC() della divisione \"b\"\n",
    "ec_b = w0_b * ec_n10_b + w1_b * ec_n11_b\n",
    "# ============================================\n",
    "\n",
    "print(\"Indice di impurità di Gini {}: {:.3f}\".format(n00, ig_n00))\n",
    "print(\"Tasso di errata classificazione {}: {:.3f}\\n\".format(n00, ig_n00))\n",
    "\n",
    "print(\"Indice di impurità di Gini {} -> {} e {}: {:.3f}\".format(n00, n10_a, n11_a, ig_a))\n",
    "print(\"Tasso di errata classificazione {} -> {} e {}: {:.3f}\\n\".format(n00, n10_a, n11_a, ec_a))\n",
    "\n",
    "print(\"Indice di impurità di Gini {} -> {} e {}: {:.3f}\".format(n00, n10_b, n11_b, ig_b))\n",
    "print(\"Tasso di errata classificazione {} -> {} e {}: {:.3f}\\n\".format(n00, n10_b, n11_b, ec_b))"
   ]
  },
  {
   "cell_type": "markdown",
   "metadata": {},
   "source": [
    "### Esercizio\n",
    "1. Qual'è la divisione migliore secondo l'indice di Gini?\n",
    "2. Qual'è la divisione migliore secondo il tasso di errata classificazione?"
   ]
  },
  {
   "cell_type": "code",
   "execution_count": null,
   "metadata": {},
   "outputs": [],
   "source": []
  },
  {
   "cell_type": "markdown",
   "metadata": {},
   "source": [
    "## 3.2 Creare una o più baseline <a id=baseline> </a>"
   ]
  },
  {
   "cell_type": "markdown",
   "metadata": {},
   "source": [
    "### `DummyClassifier`"
   ]
  },
  {
   "cell_type": "code",
   "execution_count": 13,
   "metadata": {},
   "outputs": [
    {
     "name": "stdout",
     "output_type": "stream",
     "text": [
      "Accuratezza DummyClassifier(\"most_frequent\"): 60.1%\n",
      "\n",
      "Matrice di confusione DummyClassifier: \n",
      " [[134   0]\n",
      " [ 89   0]]\n",
      "\n",
      "Report di classificazione DummyClassifier: \n",
      "               precision    recall  f1-score   support\n",
      "\n",
      "           0       0.60      1.00      0.75       134\n",
      "           1       0.00      0.00      0.00        89\n",
      "\n",
      "    accuracy                           0.60       223\n",
      "   macro avg       0.30      0.50      0.38       223\n",
      "weighted avg       0.36      0.60      0.45       223\n",
      "\n"
     ]
    },
    {
     "name": "stderr",
     "output_type": "stream",
     "text": [
      "C:\\Users\\Lorenzo\\anaconda3\\envs\\msbd\\lib\\site-packages\\sklearn\\metrics\\_classification.py:1272: UndefinedMetricWarning: Precision and F-score are ill-defined and being set to 0.0 in labels with no predicted samples. Use `zero_division` parameter to control this behavior.\n",
      "  _warn_prf(average, modifier, msg_start, len(result))\n"
     ]
    }
   ],
   "source": [
    "from sklearn.dummy import DummyClassifier\n",
    "from sklearn.metrics import accuracy_score, confusion_matrix, classification_report\n",
    "\n",
    "dc = DummyClassifier(\"most_frequent\")\n",
    "\n",
    "dc.fit(X_train, y_train)\n",
    "\n",
    "y_pred = dc.predict(X_val)\n",
    "dc_acc = accuracy_score(y_val, y_pred)\n",
    "\n",
    "print('Accuratezza DummyClassifier(\"most_frequent\"): {:.1f}%'.format(100 * dc_acc))\n",
    "\n",
    "mc = confusion_matrix(y_val, y_pred, labels=[0,1])\n",
    "print(\"\\nMatrice di confusione DummyClassifier: \\n {}\".format(mc))\n",
    "\n",
    "cr = classification_report(y_val, y_pred, output_dict=False)\n",
    "print(\"\\nReport di classificazione DummyClassifier: \\n {}\".format(cr))"
   ]
  },
  {
   "cell_type": "markdown",
   "metadata": {},
   "source": [
    "### `DecisionTreeClassifier` (senza ottimizzazione degli iperparametri)"
   ]
  },
  {
   "cell_type": "code",
   "execution_count": 14,
   "metadata": {},
   "outputs": [],
   "source": [
    "from msbd.preprocessamento import OttenereDummy\n",
    "from sklearn.impute import SimpleImputer\n",
    "from sklearn.pipeline import Pipeline\n",
    "from sklearn.tree import DecisionTreeClassifier"
   ]
  },
  {
   "cell_type": "code",
   "execution_count": 34,
   "metadata": {},
   "outputs": [
    {
     "name": "stdout",
     "output_type": "stream",
     "text": [
      "Accuratezza DummyClassifier(\"most_frequent\"): 60.1%\n",
      "Accuratezza DecisionTreeClassifier(): 76.2%\n",
      "\n",
      "Matrice di confusione DecisionTreeClassifier: \n",
      " [[109  25]\n",
      " [ 28  61]]\n",
      "\n",
      "Report di classificazione DecisionTreeClassifier: \n",
      "               precision    recall  f1-score   support\n",
      "\n",
      "           0       0.80      0.81      0.80       134\n",
      "           1       0.71      0.69      0.70        89\n",
      "\n",
      "    accuracy                           0.76       223\n",
      "   macro avg       0.75      0.75      0.75       223\n",
      "weighted avg       0.76      0.76      0.76       223\n",
      "\n"
     ]
    }
   ],
   "source": [
    "dtc = Pipeline([\n",
    "    (\"ottenere_dummy\", OttenereDummy(drop_first=True)),\n",
    "    (\"imputer\", SimpleImputer(strategy=\"mean\")), \n",
    "    (\"tree\", DecisionTreeClassifier())\n",
    "])\n",
    "\n",
    "dtc.fit(X_train, y_train)\n",
    "\n",
    "y_pred = dtc.predict(X_val)\n",
    "\n",
    "dtc_acc = accuracy_score(y_val, y_pred)\n",
    "\n",
    "print('Accuratezza DummyClassifier(\"most_frequent\"): {:.1f}%'.format(100 * dc_acc))\n",
    "print(\"Accuratezza DecisionTreeClassifier(): {:.1f}%\".format(100 * dtc_acc))\n",
    "\n",
    "mc = confusion_matrix(y_val, y_pred, labels=[0,1])\n",
    "print(\"\\nMatrice di confusione DecisionTreeClassifier: \\n {}\".format(mc))\n",
    "\n",
    "cr = classification_report(y_val, y_pred, output_dict=False)\n",
    "print(\"\\nReport di classificazione DecisionTreeClassifier: \\n {}\".format(cr))\n"
   ]
  },
  {
   "cell_type": "code",
   "execution_count": 42,
   "metadata": {},
   "outputs": [
    {
     "name": "stdout",
     "output_type": "stream",
     "text": [
      "class DecisionTreeClassifier(ClassifierMixin, BaseDecisionTree):\n",
      "    \"\"\"A decision tree classifier.\n",
      "\n",
      "    Read more in the :ref:`User Guide <tree>`.\n",
      "\n",
      "    Parameters\n",
      "    ----------\n",
      "    criterion : {\"gini\", \"entropy\"}, default=\"gini\"\n",
      "        The function to measure the quality of a split. Supported criteria are\n",
      "        \"gini\" for the Gini impurity and \"entropy\" for the information gain.\n",
      "\n",
      "    splitter : {\"best\", \"random\"}, default=\"best\"\n",
      "        The strategy used to choose the split at each node. Supported\n",
      "        strategies are \"best\" to choose the best split and \"random\" to choose\n",
      "        the best random split.\n",
      "\n",
      "    max_depth : int, default=None\n",
      "        The maximum depth of the tree. If None, then nodes are expanded until\n",
      "        all leaves are pure or until all leaves contain less than\n",
      "        min_samples_split samples.\n",
      "\n",
      "    min_samples_split : int or float, default=2\n",
      "        The minimum number of samples required to split an internal node:\n",
      "\n",
      "        - If int, then consider `min_samples_split` as the minimum number.\n",
      "        - If float, then `min_samples_split` is a fraction and\n",
      "          `ceil(min_samples_split * n_samples)` are the minimum\n",
      "          number of samples for each split.\n",
      "\n",
      "        .. versionchanged:: 0.18\n",
      "           Added float values for fractions.\n",
      "\n",
      "    min_samples_leaf : int or float, default=1\n",
      "        The minimum number of samples required to be at a leaf node.\n",
      "        A split point at any depth will only be considered if it leaves at\n",
      "        least ``min_samples_leaf`` training samples in each of the left and\n",
      "        right branches.  This may have the effect of smoothing the model,\n",
      "        especially in regression.\n",
      "\n",
      "        - If int, then consider `min_samples_leaf` as the minimum number.\n",
      "        - If float, then `min_samples_leaf` is a fraction and\n",
      "          `ceil(min_samples_leaf * n_samples)` are the minimum\n",
      "          number of samples for each node.\n",
      "\n",
      "        .. versionchanged:: 0.18\n",
      "           Added float values for fractions.\n",
      "\n",
      "    min_weight_fraction_leaf : float, default=0.0\n",
      "        The minimum weighted fraction of the sum total of weights (of all\n",
      "        the input samples) required to be at a leaf node. Samples have\n",
      "        equal weight when sample_weight is not provided.\n",
      "\n",
      "    max_features : int, float or {\"auto\", \"sqrt\", \"log2\"}, default=None\n",
      "        The number of features to consider when looking for the best split:\n",
      "\n",
      "            - If int, then consider `max_features` features at each split.\n",
      "            - If float, then `max_features` is a fraction and\n",
      "              `int(max_features * n_features)` features are considered at each\n",
      "              split.\n",
      "            - If \"auto\", then `max_features=sqrt(n_features)`.\n",
      "            - If \"sqrt\", then `max_features=sqrt(n_features)`.\n",
      "            - If \"log2\", then `max_features=log2(n_features)`.\n",
      "            - If None, then `max_features=n_features`.\n",
      "\n",
      "        Note: the search for a split does not stop until at least one\n",
      "        valid partition of the node samples is found, even if it requires to\n",
      "        effectively inspect more than ``max_features`` features.\n",
      "\n",
      "    random_state : int or RandomState, default=None\n",
      "        If int, random_state is the seed used by the random number generator;\n",
      "        If RandomState instance, random_state is the random number generator;\n",
      "        If None, the random number generator is the RandomState instance used\n",
      "        by `np.random`.\n",
      "\n",
      "    max_leaf_nodes : int, default=None\n",
      "        Grow a tree with ``max_leaf_nodes`` in best-first fashion.\n",
      "        Best nodes are defined as relative reduction in impurity.\n",
      "        If None then unlimited number of leaf nodes.\n",
      "\n",
      "    min_impurity_decrease : float, default=0.0\n",
      "        A node will be split if this split induces a decrease of the impurity\n",
      "        greater than or equal to this value.\n",
      "\n",
      "        The weighted impurity decrease equation is the following::\n",
      "\n",
      "            N_t / N * (impurity - N_t_R / N_t * right_impurity\n",
      "                                - N_t_L / N_t * left_impurity)\n",
      "\n",
      "        where ``N`` is the total number of samples, ``N_t`` is the number of\n",
      "        samples at the current node, ``N_t_L`` is the number of samples in the\n",
      "        left child, and ``N_t_R`` is the number of samples in the right child.\n",
      "\n",
      "        ``N``, ``N_t``, ``N_t_R`` and ``N_t_L`` all refer to the weighted sum,\n",
      "        if ``sample_weight`` is passed.\n",
      "\n",
      "        .. versionadded:: 0.19\n",
      "\n",
      "    min_impurity_split : float, default=1e-7\n",
      "        Threshold for early stopping in tree growth. A node will split\n",
      "        if its impurity is above the threshold, otherwise it is a leaf.\n",
      "\n",
      "        .. deprecated:: 0.19\n",
      "           ``min_impurity_split`` has been deprecated in favor of\n",
      "           ``min_impurity_decrease`` in 0.19. The default value of\n",
      "           ``min_impurity_split`` will change from 1e-7 to 0 in 0.23 and it\n",
      "           will be removed in 0.25. Use ``min_impurity_decrease`` instead.\n",
      "\n",
      "    class_weight : dict, list of dict or \"balanced\", default=None\n",
      "        Weights associated with classes in the form ``{class_label: weight}``.\n",
      "        If None, all classes are supposed to have weight one. For\n",
      "        multi-output problems, a list of dicts can be provided in the same\n",
      "        order as the columns of y.\n",
      "\n",
      "        Note that for multioutput (including multilabel) weights should be\n",
      "        defined for each class of every column in its own dict. For example,\n",
      "        for four-class multilabel classification weights should be\n",
      "        [{0: 1, 1: 1}, {0: 1, 1: 5}, {0: 1, 1: 1}, {0: 1, 1: 1}] instead of\n",
      "        [{1:1}, {2:5}, {3:1}, {4:1}].\n",
      "\n",
      "        The \"balanced\" mode uses the values of y to automatically adjust\n",
      "        weights inversely proportional to class frequencies in the input data\n",
      "        as ``n_samples / (n_classes * np.bincount(y))``\n",
      "\n",
      "        For multi-output, the weights of each column of y will be multiplied.\n",
      "\n",
      "        Note that these weights will be multiplied with sample_weight (passed\n",
      "        through the fit method) if sample_weight is specified.\n",
      "\n",
      "    presort : deprecated, default='deprecated'\n",
      "        This parameter is deprecated and will be removed in v0.24.\n",
      "\n",
      "        .. deprecated:: 0.22\n",
      "\n",
      "    ccp_alpha : non-negative float, default=0.0\n",
      "        Complexity parameter used for Minimal Cost-Complexity Pruning. The\n",
      "        subtree with the largest cost complexity that is smaller than\n",
      "        ``ccp_alpha`` will be chosen. By default, no pruning is performed. See\n",
      "        :ref:`minimal_cost_complexity_pruning` for details.\n",
      "\n",
      "        .. versionadded:: 0.22\n",
      "\n",
      "    Attributes\n",
      "    ----------\n",
      "    classes_ : ndarray of shape (n_classes,) or list of ndarray\n",
      "        The classes labels (single output problem),\n",
      "        or a list of arrays of class labels (multi-output problem).\n",
      "\n",
      "    feature_importances_ : ndarray of shape (n_features,)\n",
      "        The feature importances. The higher, the more important the\n",
      "        feature. The importance of a feature is computed as the (normalized)\n",
      "        total reduction of the criterion brought by that feature.  It is also\n",
      "        known as the Gini importance [4]_.\n",
      "\n",
      "    max_features_ : int\n",
      "        The inferred value of max_features.\n",
      "\n",
      "    n_classes_ : int or list of int\n",
      "        The number of classes (for single output problems),\n",
      "        or a list containing the number of classes for each\n",
      "        output (for multi-output problems).\n",
      "\n",
      "    n_features_ : int\n",
      "        The number of features when ``fit`` is performed.\n",
      "\n",
      "    n_outputs_ : int\n",
      "        The number of outputs when ``fit`` is performed.\n",
      "\n",
      "    tree_ : Tree\n",
      "        The underlying Tree object. Please refer to\n",
      "        ``help(sklearn.tree._tree.Tree)`` for attributes of Tree object and\n",
      "        :ref:`sphx_glr_auto_examples_tree_plot_unveil_tree_structure.py`\n",
      "        for basic usage of these attributes.\n",
      "\n",
      "    See Also\n",
      "    --------\n",
      "    DecisionTreeRegressor : A decision tree regressor.\n",
      "\n",
      "    Notes\n",
      "    -----\n",
      "    The default values for the parameters controlling the size of the trees\n",
      "    (e.g. ``max_depth``, ``min_samples_leaf``, etc.) lead to fully grown and\n",
      "    unpruned trees which can potentially be very large on some data sets. To\n",
      "    reduce memory consumption, the complexity and size of the trees should be\n",
      "    controlled by setting those parameter values.\n",
      "\n",
      "    The features are always randomly permuted at each split. Therefore,\n",
      "    the best found split may vary, even with the same training data and\n",
      "    ``max_features=n_features``, if the improvement of the criterion is\n",
      "    identical for several splits enumerated during the search of the best\n",
      "    split. To obtain a deterministic behaviour during fitting,\n",
      "    ``random_state`` has to be fixed.\n",
      "\n",
      "    References\n",
      "    ----------\n",
      "\n",
      "    .. [1] https://en.wikipedia.org/wiki/Decision_tree_learning\n",
      "\n",
      "    .. [2] L. Breiman, J. Friedman, R. Olshen, and C. Stone, \"Classification\n",
      "           and Regression Trees\", Wadsworth, Belmont, CA, 1984.\n",
      "\n",
      "    .. [3] T. Hastie, R. Tibshirani and J. Friedman. \"Elements of Statistical\n",
      "           Learning\", Springer, 2009.\n",
      "\n",
      "    .. [4] L. Breiman, and A. Cutler, \"Random Forests\",\n",
      "           https://www.stat.berkeley.edu/~breiman/RandomForests/cc_home.htm\n",
      "\n",
      "    Examples\n",
      "    --------\n",
      "    >>> from sklearn.datasets import load_iris\n",
      "    >>> from sklearn.model_selection import cross_val_score\n",
      "    >>> from sklearn.tree import DecisionTreeClassifier\n",
      "    >>> clf = DecisionTreeClassifier(random_state=0)\n",
      "    >>> iris = load_iris()\n",
      "    >>> cross_val_score(clf, iris.data, iris.target, cv=10)\n",
      "    ...                             # doctest: +SKIP\n",
      "    ...\n",
      "    array([ 1.     ,  0.93...,  0.86...,  0.93...,  0.93...,\n",
      "            0.93...,  0.93...,  1.     ,  0.93...,  1.      ])\n",
      "    \"\"\"\n",
      "    def __init__(self,\n",
      "                 criterion=\"gini\",\n",
      "                 splitter=\"best\",\n",
      "                 max_depth=None,\n",
      "                 min_samples_split=2,\n",
      "                 min_samples_leaf=1,\n",
      "                 min_weight_fraction_leaf=0.,\n",
      "                 max_features=None,\n",
      "                 random_state=None,\n",
      "                 max_leaf_nodes=None,\n",
      "                 min_impurity_decrease=0.,\n",
      "                 min_impurity_split=None,\n",
      "                 class_weight=None,\n",
      "                 presort='deprecated',\n",
      "                 ccp_alpha=0.0):\n",
      "        super().__init__(\n",
      "            criterion=criterion,\n",
      "            splitter=splitter,\n",
      "            max_depth=max_depth,\n",
      "            min_samples_split=min_samples_split,\n",
      "            min_samples_leaf=min_samples_leaf,\n",
      "            min_weight_fraction_leaf=min_weight_fraction_leaf,\n",
      "            max_features=max_features,\n",
      "            max_leaf_nodes=max_leaf_nodes,\n",
      "            class_weight=class_weight,\n",
      "            random_state=random_state,\n",
      "            min_impurity_decrease=min_impurity_decrease,\n",
      "            min_impurity_split=min_impurity_split,\n",
      "            presort=presort,\n",
      "            ccp_alpha=ccp_alpha)\n",
      "\n",
      "    def fit(self, X, y, sample_weight=None, check_input=True,\n",
      "            X_idx_sorted=None):\n",
      "        \"\"\"Build a decision tree classifier from the training set (X, y).\n",
      "\n",
      "        Parameters\n",
      "        ----------\n",
      "        X : {array-like, sparse matrix} of shape (n_samples, n_features)\n",
      "            The training input samples. Internally, it will be converted to\n",
      "            ``dtype=np.float32`` and if a sparse matrix is provided\n",
      "            to a sparse ``csc_matrix``.\n",
      "\n",
      "        y : array-like of shape (n_samples,) or (n_samples, n_outputs)\n",
      "            The target values (class labels) as integers or strings.\n",
      "\n",
      "        sample_weight : array-like of shape (n_samples,), default=None\n",
      "            Sample weights. If None, then samples are equally weighted. Splits\n",
      "            that would create child nodes with net zero or negative weight are\n",
      "            ignored while searching for a split in each node. Splits are also\n",
      "            ignored if they would result in any single class carrying a\n",
      "            negative weight in either child node.\n",
      "\n",
      "        check_input : bool, default=True\n",
      "            Allow to bypass several input checking.\n",
      "            Don't use this parameter unless you know what you do.\n",
      "\n",
      "        X_idx_sorted : array-like of shape (n_samples, n_features), \\\n",
      "                default=None\n",
      "            The indexes of the sorted training input samples. If many tree\n",
      "            are grown on the same dataset, this allows the ordering to be\n",
      "            cached between trees. If None, the data will be sorted here.\n",
      "            Don't use this parameter unless you know what to do.\n",
      "\n",
      "        Returns\n",
      "        -------\n",
      "        self : DecisionTreeClassifier\n",
      "            Fitted estimator.\n",
      "        \"\"\"\n",
      "\n",
      "        super().fit(\n",
      "            X, y,\n",
      "            sample_weight=sample_weight,\n",
      "            check_input=check_input,\n",
      "            X_idx_sorted=X_idx_sorted)\n",
      "        return self\n",
      "\n",
      "    def predict_proba(self, X, check_input=True):\n",
      "        \"\"\"Predict class probabilities of the input samples X.\n",
      "\n",
      "        The predicted class probability is the fraction of samples of the same\n",
      "        class in a leaf.\n",
      "\n",
      "        Parameters\n",
      "        ----------\n",
      "        X : {array-like, sparse matrix} of shape (n_samples, n_features)\n",
      "            The input samples. Internally, it will be converted to\n",
      "            ``dtype=np.float32`` and if a sparse matrix is provided\n",
      "            to a sparse ``csr_matrix``.\n",
      "\n",
      "        check_input : bool, default=True\n",
      "            Allow to bypass several input checking.\n",
      "            Don't use this parameter unless you know what you do.\n",
      "\n",
      "        Returns\n",
      "        -------\n",
      "        proba : ndarray of shape (n_samples, n_classes) or list of n_outputs \\\n",
      "            such arrays if n_outputs > 1\n",
      "            The class probabilities of the input samples. The order of the\n",
      "            classes corresponds to that in the attribute :term:`classes_`.\n",
      "        \"\"\"\n",
      "        check_is_fitted(self)\n",
      "        X = self._validate_X_predict(X, check_input)\n",
      "        proba = self.tree_.predict(X)\n",
      "\n",
      "        if self.n_outputs_ == 1:\n",
      "            proba = proba[:, :self.n_classes_]\n",
      "            normalizer = proba.sum(axis=1)[:, np.newaxis]\n",
      "            normalizer[normalizer == 0.0] = 1.0\n",
      "            proba /= normalizer\n",
      "\n",
      "            return proba\n",
      "\n",
      "        else:\n",
      "            all_proba = []\n",
      "\n",
      "            for k in range(self.n_outputs_):\n",
      "                proba_k = proba[:, k, :self.n_classes_[k]]\n",
      "                normalizer = proba_k.sum(axis=1)[:, np.newaxis]\n",
      "                normalizer[normalizer == 0.0] = 1.0\n",
      "                proba_k /= normalizer\n",
      "                all_proba.append(proba_k)\n",
      "\n",
      "            return all_proba\n",
      "\n",
      "    def predict_log_proba(self, X):\n",
      "        \"\"\"Predict class log-probabilities of the input samples X.\n",
      "\n",
      "        Parameters\n",
      "        ----------\n",
      "        X : {array-like, sparse matrix} of shape (n_samples, n_features)\n",
      "            The input samples. Internally, it will be converted to\n",
      "            ``dtype=np.float32`` and if a sparse matrix is provided\n",
      "            to a sparse ``csr_matrix``.\n",
      "\n",
      "        Returns\n",
      "        -------\n",
      "        proba : ndarray of shape (n_samples, n_classes) or list of n_outputs \\\n",
      "            such arrays if n_outputs > 1\n",
      "            The class log-probabilities of the input samples. The order of the\n",
      "            classes corresponds to that in the attribute :term:`classes_`.\n",
      "        \"\"\"\n",
      "        proba = self.predict_proba(X)\n",
      "\n",
      "        if self.n_outputs_ == 1:\n",
      "            return np.log(proba)\n",
      "\n",
      "        else:\n",
      "            for k in range(self.n_outputs_):\n",
      "                proba[k] = np.log(proba[k])\n",
      "\n",
      "            return proba\n",
      "\n"
     ]
    }
   ],
   "source": [
    "print(inspect.getsource(DecisionTreeClassifier))"
   ]
  },
  {
   "cell_type": "markdown",
   "metadata": {},
   "source": [
    "### Esercizio\n",
    "\n",
    "Calcolare l'accuratezza sull'insieme di *training*. Ci sono segnali di sovradattamento?"
   ]
  },
  {
   "cell_type": "code",
   "execution_count": 32,
   "metadata": {},
   "outputs": [
    {
     "name": "stdout",
     "output_type": "stream",
     "text": [
      "Accuratezza DummyClassifier(\"most_frequent\"): 60.1%\n",
      "Accuratezza DecisionTreeClassifier(): 98.2%\n",
      "\n",
      "Matrice di confusione DecisionTreeClassifier: \n",
      " [[414   1]\n",
      " [ 11 242]]\n",
      "\n",
      "Report di classificazione DecisionTreeClassifier: \n",
      "               precision    recall  f1-score   support\n",
      "\n",
      "           0       0.97      1.00      0.99       415\n",
      "           1       1.00      0.96      0.98       253\n",
      "\n",
      "    accuracy                           0.98       668\n",
      "   macro avg       0.99      0.98      0.98       668\n",
      "weighted avg       0.98      0.98      0.98       668\n",
      "\n"
     ]
    }
   ],
   "source": [
    "dtc = Pipeline([\n",
    "    (\"ottenere_dummy\", OttenereDummy(drop_first=True)),\n",
    "    (\"imputer\", SimpleImputer(strategy=\"mean\")), \n",
    "    (\"tree\", DecisionTreeClassifier())\n",
    "])\n",
    "\n",
    "dtc.fit(X_train, y_train)\n",
    "\n",
    "y_pred = dtc.predict(X_train)\n",
    "dtc_acc = accuracy_score(y_train, y_pred)\n",
    "\n",
    "print('Accuratezza DummyClassifier(\"most_frequent\"): {:.1f}%'.format(100 * dc_acc))\n",
    "print(\"Accuratezza DecisionTreeClassifier(): {:.1f}%\".format(100 * dtc_acc))\n",
    "\n",
    "mc = confusion_matrix(y_train, y_pred, labels=[0,1])\n",
    "print(\"\\nMatrice di confusione DecisionTreeClassifier: \\n {}\".format(mc))\n",
    "\n",
    "cr = classification_report(y_train, y_pred, output_dict=False)\n",
    "print(\"\\nReport di classificazione DecisionTreeClassifier: \\n {}\".format(cr))"
   ]
  },
  {
   "cell_type": "markdown",
   "metadata": {},
   "source": [
    "# 4. Scegliere gli iperparametri ottimali <a id=iperparametri> </a>"
   ]
  },
  {
   "cell_type": "markdown",
   "metadata": {},
   "source": [
    "## 4.1 Definire la griglia di ricerca (*grid search*) <a id=grid> </a>"
   ]
  },
  {
   "cell_type": "code",
   "execution_count": 21,
   "metadata": {},
   "outputs": [
    {
     "name": "stdout",
     "output_type": "stream",
     "text": [
      "Profondità dell'albero allenato senza restrizioni: 17\n",
      "Massimo numero minimo di osservazioni in una foglia: 334\n"
     ]
    }
   ],
   "source": [
    "print(\"Profondità dell'albero allenato senza restrizioni: {}\".format(dtc.named_steps[\"tree\"].tree_.max_depth))\n",
    "print(\"Massimo numero minimo di osservazioni in una foglia: {}\".format(len(X_train) // 2))"
   ]
  },
  {
   "cell_type": "code",
   "execution_count": 22,
   "metadata": {},
   "outputs": [],
   "source": [
    "from sklearn.model_selection import ParameterGrid\n",
    "import tqdm"
   ]
  },
  {
   "cell_type": "code",
   "execution_count": 23,
   "metadata": {},
   "outputs": [
    {
     "name": "stdout",
     "output_type": "stream",
     "text": [
      "[{'tree__max_depth': array([ 1,  2,  3,  4,  5,  6,  7,  8,  9, 10, 11, 12, 13, 14, 15, 16, 17]), 'tree__min_samples_leaf': array([  1,   2,   4,   8,  16,  32,  64, 128, 256], dtype=int32)}]\n"
     ]
    }
   ],
   "source": [
    "param_grid = ParameterGrid({\n",
    "    'tree__max_depth': np.arange(1, 18),\n",
    "    'tree__min_samples_leaf': 2 ** np.arange(9),\n",
    "})\n",
    "print(param_grid.param_grid)"
   ]
  },
  {
   "cell_type": "markdown",
   "metadata": {},
   "source": [
    "> Nota: la ricerca degli iperparametri ottimali tramite *grid search* è fattibile solo quando questi sono pochi. Nel caso in cui gli iperparametri siano molti, un'approccio migliore è  la *random search*. L'equivalente di [ParameterGrid](https://scikit-learn.org/stable/modules/generated/sklearn.model_selection.ParameterGrid.html) per la *random search* è [ParameterSampler](https://scikit-learn.org/stable/modules/generated/sklearn.model_selection.ParameterSampler.html).\n",
    "\n",
    "![search](figures/search.png)\n",
    "\n",
    "*Immagine presa da* [Random Search for Hyper-Parameter Optimization](http://www.jmlr.org/papers/volume13/bergstra12a/bergstra12a.pdf)."
   ]
  },
  {
   "cell_type": "markdown",
   "metadata": {},
   "source": [
    "### Esercizio\n",
    "\n",
    "1. Immaginare di avere risorse sufficienti per valutare fino a 9 combinazioni $(a_0,\\, b_0),\\,\\dots,\\,(a_8,\\, b_8)$ di due iperparametri $a$ e $b$. Sia $n_a = n_b = n$ il numero di valori provati per ogni iperparametro. \n",
    "    1. Quando vale $n$ se si sceglie di fare una *grid search*?\n",
    "    2. Quando vale $n$ se si sceglie di fare una *random search*?\n",
    "2. Immaginare di voler trovare i valori ottimali per 10 iperparametri. Per ognuno di essi si vogliono provare almeno 5 possibili valori. \n",
    "    1. Qual è il numero minimo di combinazioni che si devono valutare se si sceglie di fare una *grid search*?\n",
    "    2. Qual è il numero minimo di combinazioni che si devono valutare se si sceglie di fare una *random search*?\n",
    "    \n",
    "> Nota: per \"valutare una combinazione di iperparametri\" si intende:\n",
    "1. Assegnare agli iperparametri in questione (es. (`max_depth`, `min_samples_leaf`)) i valori della combinazione da valutare(es. (`2`, `50`), `dtc = DecisionTreeClassifier(max_depth=2, min_samples_leaf=50)`;\n",
    "1. Stimare il modello su un insieme di *training* (`dtc.fit(X_train, y_train)`);\n",
    "2. Ottenere la previsione data dal modello su un insieme di *validation* (`y_pred = dtc.predict(X_val)`);\n",
    "3. Utilizzare la previsione ottenuta al passo precedente per ottenere il valore di una metrica di interesse (es. `acc = accuracy_score(y_val, y_pred)`. Il valore così ottenuto verrà utilizzato alla fine della ricerca per decidere qual è la miglior combinazione degli iperparametri tra quelle provate."
   ]
  },
  {
   "cell_type": "code",
   "execution_count": 24,
   "metadata": {},
   "outputs": [],
   "source": [
    "# si veda, ad esempio: \n",
    "# https://blog.usejournal.com/a-comparison-of-grid-search-and-randomized-search-using-scikit-learn-29823179bc85"
   ]
  },
  {
   "cell_type": "markdown",
   "metadata": {},
   "source": [
    "## 4.2 Calcolare l'accuratezza del modello per ogni combinazione degli iperparametri <a id=risultati> </a>"
   ]
  },
  {
   "cell_type": "code",
   "execution_count": 25,
   "metadata": {},
   "outputs": [
    {
     "name": "stderr",
     "output_type": "stream",
     "text": [
      "100%|████████████████████████████████████████████████████████████████████████████████| 153/153 [00:03<00:00, 41.86it/s]"
     ]
    },
    {
     "name": "stdout",
     "output_type": "stream",
     "text": [
      "Primi 5:\n"
     ]
    },
    {
     "name": "stderr",
     "output_type": "stream",
     "text": [
      "\n"
     ]
    },
    {
     "data": {
      "text/html": [
       "<div>\n",
       "<style scoped>\n",
       "    .dataframe tbody tr th:only-of-type {\n",
       "        vertical-align: middle;\n",
       "    }\n",
       "\n",
       "    .dataframe tbody tr th {\n",
       "        vertical-align: top;\n",
       "    }\n",
       "\n",
       "    .dataframe thead th {\n",
       "        text-align: right;\n",
       "    }\n",
       "</style>\n",
       "<table border=\"1\" class=\"dataframe\">\n",
       "  <thead>\n",
       "    <tr style=\"text-align: right;\">\n",
       "      <th></th>\n",
       "      <th>tree__max_depth</th>\n",
       "      <th>tree__min_samples_leaf</th>\n",
       "      <th>accuracy_score</th>\n",
       "    </tr>\n",
       "  </thead>\n",
       "  <tbody>\n",
       "    <tr>\n",
       "      <th>0</th>\n",
       "      <td>8</td>\n",
       "      <td>8</td>\n",
       "      <td>0.834081</td>\n",
       "    </tr>\n",
       "    <tr>\n",
       "      <th>1</th>\n",
       "      <td>9</td>\n",
       "      <td>8</td>\n",
       "      <td>0.834081</td>\n",
       "    </tr>\n",
       "    <tr>\n",
       "      <th>2</th>\n",
       "      <td>10</td>\n",
       "      <td>8</td>\n",
       "      <td>0.834081</td>\n",
       "    </tr>\n",
       "    <tr>\n",
       "      <th>3</th>\n",
       "      <td>11</td>\n",
       "      <td>8</td>\n",
       "      <td>0.834081</td>\n",
       "    </tr>\n",
       "    <tr>\n",
       "      <th>4</th>\n",
       "      <td>12</td>\n",
       "      <td>8</td>\n",
       "      <td>0.834081</td>\n",
       "    </tr>\n",
       "  </tbody>\n",
       "</table>\n",
       "</div>"
      ],
      "text/plain": [
       "   tree__max_depth  tree__min_samples_leaf  accuracy_score\n",
       "0                8                       8        0.834081\n",
       "1                9                       8        0.834081\n",
       "2               10                       8        0.834081\n",
       "3               11                       8        0.834081\n",
       "4               12                       8        0.834081"
      ]
     },
     "metadata": {},
     "output_type": "display_data"
    },
    {
     "name": "stdout",
     "output_type": "stream",
     "text": [
      "Ultimi 5:\n"
     ]
    },
    {
     "data": {
      "text/html": [
       "<div>\n",
       "<style scoped>\n",
       "    .dataframe tbody tr th:only-of-type {\n",
       "        vertical-align: middle;\n",
       "    }\n",
       "\n",
       "    .dataframe tbody tr th {\n",
       "        vertical-align: top;\n",
       "    }\n",
       "\n",
       "    .dataframe thead th {\n",
       "        text-align: right;\n",
       "    }\n",
       "</style>\n",
       "<table border=\"1\" class=\"dataframe\">\n",
       "  <thead>\n",
       "    <tr style=\"text-align: right;\">\n",
       "      <th></th>\n",
       "      <th>tree__max_depth</th>\n",
       "      <th>tree__min_samples_leaf</th>\n",
       "      <th>accuracy_score</th>\n",
       "    </tr>\n",
       "  </thead>\n",
       "  <tbody>\n",
       "    <tr>\n",
       "      <th>148</th>\n",
       "      <td>13</td>\n",
       "      <td>256</td>\n",
       "      <td>0.67713</td>\n",
       "    </tr>\n",
       "    <tr>\n",
       "      <th>149</th>\n",
       "      <td>14</td>\n",
       "      <td>256</td>\n",
       "      <td>0.67713</td>\n",
       "    </tr>\n",
       "    <tr>\n",
       "      <th>150</th>\n",
       "      <td>15</td>\n",
       "      <td>256</td>\n",
       "      <td>0.67713</td>\n",
       "    </tr>\n",
       "    <tr>\n",
       "      <th>151</th>\n",
       "      <td>16</td>\n",
       "      <td>256</td>\n",
       "      <td>0.67713</td>\n",
       "    </tr>\n",
       "    <tr>\n",
       "      <th>152</th>\n",
       "      <td>17</td>\n",
       "      <td>256</td>\n",
       "      <td>0.67713</td>\n",
       "    </tr>\n",
       "  </tbody>\n",
       "</table>\n",
       "</div>"
      ],
      "text/plain": [
       "     tree__max_depth  tree__min_samples_leaf  accuracy_score\n",
       "148               13                     256         0.67713\n",
       "149               14                     256         0.67713\n",
       "150               15                     256         0.67713\n",
       "151               16                     256         0.67713\n",
       "152               17                     256         0.67713"
      ]
     },
     "metadata": {},
     "output_type": "display_data"
    }
   ],
   "source": [
    "risultati = []\n",
    "\n",
    "for params in tqdm.tqdm(param_grid):\n",
    "    dtc.set_params(**params)\n",
    "    dtc.fit(X_train, y_train)\n",
    "    y_pred = dtc.predict(X_val)\n",
    "    params[\"accuracy_score\"] = accuracy_score(y_val, y_pred)\n",
    "    risultati.append(params)\n",
    "\n",
    "risultati = pd.DataFrame(risultati).sort_values([\"accuracy_score\", \"tree__max_depth\"], ascending=[False, True])\n",
    "risultati.reset_index(drop=True, inplace=True)\n",
    "print(\"Primi 5:\")\n",
    "display(risultati.head())\n",
    "\n",
    "print(\"Ultimi 5:\")\n",
    "display(risultati.tail())"
   ]
  },
  {
   "cell_type": "markdown",
   "metadata": {},
   "source": [
    "## 4.3 Visualizzare i risultati della ricerca <a id=visualizzare_risultati> </a>"
   ]
  },
  {
   "cell_type": "code",
   "execution_count": 26,
   "metadata": {},
   "outputs": [
    {
     "name": "stdout",
     "output_type": "stream",
     "text": [
      "def grafico_metrica_iperparametro(risultati, iperparam, metrica, alpha=0.75,\n",
      "        s=300):\n",
      "    plt.title(\"{} al variare di {}\".format(metrica, iperparam))\n",
      "    plt.scatter(risultati[iperparam], risultati[metrica], s=s, alpha=alpha)\n",
      "    plt.xlabel(iperparam)\n",
      "    plt.ylabel(metrica)\n",
      "    plt.grid()\n",
      "\n"
     ]
    }
   ],
   "source": [
    "from msbd.grafici import grafico_metrica_iperparametro\n",
    "\n",
    "print(inspect.getsource(grafico_metrica_iperparametro))"
   ]
  },
  {
   "cell_type": "code",
   "execution_count": 27,
   "metadata": {},
   "outputs": [
    {
     "data": {
      "image/png": "[encoded data removed]",
      "text/plain": [
       "<Figure size 1080x360 with 2 Axes>"
      ]
     },
     "metadata": {
      "needs_background": "light"
     },
     "output_type": "display_data"
    }
   ],
   "source": [
    "plt.figure(figsize=(15, 5))\n",
    "\n",
    "plt.subplot(121)\n",
    "grafico_metrica_iperparametro(risultati, \"tree__max_depth\", \"accuracy_score\", alpha=0.5)\n",
    "\n",
    "plt.subplot(122)\n",
    "grafico_metrica_iperparametro(risultati, \"tree__min_samples_leaf\", \"accuracy_score\", alpha=0.5)\n",
    "plt.xscale(\"log\", basex=2)\n",
    "\n",
    "plt.show()"
   ]
  },
  {
   "cell_type": "code",
   "execution_count": 28,
   "metadata": {},
   "outputs": [
    {
     "name": "stdout",
     "output_type": "stream",
     "text": [
      "def grafico_metrica_iperparametri(risultati, iperparam1, iperparam2, metrica,\n",
      "        alpha=0.75, s=300):\n",
      "    plt.title(\"{} al variare di {} e {}\".format(metrica, iperparam1,\n",
      "        iperparam2))\n",
      "    plt.scatter(risultati[iperparam1], risultati[iperparam2],\n",
      "        c=risultati[metrica], cmap=plt.cm.RdBu_r, alpha=alpha, s=s)\n",
      "    plt.colorbar()\n",
      "    plt.xlabel(iperparam1)\n",
      "    plt.ylabel(iperparam2)\n",
      "    plt.grid()\n",
      "\n"
     ]
    }
   ],
   "source": [
    "from msbd.grafici import grafico_metrica_iperparametri\n",
    "\n",
    "print(inspect.getsource(grafico_metrica_iperparametri))"
   ]
  },
  {
   "cell_type": "code",
   "execution_count": 29,
   "metadata": {},
   "outputs": [
    {
     "data": {
      "image/png": "[encoded data removed]",
      "text/plain": [
       "<Figure size 864x432 with 2 Axes>"
      ]
     },
     "metadata": {
      "needs_background": "light"
     },
     "output_type": "display_data"
    }
   ],
   "source": [
    "plt.figure(figsize=(12, 6))\n",
    "\n",
    "grafico_metrica_iperparametri(risultati, \"tree__max_depth\", \"tree__min_samples_leaf\", \"accuracy_score\")\n",
    "plt.yscale(\"log\", basey=2)\n",
    "\n",
    "plt.show()"
   ]
  },
  {
   "cell_type": "markdown",
   "metadata": {},
   "source": [
    "## 4.4 Confrontare l'accuratezza del modello prima e dopo la scelta degli iperparametri ottimali <a id=confrontare> </a>"
   ]
  },
  {
   "cell_type": "code",
   "execution_count": 36,
   "metadata": {},
   "outputs": [
    {
     "name": "stdout",
     "output_type": "stream",
     "text": [
      "Accuratezza DummyClassifier(\"most_frequent\"): 60.1%\n",
      "Accuratezza DecisionTreeClassifier(): 76.2%\n",
      "Accuratezza DecisionTreeClassifier(max_depth=8, min_samples_leaf=8): 83.4%\n",
      "\n",
      "Matrice di confusione DecisionTreeClassifier(max_depth=8, min_samples_leaf=8): \n",
      " [[119  15]\n",
      " [ 22  67]]\n",
      "\n",
      "Report di classificazione DecisionTreeClassifier(max_depth=8, min_samples_leaf=8): \n",
      "               precision    recall  f1-score   support\n",
      "\n",
      "           0       0.84      0.89      0.87       134\n",
      "           1       0.82      0.75      0.78        89\n",
      "\n",
      "    accuracy                           0.83       223\n",
      "   macro avg       0.83      0.82      0.82       223\n",
      "weighted avg       0.83      0.83      0.83       223\n",
      "\n"
     ]
    }
   ],
   "source": [
    "max_depth = risultati.loc[0, \"tree__max_depth\"]\n",
    "min_samples_leaf = risultati.loc[0, \"tree__min_samples_leaf\"]\n",
    "\n",
    "dtc_tun = Pipeline([\n",
    "    (\"ottenere_dummy\", OttenereDummy(drop_first=True)),\n",
    "    (\"imputer\", SimpleImputer(strategy=\"mean\")), \n",
    "    (\"tree\", DecisionTreeClassifier(max_depth=max_depth, min_samples_leaf=min_samples_leaf))\n",
    "])\n",
    "\n",
    "dtc_tun.fit(X_train, y_train)\n",
    "\n",
    "y_pred = dtc_tun.predict(X_val)\n",
    "dtc_tun_acc = accuracy_score(y_val, y_pred)\n",
    "\n",
    "print('Accuratezza DummyClassifier(\"most_frequent\"): {:.1f}%'.format(100 * dc_acc))\n",
    "print(\"Accuratezza DecisionTreeClassifier(): {:.1f}%\".format(100 * dtc_acc))\n",
    "print(\"Accuratezza DecisionTreeClassifier(max_depth={}, min_samples_leaf={}): {:.1f}%\".format(\n",
    "    max_depth, min_samples_leaf, 100 * dtc_tun_acc))\n",
    "\n",
    "mc = confusion_matrix(y_val, y_pred, labels=[0,1])\n",
    "print(\"\\nMatrice di confusione DecisionTreeClassifier(max_depth={}, min_samples_leaf={}): \\n {}\".format(max_depth, min_samples_leaf, mc))\n",
    "\n",
    "cr = classification_report(y_val, y_pred, output_dict=False)\n",
    "print(\"\\nReport di classificazione DecisionTreeClassifier(max_depth={}, min_samples_leaf={}): \\n {}\".format(max_depth, min_samples_leaf, cr))"
   ]
  },
  {
   "cell_type": "code",
   "execution_count": 45,
   "metadata": {},
   "outputs": [
    {
     "name": "stdout",
     "output_type": "stream",
     "text": [
      "Accuratezza DummyClassifier(\"most_frequent\"): 60.1%\n",
      "Accuratezza DecisionTreeClassifier(): 76.2%\n",
      "Accuratezza DecisionTreeClassifier(max_depth=8, min_samples_leaf=8): 87.0%\n",
      "\n",
      "Matrice di confusione DecisionTreeClassifier(max_depth=8, min_samples_leaf=8): \n",
      " [[388  27]\n",
      " [ 60 193]]\n",
      "\n",
      "Report di classificazione DecisionTreeClassifier(max_depth=8, min_samples_leaf=8): \n",
      "               precision    recall  f1-score   support\n",
      "\n",
      "           0       0.87      0.93      0.90       415\n",
      "           1       0.88      0.76      0.82       253\n",
      "\n",
      "    accuracy                           0.87       668\n",
      "   macro avg       0.87      0.85      0.86       668\n",
      "weighted avg       0.87      0.87      0.87       668\n",
      "\n"
     ]
    }
   ],
   "source": [
    "max_depth = risultati.loc[0, \"tree__max_depth\"]\n",
    "min_samples_leaf = risultati.loc[0, \"tree__min_samples_leaf\"]\n",
    "\n",
    "dtc_tun = Pipeline([\n",
    "    (\"ottenere_dummy\", OttenereDummy(drop_first=True)),\n",
    "    (\"imputer\", SimpleImputer(strategy=\"mean\")), \n",
    "    (\"tree\", DecisionTreeClassifier(criterion=\"entropy\", max_depth=max_depth, min_samples_leaf=min_samples_leaf))\n",
    "])\n",
    "\n",
    "dtc_tun.fit(X_train, y_train)\n",
    "\n",
    "y_pred = dtc_tun.predict(X_train)\n",
    "dtc_tun_acc = accuracy_score(y_train, y_pred)\n",
    "\n",
    "print('Accuratezza DummyClassifier(\"most_frequent\"): {:.1f}%'.format(100 * dc_acc))\n",
    "print(\"Accuratezza DecisionTreeClassifier(): {:.1f}%\".format(100 * dtc_acc))\n",
    "print(\"Accuratezza DecisionTreeClassifier(max_depth={}, min_samples_leaf={}): {:.1f}%\".format(\n",
    "    max_depth, min_samples_leaf, 100 * dtc_tun_acc))\n",
    "\n",
    "mc = confusion_matrix(y_train, y_pred, labels=[0,1])\n",
    "print(\"\\nMatrice di confusione DecisionTreeClassifier(max_depth={}, min_samples_leaf={}): \\n {}\".format(max_depth, min_samples_leaf, mc))\n",
    "\n",
    "cr = classification_report(y_train, y_pred, output_dict=False)\n",
    "print(\"\\nReport di classificazione DecisionTreeClassifier(max_depth={}, min_samples_leaf={}): \\n {}\".format(max_depth, min_samples_leaf, cr))"
   ]
  },
  {
   "cell_type": "markdown",
   "metadata": {},
   "source": [
    "# 5. Visualizzare le caratteristiche dell'albero <a id=visualizzare> </a>"
   ]
  },
  {
   "cell_type": "markdown",
   "metadata": {},
   "source": [
    "## 5.1 Visualizzare l'albero <a id=visualizzare_albero> </a>"
   ]
  },
  {
   "cell_type": "code",
   "execution_count": 37,
   "metadata": {},
   "outputs": [],
   "source": [
    "from sklearn.tree import export_graphviz\n",
    "import graphviz"
   ]
  },
  {
   "cell_type": "code",
   "execution_count": 38,
   "metadata": {
    "scrolled": false
   },
   "outputs": [
    {
     "data": {
      "image/svg+xml": [
       "<?xml version=\"1.0\" encoding=\"UTF-8\" standalone=\"no\"?>\r\n",
       "<!DOCTYPE svg PUBLIC \"-//W3C//DTD SVG 1.1//EN\"\r\n",
       " \"http://www.w3.org/Graphics/SVG/1.1/DTD/svg11.dtd\">\r\n",
       "<!-- Generated by graphviz version 2.38.0 (20140413.2041)\r\n",
       " -->\r\n",
       "<!-- Title: Tree Pages: 1 -->\r\n",
       "<svg width=\"1542pt\" height=\"639pt\"\r\n",
       " viewBox=\"0.00 0.00 1541.50 639.00\" xmlns=\"http://www.w3.org/2000/svg\" xmlns:xlink=\"http://www.w3.org/1999/xlink\">\r\n",
       "<g id=\"graph0\" class=\"graph\" transform=\"scale(1 1) rotate(0) translate(4 635)\">\r\n",
       "<title>Tree</title>\r\n",
       "<polygon fill=\"white\" stroke=\"none\" points=\"-4,4 -4,-635 1537.5,-635 1537.5,4 -4,4\"/>\r\n",
       "<!-- 0 -->\r\n",
       "<g id=\"node1\" class=\"node\"><title>0</title>\r\n",
       "<path fill=\"#f5ceb2\" stroke=\"black\" d=\"M919,-631C919,-631 813,-631 813,-631 807,-631 801,-625 801,-619 801,-619 801,-560 801,-560 801,-554 807,-548 813,-548 813,-548 919,-548 919,-548 925,-548 931,-554 931,-560 931,-560 931,-619 931,-619 931,-625 925,-631 919,-631\"/>\r\n",
       "<text text-anchor=\"middle\" x=\"866\" y=\"-615.8\" font-family=\"Helvetica,sans-Serif\" font-size=\"14.00\">Sex_male &lt;= 0.5</text>\r\n",
       "<text text-anchor=\"middle\" x=\"866\" y=\"-600.8\" font-family=\"Helvetica,sans-Serif\" font-size=\"14.00\">gini = 0.471</text>\r\n",
       "<text text-anchor=\"middle\" x=\"866\" y=\"-585.8\" font-family=\"Helvetica,sans-Serif\" font-size=\"14.00\">samples = 668</text>\r\n",
       "<text text-anchor=\"middle\" x=\"866\" y=\"-570.8\" font-family=\"Helvetica,sans-Serif\" font-size=\"14.00\">value = [415, 253]</text>\r\n",
       "<text text-anchor=\"middle\" x=\"866\" y=\"-555.8\" font-family=\"Helvetica,sans-Serif\" font-size=\"14.00\">class = Morto</text>\r\n",
       "</g>\r\n",
       "<!-- 1 -->\r\n",
       "<g id=\"node2\" class=\"node\"><title>1</title>\r\n",
       "<path fill=\"#7ebfee\" stroke=\"black\" d=\"M810,-512C810,-512 712,-512 712,-512 706,-512 700,-506 700,-500 700,-500 700,-441 700,-441 700,-435 706,-429 712,-429 712,-429 810,-429 810,-429 816,-429 822,-435 822,-441 822,-441 822,-500 822,-500 822,-506 816,-512 810,-512\"/>\r\n",
       "<text text-anchor=\"middle\" x=\"761\" y=\"-496.8\" font-family=\"Helvetica,sans-Serif\" font-size=\"14.00\">Pclass &lt;= 2.5</text>\r\n",
       "<text text-anchor=\"middle\" x=\"761\" y=\"-481.8\" font-family=\"Helvetica,sans-Serif\" font-size=\"14.00\">gini = 0.383</text>\r\n",
       "<text text-anchor=\"middle\" x=\"761\" y=\"-466.8\" font-family=\"Helvetica,sans-Serif\" font-size=\"14.00\">samples = 229</text>\r\n",
       "<text text-anchor=\"middle\" x=\"761\" y=\"-451.8\" font-family=\"Helvetica,sans-Serif\" font-size=\"14.00\">value = [59, 170]</text>\r\n",
       "<text text-anchor=\"middle\" x=\"761\" y=\"-436.8\" font-family=\"Helvetica,sans-Serif\" font-size=\"14.00\">class = Soprav</text>\r\n",
       "</g>\r\n",
       "<!-- 0&#45;&gt;1 -->\r\n",
       "<g id=\"edge1\" class=\"edge\"><title>0&#45;&gt;1</title>\r\n",
       "<path fill=\"none\" stroke=\"black\" d=\"M829.571,-547.907C821.345,-538.742 812.537,-528.927 804.067,-519.489\"/>\r\n",
       "<polygon fill=\"black\" stroke=\"black\" points=\"806.649,-517.126 797.365,-512.021 801.439,-521.801 806.649,-517.126\"/>\r\n",
       "<text text-anchor=\"middle\" x=\"796.015\" y=\"-533.284\" font-family=\"Helvetica,sans-Serif\" font-size=\"14.00\">True</text>\r\n",
       "</g>\r\n",
       "<!-- 34 -->\r\n",
       "<g id=\"node23\" class=\"node\"><title>34</title>\r\n",
       "<path fill=\"#eb9e67\" stroke=\"black\" d=\"M1020,-512C1020,-512 922,-512 922,-512 916,-512 910,-506 910,-500 910,-500 910,-441 910,-441 910,-435 916,-429 922,-429 922,-429 1020,-429 1020,-429 1026,-429 1032,-435 1032,-441 1032,-441 1032,-500 1032,-500 1032,-506 1026,-512 1020,-512\"/>\r\n",
       "<text text-anchor=\"middle\" x=\"971\" y=\"-496.8\" font-family=\"Helvetica,sans-Serif\" font-size=\"14.00\">Age &lt;= 6.5</text>\r\n",
       "<text text-anchor=\"middle\" x=\"971\" y=\"-481.8\" font-family=\"Helvetica,sans-Serif\" font-size=\"14.00\">gini = 0.307</text>\r\n",
       "<text text-anchor=\"middle\" x=\"971\" y=\"-466.8\" font-family=\"Helvetica,sans-Serif\" font-size=\"14.00\">samples = 439</text>\r\n",
       "<text text-anchor=\"middle\" x=\"971\" y=\"-451.8\" font-family=\"Helvetica,sans-Serif\" font-size=\"14.00\">value = [356, 83]</text>\r\n",
       "<text text-anchor=\"middle\" x=\"971\" y=\"-436.8\" font-family=\"Helvetica,sans-Serif\" font-size=\"14.00\">class = Morto</text>\r\n",
       "</g>\r\n",
       "<!-- 0&#45;&gt;34 -->\r\n",
       "<g id=\"edge22\" class=\"edge\"><title>0&#45;&gt;34</title>\r\n",
       "<path fill=\"none\" stroke=\"black\" d=\"M902.429,-547.907C910.655,-538.742 919.463,-528.927 927.933,-519.489\"/>\r\n",
       "<polygon fill=\"black\" stroke=\"black\" points=\"930.561,-521.801 934.635,-512.021 925.351,-517.126 930.561,-521.801\"/>\r\n",
       "<text text-anchor=\"middle\" x=\"935.985\" y=\"-533.284\" font-family=\"Helvetica,sans-Serif\" font-size=\"14.00\">False</text>\r\n",
       "</g>\r\n",
       "<!-- 2 -->\r\n",
       "<g id=\"node3\" class=\"node\"><title>2</title>\r\n",
       "<path fill=\"#40a0e6\" stroke=\"black\" d=\"M433.5,-393C433.5,-393 334.5,-393 334.5,-393 328.5,-393 322.5,-387 322.5,-381 322.5,-381 322.5,-322 322.5,-322 322.5,-316 328.5,-310 334.5,-310 334.5,-310 433.5,-310 433.5,-310 439.5,-310 445.5,-316 445.5,-322 445.5,-322 445.5,-381 445.5,-381 445.5,-387 439.5,-393 433.5,-393\"/>\r\n",
       "<text text-anchor=\"middle\" x=\"384\" y=\"-377.8\" font-family=\"Helvetica,sans-Serif\" font-size=\"14.00\">Fare &lt;= 149.035</text>\r\n",
       "<text text-anchor=\"middle\" x=\"384\" y=\"-362.8\" font-family=\"Helvetica,sans-Serif\" font-size=\"14.00\">gini = 0.064</text>\r\n",
       "<text text-anchor=\"middle\" x=\"384\" y=\"-347.8\" font-family=\"Helvetica,sans-Serif\" font-size=\"14.00\">samples = 120</text>\r\n",
       "<text text-anchor=\"middle\" x=\"384\" y=\"-332.8\" font-family=\"Helvetica,sans-Serif\" font-size=\"14.00\">value = [4, 116]</text>\r\n",
       "<text text-anchor=\"middle\" x=\"384\" y=\"-317.8\" font-family=\"Helvetica,sans-Serif\" font-size=\"14.00\">class = Soprav</text>\r\n",
       "</g>\r\n",
       "<!-- 1&#45;&gt;2 -->\r\n",
       "<g id=\"edge2\" class=\"edge\"><title>1&#45;&gt;2</title>\r\n",
       "<path fill=\"none\" stroke=\"black\" d=\"M699.589,-450.442C632.733,-429.693 525.951,-396.554 455.404,-374.66\"/>\r\n",
       "<polygon fill=\"black\" stroke=\"black\" points=\"456.286,-371.269 445.698,-371.648 454.211,-377.954 456.286,-371.269\"/>\r\n",
       "</g>\r\n",
       "<!-- 13 -->\r\n",
       "<g id=\"node12\" class=\"node\"><title>13</title>\r\n",
       "<path fill=\"#fffdfb\" stroke=\"black\" d=\"M805.5,-393C805.5,-393 716.5,-393 716.5,-393 710.5,-393 704.5,-387 704.5,-381 704.5,-381 704.5,-322 704.5,-322 704.5,-316 710.5,-310 716.5,-310 716.5,-310 805.5,-310 805.5,-310 811.5,-310 817.5,-316 817.5,-322 817.5,-322 817.5,-381 817.5,-381 817.5,-387 811.5,-393 805.5,-393\"/>\r\n",
       "<text text-anchor=\"middle\" x=\"761\" y=\"-377.8\" font-family=\"Helvetica,sans-Serif\" font-size=\"14.00\">Fare &lt;= 23.35</text>\r\n",
       "<text text-anchor=\"middle\" x=\"761\" y=\"-362.8\" font-family=\"Helvetica,sans-Serif\" font-size=\"14.00\">gini = 0.5</text>\r\n",
       "<text text-anchor=\"middle\" x=\"761\" y=\"-347.8\" font-family=\"Helvetica,sans-Serif\" font-size=\"14.00\">samples = 109</text>\r\n",
       "<text text-anchor=\"middle\" x=\"761\" y=\"-332.8\" font-family=\"Helvetica,sans-Serif\" font-size=\"14.00\">value = [55, 54]</text>\r\n",
       "<text text-anchor=\"middle\" x=\"761\" y=\"-317.8\" font-family=\"Helvetica,sans-Serif\" font-size=\"14.00\">class = Morto</text>\r\n",
       "</g>\r\n",
       "<!-- 1&#45;&gt;13 -->\r\n",
       "<g id=\"edge11\" class=\"edge\"><title>1&#45;&gt;13</title>\r\n",
       "<path fill=\"none\" stroke=\"black\" d=\"M761,-428.907C761,-420.649 761,-411.864 761,-403.302\"/>\r\n",
       "<polygon fill=\"black\" stroke=\"black\" points=\"764.5,-403.021 761,-393.021 757.5,-403.021 764.5,-403.021\"/>\r\n",
       "</g>\r\n",
       "<!-- 3 -->\r\n",
       "<g id=\"node4\" class=\"node\"><title>3</title>\r\n",
       "<path fill=\"#3d9fe6\" stroke=\"black\" d=\"M235.5,-274C235.5,-274 146.5,-274 146.5,-274 140.5,-274 134.5,-268 134.5,-262 134.5,-262 134.5,-203 134.5,-203 134.5,-197 140.5,-191 146.5,-191 146.5,-191 235.5,-191 235.5,-191 241.5,-191 247.5,-197 247.5,-203 247.5,-203 247.5,-262 247.5,-262 247.5,-268 241.5,-274 235.5,-274\"/>\r\n",
       "<text text-anchor=\"middle\" x=\"191\" y=\"-258.8\" font-family=\"Helvetica,sans-Serif\" font-size=\"14.00\">Age &lt;= 49.5</text>\r\n",
       "<text text-anchor=\"middle\" x=\"191\" y=\"-243.8\" font-family=\"Helvetica,sans-Serif\" font-size=\"14.00\">gini = 0.038</text>\r\n",
       "<text text-anchor=\"middle\" x=\"191\" y=\"-228.8\" font-family=\"Helvetica,sans-Serif\" font-size=\"14.00\">samples = 104</text>\r\n",
       "<text text-anchor=\"middle\" x=\"191\" y=\"-213.8\" font-family=\"Helvetica,sans-Serif\" font-size=\"14.00\">value = [2, 102]</text>\r\n",
       "<text text-anchor=\"middle\" x=\"191\" y=\"-198.8\" font-family=\"Helvetica,sans-Serif\" font-size=\"14.00\">class = Soprav</text>\r\n",
       "</g>\r\n",
       "<!-- 2&#45;&gt;3 -->\r\n",
       "<g id=\"edge3\" class=\"edge\"><title>2&#45;&gt;3</title>\r\n",
       "<path fill=\"none\" stroke=\"black\" d=\"M322.403,-313.159C301.363,-300.404 277.764,-286.098 256.433,-273.167\"/>\r\n",
       "<polygon fill=\"black\" stroke=\"black\" points=\"258.124,-270.099 247.758,-267.908 254.495,-276.085 258.124,-270.099\"/>\r\n",
       "</g>\r\n",
       "<!-- 10 -->\r\n",
       "<g id=\"node9\" class=\"node\"><title>10</title>\r\n",
       "<path fill=\"#55abe9\" stroke=\"black\" d=\"M427,-274C427,-274 341,-274 341,-274 335,-274 329,-268 329,-262 329,-262 329,-203 329,-203 329,-197 335,-191 341,-191 341,-191 427,-191 427,-191 433,-191 439,-197 439,-203 439,-203 439,-262 439,-262 439,-268 433,-274 427,-274\"/>\r\n",
       "<text text-anchor=\"middle\" x=\"384\" y=\"-258.8\" font-family=\"Helvetica,sans-Serif\" font-size=\"14.00\">Age &lt;= 27.0</text>\r\n",
       "<text text-anchor=\"middle\" x=\"384\" y=\"-243.8\" font-family=\"Helvetica,sans-Serif\" font-size=\"14.00\">gini = 0.219</text>\r\n",
       "<text text-anchor=\"middle\" x=\"384\" y=\"-228.8\" font-family=\"Helvetica,sans-Serif\" font-size=\"14.00\">samples = 16</text>\r\n",
       "<text text-anchor=\"middle\" x=\"384\" y=\"-213.8\" font-family=\"Helvetica,sans-Serif\" font-size=\"14.00\">value = [2, 14]</text>\r\n",
       "<text text-anchor=\"middle\" x=\"384\" y=\"-198.8\" font-family=\"Helvetica,sans-Serif\" font-size=\"14.00\">class = Soprav</text>\r\n",
       "</g>\r\n",
       "<!-- 2&#45;&gt;10 -->\r\n",
       "<g id=\"edge8\" class=\"edge\"><title>2&#45;&gt;10</title>\r\n",
       "<path fill=\"none\" stroke=\"black\" d=\"M384,-309.907C384,-301.649 384,-292.864 384,-284.302\"/>\r\n",
       "<polygon fill=\"black\" stroke=\"black\" points=\"387.5,-284.021 384,-274.021 380.5,-284.021 387.5,-284.021\"/>\r\n",
       "</g>\r\n",
       "<!-- 4 -->\r\n",
       "<g id=\"node5\" class=\"node\"><title>4</title>\r\n",
       "<path fill=\"#3b9ee5\" stroke=\"black\" d=\"M106,-155C106,-155 20,-155 20,-155 14,-155 8,-149 8,-143 8,-143 8,-84 8,-84 8,-78 14,-72 20,-72 20,-72 106,-72 106,-72 112,-72 118,-78 118,-84 118,-84 118,-143 118,-143 118,-149 112,-155 106,-155\"/>\r\n",
       "<text text-anchor=\"middle\" x=\"63\" y=\"-139.8\" font-family=\"Helvetica,sans-Serif\" font-size=\"14.00\">Fare &lt;= 22.0</text>\r\n",
       "<text text-anchor=\"middle\" x=\"63\" y=\"-124.8\" font-family=\"Helvetica,sans-Serif\" font-size=\"14.00\">gini = 0.022</text>\r\n",
       "<text text-anchor=\"middle\" x=\"63\" y=\"-109.8\" font-family=\"Helvetica,sans-Serif\" font-size=\"14.00\">samples = 90</text>\r\n",
       "<text text-anchor=\"middle\" x=\"63\" y=\"-94.8\" font-family=\"Helvetica,sans-Serif\" font-size=\"14.00\">value = [1, 89]</text>\r\n",
       "<text text-anchor=\"middle\" x=\"63\" y=\"-79.8\" font-family=\"Helvetica,sans-Serif\" font-size=\"14.00\">class = Soprav</text>\r\n",
       "</g>\r\n",
       "<!-- 3&#45;&gt;4 -->\r\n",
       "<g id=\"edge4\" class=\"edge\"><title>3&#45;&gt;4</title>\r\n",
       "<path fill=\"none\" stroke=\"black\" d=\"M146.591,-190.907C136.365,-181.56 125.4,-171.538 114.888,-161.929\"/>\r\n",
       "<polygon fill=\"black\" stroke=\"black\" points=\"117.073,-159.184 107.33,-155.021 112.35,-164.351 117.073,-159.184\"/>\r\n",
       "</g>\r\n",
       "<!-- 9 -->\r\n",
       "<g id=\"node8\" class=\"node\"><title>9</title>\r\n",
       "<path fill=\"#48a5e7\" stroke=\"black\" d=\"M234,-147.5C234,-147.5 148,-147.5 148,-147.5 142,-147.5 136,-141.5 136,-135.5 136,-135.5 136,-91.5 136,-91.5 136,-85.5 142,-79.5 148,-79.5 148,-79.5 234,-79.5 234,-79.5 240,-79.5 246,-85.5 246,-91.5 246,-91.5 246,-135.5 246,-135.5 246,-141.5 240,-147.5 234,-147.5\"/>\r\n",
       "<text text-anchor=\"middle\" x=\"191\" y=\"-132.3\" font-family=\"Helvetica,sans-Serif\" font-size=\"14.00\">gini = 0.133</text>\r\n",
       "<text text-anchor=\"middle\" x=\"191\" y=\"-117.3\" font-family=\"Helvetica,sans-Serif\" font-size=\"14.00\">samples = 14</text>\r\n",
       "<text text-anchor=\"middle\" x=\"191\" y=\"-102.3\" font-family=\"Helvetica,sans-Serif\" font-size=\"14.00\">value = [1, 13]</text>\r\n",
       "<text text-anchor=\"middle\" x=\"191\" y=\"-87.3\" font-family=\"Helvetica,sans-Serif\" font-size=\"14.00\">class = Soprav</text>\r\n",
       "</g>\r\n",
       "<!-- 3&#45;&gt;9 -->\r\n",
       "<g id=\"edge7\" class=\"edge\"><title>3&#45;&gt;9</title>\r\n",
       "<path fill=\"none\" stroke=\"black\" d=\"M191,-190.907C191,-180.204 191,-168.615 191,-157.776\"/>\r\n",
       "<polygon fill=\"black\" stroke=\"black\" points=\"194.5,-157.667 191,-147.667 187.5,-157.667 194.5,-157.667\"/>\r\n",
       "</g>\r\n",
       "<!-- 5 -->\r\n",
       "<g id=\"node6\" class=\"node\"><title>5</title>\r\n",
       "<path fill=\"#c0c0c0\" stroke=\"black\" d=\"M42,-36C42,-36 12,-36 12,-36 6,-36 0,-30 0,-24 0,-24 0,-12 0,-12 0,-6 6,-0 12,-0 12,-0 42,-0 42,-0 48,-0 54,-6 54,-12 54,-12 54,-24 54,-24 54,-30 48,-36 42,-36\"/>\r\n",
       "<text text-anchor=\"middle\" x=\"27\" y=\"-14.3\" font-family=\"Helvetica,sans-Serif\" font-size=\"14.00\">(...)</text>\r\n",
       "</g>\r\n",
       "<!-- 4&#45;&gt;5 -->\r\n",
       "<g id=\"edge5\" class=\"edge\"><title>4&#45;&gt;5</title>\r\n",
       "<path fill=\"none\" stroke=\"black\" d=\"M47.3146,-71.7615C43.9573,-63.0419 40.4907,-54.0385 37.3927,-45.9921\"/>\r\n",
       "<polygon fill=\"black\" stroke=\"black\" points=\"40.5609,-44.4797 33.7014,-36.4051 34.0284,-46.9949 40.5609,-44.4797\"/>\r\n",
       "</g>\r\n",
       "<!-- 8 -->\r\n",
       "<g id=\"node7\" class=\"node\"><title>8</title>\r\n",
       "<path fill=\"#c0c0c0\" stroke=\"black\" d=\"M114,-36C114,-36 84,-36 84,-36 78,-36 72,-30 72,-24 72,-24 72,-12 72,-12 72,-6 78,-0 84,-0 84,-0 114,-0 114,-0 120,-0 126,-6 126,-12 126,-12 126,-24 126,-24 126,-30 120,-36 114,-36\"/>\r\n",
       "<text text-anchor=\"middle\" x=\"99\" y=\"-14.3\" font-family=\"Helvetica,sans-Serif\" font-size=\"14.00\">(...)</text>\r\n",
       "</g>\r\n",
       "<!-- 4&#45;&gt;8 -->\r\n",
       "<g id=\"edge6\" class=\"edge\"><title>4&#45;&gt;8</title>\r\n",
       "<path fill=\"none\" stroke=\"black\" d=\"M78.6854,-71.7615C82.0427,-63.0419 85.5093,-54.0385 88.6073,-45.9921\"/>\r\n",
       "<polygon fill=\"black\" stroke=\"black\" points=\"91.9716,-46.9949 92.2986,-36.4051 85.4391,-44.4797 91.9716,-46.9949\"/>\r\n",
       "</g>\r\n",
       "<!-- 11 -->\r\n",
       "<g id=\"node10\" class=\"node\"><title>11</title>\r\n",
       "<path fill=\"#7bbeee\" stroke=\"black\" d=\"M362,-147.5C362,-147.5 276,-147.5 276,-147.5 270,-147.5 264,-141.5 264,-135.5 264,-135.5 264,-91.5 264,-91.5 264,-85.5 270,-79.5 276,-79.5 276,-79.5 362,-79.5 362,-79.5 368,-79.5 374,-85.5 374,-91.5 374,-91.5 374,-135.5 374,-135.5 374,-141.5 368,-147.5 362,-147.5\"/>\r\n",
       "<text text-anchor=\"middle\" x=\"319\" y=\"-132.3\" font-family=\"Helvetica,sans-Serif\" font-size=\"14.00\">gini = 0.375</text>\r\n",
       "<text text-anchor=\"middle\" x=\"319\" y=\"-117.3\" font-family=\"Helvetica,sans-Serif\" font-size=\"14.00\">samples = 8</text>\r\n",
       "<text text-anchor=\"middle\" x=\"319\" y=\"-102.3\" font-family=\"Helvetica,sans-Serif\" font-size=\"14.00\">value = [2, 6]</text>\r\n",
       "<text text-anchor=\"middle\" x=\"319\" y=\"-87.3\" font-family=\"Helvetica,sans-Serif\" font-size=\"14.00\">class = Soprav</text>\r\n",
       "</g>\r\n",
       "<!-- 10&#45;&gt;11 -->\r\n",
       "<g id=\"edge9\" class=\"edge\"><title>10&#45;&gt;11</title>\r\n",
       "<path fill=\"none\" stroke=\"black\" d=\"M361.449,-190.907C355.257,-179.763 348.532,-167.658 342.3,-156.439\"/>\r\n",
       "<polygon fill=\"black\" stroke=\"black\" points=\"345.342,-154.709 337.426,-147.667 339.223,-158.108 345.342,-154.709\"/>\r\n",
       "</g>\r\n",
       "<!-- 12 -->\r\n",
       "<g id=\"node11\" class=\"node\"><title>12</title>\r\n",
       "<path fill=\"#399de5\" stroke=\"black\" d=\"M490,-147.5C490,-147.5 404,-147.5 404,-147.5 398,-147.5 392,-141.5 392,-135.5 392,-135.5 392,-91.5 392,-91.5 392,-85.5 398,-79.5 404,-79.5 404,-79.5 490,-79.5 490,-79.5 496,-79.5 502,-85.5 502,-91.5 502,-91.5 502,-135.5 502,-135.5 502,-141.5 496,-147.5 490,-147.5\"/>\r\n",
       "<text text-anchor=\"middle\" x=\"447\" y=\"-132.3\" font-family=\"Helvetica,sans-Serif\" font-size=\"14.00\">gini = 0.0</text>\r\n",
       "<text text-anchor=\"middle\" x=\"447\" y=\"-117.3\" font-family=\"Helvetica,sans-Serif\" font-size=\"14.00\">samples = 8</text>\r\n",
       "<text text-anchor=\"middle\" x=\"447\" y=\"-102.3\" font-family=\"Helvetica,sans-Serif\" font-size=\"14.00\">value = [0, 8]</text>\r\n",
       "<text text-anchor=\"middle\" x=\"447\" y=\"-87.3\" font-family=\"Helvetica,sans-Serif\" font-size=\"14.00\">class = Soprav</text>\r\n",
       "</g>\r\n",
       "<!-- 10&#45;&gt;12 -->\r\n",
       "<g id=\"edge10\" class=\"edge\"><title>10&#45;&gt;12</title>\r\n",
       "<path fill=\"none\" stroke=\"black\" d=\"M405.858,-190.907C411.799,-179.873 418.247,-167.898 424.238,-156.773\"/>\r\n",
       "<polygon fill=\"black\" stroke=\"black\" points=\"427.481,-158.131 429.141,-147.667 421.318,-154.812 427.481,-158.131\"/>\r\n",
       "</g>\r\n",
       "<!-- 14 -->\r\n",
       "<g id=\"node13\" class=\"node\"><title>14</title>\r\n",
       "<path fill=\"#c7e3f8\" stroke=\"black\" d=\"M751,-274C751,-274 631,-274 631,-274 625,-274 619,-268 619,-262 619,-262 619,-203 619,-203 619,-197 625,-191 631,-191 631,-191 751,-191 751,-191 757,-191 763,-197 763,-203 763,-203 763,-262 763,-262 763,-268 757,-274 751,-274\"/>\r\n",
       "<text text-anchor=\"middle\" x=\"691\" y=\"-258.8\" font-family=\"Helvetica,sans-Serif\" font-size=\"14.00\">Embarked_S &lt;= 0.5</text>\r\n",
       "<text text-anchor=\"middle\" x=\"691\" y=\"-243.8\" font-family=\"Helvetica,sans-Serif\" font-size=\"14.00\">gini = 0.486</text>\r\n",
       "<text text-anchor=\"middle\" x=\"691\" y=\"-228.8\" font-family=\"Helvetica,sans-Serif\" font-size=\"14.00\">samples = 91</text>\r\n",
       "<text text-anchor=\"middle\" x=\"691\" y=\"-213.8\" font-family=\"Helvetica,sans-Serif\" font-size=\"14.00\">value = [38, 53]</text>\r\n",
       "<text text-anchor=\"middle\" x=\"691\" y=\"-198.8\" font-family=\"Helvetica,sans-Serif\" font-size=\"14.00\">class = Soprav</text>\r\n",
       "</g>\r\n",
       "<!-- 13&#45;&gt;14 -->\r\n",
       "<g id=\"edge12\" class=\"edge\"><title>13&#45;&gt;14</title>\r\n",
       "<path fill=\"none\" stroke=\"black\" d=\"M736.714,-309.907C731.447,-301.105 725.822,-291.703 720.383,-282.612\"/>\r\n",
       "<polygon fill=\"black\" stroke=\"black\" points=\"723.381,-280.805 715.243,-274.021 717.374,-284.399 723.381,-280.805\"/>\r\n",
       "</g>\r\n",
       "<!-- 31 -->\r\n",
       "<g id=\"node20\" class=\"node\"><title>31</title>\r\n",
       "<path fill=\"#e78845\" stroke=\"black\" d=\"M881,-274C881,-274 793,-274 793,-274 787,-274 781,-268 781,-262 781,-262 781,-203 781,-203 781,-197 787,-191 793,-191 793,-191 881,-191 881,-191 887,-191 893,-197 893,-203 893,-203 893,-262 893,-262 893,-268 887,-274 881,-274\"/>\r\n",
       "<text text-anchor=\"middle\" x=\"837\" y=\"-258.8\" font-family=\"Helvetica,sans-Serif\" font-size=\"14.00\">Age &lt;= 25.211</text>\r\n",
       "<text text-anchor=\"middle\" x=\"837\" y=\"-243.8\" font-family=\"Helvetica,sans-Serif\" font-size=\"14.00\">gini = 0.105</text>\r\n",
       "<text text-anchor=\"middle\" x=\"837\" y=\"-228.8\" font-family=\"Helvetica,sans-Serif\" font-size=\"14.00\">samples = 18</text>\r\n",
       "<text text-anchor=\"middle\" x=\"837\" y=\"-213.8\" font-family=\"Helvetica,sans-Serif\" font-size=\"14.00\">value = [17, 1]</text>\r\n",
       "<text text-anchor=\"middle\" x=\"837\" y=\"-198.8\" font-family=\"Helvetica,sans-Serif\" font-size=\"14.00\">class = Morto</text>\r\n",
       "</g>\r\n",
       "<!-- 13&#45;&gt;31 -->\r\n",
       "<g id=\"edge19\" class=\"edge\"><title>13&#45;&gt;31</title>\r\n",
       "<path fill=\"none\" stroke=\"black\" d=\"M787.368,-309.907C793.086,-301.105 799.193,-291.703 805.098,-282.612\"/>\r\n",
       "<polygon fill=\"black\" stroke=\"black\" points=\"808.167,-284.313 810.679,-274.021 802.296,-280.5 808.167,-284.313\"/>\r\n",
       "</g>\r\n",
       "<!-- 15 -->\r\n",
       "<g id=\"node14\" class=\"node\"><title>15</title>\r\n",
       "<path fill=\"#8ac5f0\" stroke=\"black\" d=\"M623.5,-155C623.5,-155 532.5,-155 532.5,-155 526.5,-155 520.5,-149 520.5,-143 520.5,-143 520.5,-84 520.5,-84 520.5,-78 526.5,-72 532.5,-72 532.5,-72 623.5,-72 623.5,-72 629.5,-72 635.5,-78 635.5,-84 635.5,-84 635.5,-143 635.5,-143 635.5,-149 629.5,-155 623.5,-155\"/>\r\n",
       "<text text-anchor=\"middle\" x=\"578\" y=\"-139.8\" font-family=\"Helvetica,sans-Serif\" font-size=\"14.00\">Fare &lt;= 15.373</text>\r\n",
       "<text text-anchor=\"middle\" x=\"578\" y=\"-124.8\" font-family=\"Helvetica,sans-Serif\" font-size=\"14.00\">gini = 0.411</text>\r\n",
       "<text text-anchor=\"middle\" x=\"578\" y=\"-109.8\" font-family=\"Helvetica,sans-Serif\" font-size=\"14.00\">samples = 38</text>\r\n",
       "<text text-anchor=\"middle\" x=\"578\" y=\"-94.8\" font-family=\"Helvetica,sans-Serif\" font-size=\"14.00\">value = [11, 27]</text>\r\n",
       "<text text-anchor=\"middle\" x=\"578\" y=\"-79.8\" font-family=\"Helvetica,sans-Serif\" font-size=\"14.00\">class = Soprav</text>\r\n",
       "</g>\r\n",
       "<!-- 14&#45;&gt;15 -->\r\n",
       "<g id=\"edge13\" class=\"edge\"><title>14&#45;&gt;15</title>\r\n",
       "<path fill=\"none\" stroke=\"black\" d=\"M651.795,-190.907C642.943,-181.742 633.463,-171.927 624.348,-162.489\"/>\r\n",
       "<polygon fill=\"black\" stroke=\"black\" points=\"626.6,-159.782 617.135,-155.021 621.565,-164.645 626.6,-159.782\"/>\r\n",
       "</g>\r\n",
       "<!-- 22 -->\r\n",
       "<g id=\"node17\" class=\"node\"><title>22</title>\r\n",
       "<path fill=\"#fefaf8\" stroke=\"black\" d=\"M756.5,-155C756.5,-155 665.5,-155 665.5,-155 659.5,-155 653.5,-149 653.5,-143 653.5,-143 653.5,-84 653.5,-84 653.5,-78 659.5,-72 665.5,-72 665.5,-72 756.5,-72 756.5,-72 762.5,-72 768.5,-78 768.5,-84 768.5,-84 768.5,-143 768.5,-143 768.5,-149 762.5,-155 756.5,-155\"/>\r\n",
       "<text text-anchor=\"middle\" x=\"711\" y=\"-139.8\" font-family=\"Helvetica,sans-Serif\" font-size=\"14.00\">Fare &lt;= 10.825</text>\r\n",
       "<text text-anchor=\"middle\" x=\"711\" y=\"-124.8\" font-family=\"Helvetica,sans-Serif\" font-size=\"14.00\">gini = 0.5</text>\r\n",
       "<text text-anchor=\"middle\" x=\"711\" y=\"-109.8\" font-family=\"Helvetica,sans-Serif\" font-size=\"14.00\">samples = 53</text>\r\n",
       "<text text-anchor=\"middle\" x=\"711\" y=\"-94.8\" font-family=\"Helvetica,sans-Serif\" font-size=\"14.00\">value = [27, 26]</text>\r\n",
       "<text text-anchor=\"middle\" x=\"711\" y=\"-79.8\" font-family=\"Helvetica,sans-Serif\" font-size=\"14.00\">class = Morto</text>\r\n",
       "</g>\r\n",
       "<!-- 14&#45;&gt;22 -->\r\n",
       "<g id=\"edge16\" class=\"edge\"><title>14&#45;&gt;22</title>\r\n",
       "<path fill=\"none\" stroke=\"black\" d=\"M697.939,-190.907C699.366,-182.558 700.885,-173.671 702.364,-165.02\"/>\r\n",
       "<polygon fill=\"black\" stroke=\"black\" points=\"705.838,-165.468 704.073,-155.021 698.938,-164.288 705.838,-165.468\"/>\r\n",
       "</g>\r\n",
       "<!-- 16 -->\r\n",
       "<g id=\"node15\" class=\"node\"><title>16</title>\r\n",
       "<path fill=\"#c0c0c0\" stroke=\"black\" d=\"M536,-36C536,-36 506,-36 506,-36 500,-36 494,-30 494,-24 494,-24 494,-12 494,-12 494,-6 500,-0 506,-0 506,-0 536,-0 536,-0 542,-0 548,-6 548,-12 548,-12 548,-24 548,-24 548,-30 542,-36 536,-36\"/>\r\n",
       "<text text-anchor=\"middle\" x=\"521\" y=\"-14.3\" font-family=\"Helvetica,sans-Serif\" font-size=\"14.00\">(...)</text>\r\n",
       "</g>\r\n",
       "<!-- 15&#45;&gt;16 -->\r\n",
       "<g id=\"edge14\" class=\"edge\"><title>15&#45;&gt;16</title>\r\n",
       "<path fill=\"none\" stroke=\"black\" d=\"M553.165,-71.7615C547.672,-62.7512 541.994,-53.4379 536.966,-45.1906\"/>\r\n",
       "<polygon fill=\"black\" stroke=\"black\" points=\"539.804,-43.1217 531.611,-36.4051 533.827,-46.7654 539.804,-43.1217\"/>\r\n",
       "</g>\r\n",
       "<!-- 21 -->\r\n",
       "<g id=\"node16\" class=\"node\"><title>21</title>\r\n",
       "<path fill=\"#c0c0c0\" stroke=\"black\" d=\"M608,-36C608,-36 578,-36 578,-36 572,-36 566,-30 566,-24 566,-24 566,-12 566,-12 566,-6 572,-0 578,-0 578,-0 608,-0 608,-0 614,-0 620,-6 620,-12 620,-12 620,-24 620,-24 620,-30 614,-36 608,-36\"/>\r\n",
       "<text text-anchor=\"middle\" x=\"593\" y=\"-14.3\" font-family=\"Helvetica,sans-Serif\" font-size=\"14.00\">(...)</text>\r\n",
       "</g>\r\n",
       "<!-- 15&#45;&gt;21 -->\r\n",
       "<g id=\"edge15\" class=\"edge\"><title>15&#45;&gt;21</title>\r\n",
       "<path fill=\"none\" stroke=\"black\" d=\"M584.536,-71.7615C585.903,-63.2356 587.315,-54.4385 588.583,-46.5299\"/>\r\n",
       "<polygon fill=\"black\" stroke=\"black\" points=\"592.079,-46.8333 590.208,-36.4051 585.168,-45.7244 592.079,-46.8333\"/>\r\n",
       "</g>\r\n",
       "<!-- 23 -->\r\n",
       "<g id=\"node18\" class=\"node\"><title>23</title>\r\n",
       "<path fill=\"#c0c0c0\" stroke=\"black\" d=\"M710,-36C710,-36 680,-36 680,-36 674,-36 668,-30 668,-24 668,-24 668,-12 668,-12 668,-6 674,-0 680,-0 680,-0 710,-0 710,-0 716,-0 722,-6 722,-12 722,-12 722,-24 722,-24 722,-30 716,-36 710,-36\"/>\r\n",
       "<text text-anchor=\"middle\" x=\"695\" y=\"-14.3\" font-family=\"Helvetica,sans-Serif\" font-size=\"14.00\">(...)</text>\r\n",
       "</g>\r\n",
       "<!-- 22&#45;&gt;23 -->\r\n",
       "<g id=\"edge17\" class=\"edge\"><title>22&#45;&gt;23</title>\r\n",
       "<path fill=\"none\" stroke=\"black\" d=\"M704.029,-71.7615C702.57,-63.2356 701.064,-54.4385 699.711,-46.5299\"/>\r\n",
       "<polygon fill=\"black\" stroke=\"black\" points=\"703.115,-45.6714 697.978,-36.4051 696.215,-46.8522 703.115,-45.6714\"/>\r\n",
       "</g>\r\n",
       "<!-- 28 -->\r\n",
       "<g id=\"node19\" class=\"node\"><title>28</title>\r\n",
       "<path fill=\"#c0c0c0\" stroke=\"black\" d=\"M782,-36C782,-36 752,-36 752,-36 746,-36 740,-30 740,-24 740,-24 740,-12 740,-12 740,-6 746,-0 752,-0 752,-0 782,-0 782,-0 788,-0 794,-6 794,-12 794,-12 794,-24 794,-24 794,-30 788,-36 782,-36\"/>\r\n",
       "<text text-anchor=\"middle\" x=\"767\" y=\"-14.3\" font-family=\"Helvetica,sans-Serif\" font-size=\"14.00\">(...)</text>\r\n",
       "</g>\r\n",
       "<!-- 22&#45;&gt;28 -->\r\n",
       "<g id=\"edge18\" class=\"edge\"><title>22&#45;&gt;28</title>\r\n",
       "<path fill=\"none\" stroke=\"black\" d=\"M735.4,-71.7615C740.796,-62.7512 746.374,-53.4379 751.314,-45.1906\"/>\r\n",
       "<polygon fill=\"black\" stroke=\"black\" points=\"754.44,-46.7825 756.576,-36.4051 748.435,-43.1857 754.44,-46.7825\"/>\r\n",
       "</g>\r\n",
       "<!-- 32 -->\r\n",
       "<g id=\"node21\" class=\"node\"><title>32</title>\r\n",
       "<path fill=\"#e99355\" stroke=\"black\" d=\"M875.5,-147.5C875.5,-147.5 798.5,-147.5 798.5,-147.5 792.5,-147.5 786.5,-141.5 786.5,-135.5 786.5,-135.5 786.5,-91.5 786.5,-91.5 786.5,-85.5 792.5,-79.5 798.5,-79.5 798.5,-79.5 875.5,-79.5 875.5,-79.5 881.5,-79.5 887.5,-85.5 887.5,-91.5 887.5,-91.5 887.5,-135.5 887.5,-135.5 887.5,-141.5 881.5,-147.5 875.5,-147.5\"/>\r\n",
       "<text text-anchor=\"middle\" x=\"837\" y=\"-132.3\" font-family=\"Helvetica,sans-Serif\" font-size=\"14.00\">gini = 0.219</text>\r\n",
       "<text text-anchor=\"middle\" x=\"837\" y=\"-117.3\" font-family=\"Helvetica,sans-Serif\" font-size=\"14.00\">samples = 8</text>\r\n",
       "<text text-anchor=\"middle\" x=\"837\" y=\"-102.3\" font-family=\"Helvetica,sans-Serif\" font-size=\"14.00\">value = [7, 1]</text>\r\n",
       "<text text-anchor=\"middle\" x=\"837\" y=\"-87.3\" font-family=\"Helvetica,sans-Serif\" font-size=\"14.00\">class = Morto</text>\r\n",
       "</g>\r\n",
       "<!-- 31&#45;&gt;32 -->\r\n",
       "<g id=\"edge20\" class=\"edge\"><title>31&#45;&gt;32</title>\r\n",
       "<path fill=\"none\" stroke=\"black\" d=\"M837,-190.907C837,-180.204 837,-168.615 837,-157.776\"/>\r\n",
       "<polygon fill=\"black\" stroke=\"black\" points=\"840.5,-157.667 837,-147.667 833.5,-157.667 840.5,-157.667\"/>\r\n",
       "</g>\r\n",
       "<!-- 33 -->\r\n",
       "<g id=\"node22\" class=\"node\"><title>33</title>\r\n",
       "<path fill=\"#e58139\" stroke=\"black\" d=\"M998.5,-147.5C998.5,-147.5 917.5,-147.5 917.5,-147.5 911.5,-147.5 905.5,-141.5 905.5,-135.5 905.5,-135.5 905.5,-91.5 905.5,-91.5 905.5,-85.5 911.5,-79.5 917.5,-79.5 917.5,-79.5 998.5,-79.5 998.5,-79.5 1004.5,-79.5 1010.5,-85.5 1010.5,-91.5 1010.5,-91.5 1010.5,-135.5 1010.5,-135.5 1010.5,-141.5 1004.5,-147.5 998.5,-147.5\"/>\r\n",
       "<text text-anchor=\"middle\" x=\"958\" y=\"-132.3\" font-family=\"Helvetica,sans-Serif\" font-size=\"14.00\">gini = 0.0</text>\r\n",
       "<text text-anchor=\"middle\" x=\"958\" y=\"-117.3\" font-family=\"Helvetica,sans-Serif\" font-size=\"14.00\">samples = 10</text>\r\n",
       "<text text-anchor=\"middle\" x=\"958\" y=\"-102.3\" font-family=\"Helvetica,sans-Serif\" font-size=\"14.00\">value = [10, 0]</text>\r\n",
       "<text text-anchor=\"middle\" x=\"958\" y=\"-87.3\" font-family=\"Helvetica,sans-Serif\" font-size=\"14.00\">class = Morto</text>\r\n",
       "</g>\r\n",
       "<!-- 31&#45;&gt;33 -->\r\n",
       "<g id=\"edge21\" class=\"edge\"><title>31&#45;&gt;33</title>\r\n",
       "<path fill=\"none\" stroke=\"black\" d=\"M878.98,-190.907C891.077,-179.211 904.266,-166.457 916.343,-154.78\"/>\r\n",
       "<polygon fill=\"black\" stroke=\"black\" points=\"918.943,-157.134 923.699,-147.667 914.077,-152.102 918.943,-157.134\"/>\r\n",
       "</g>\r\n",
       "<!-- 35 -->\r\n",
       "<g id=\"node24\" class=\"node\"><title>35</title>\r\n",
       "<path fill=\"#88c4ef\" stroke=\"black\" d=\"M1014,-393C1014,-393 928,-393 928,-393 922,-393 916,-387 916,-381 916,-381 916,-322 916,-322 916,-316 922,-310 928,-310 928,-310 1014,-310 1014,-310 1020,-310 1026,-316 1026,-322 1026,-322 1026,-381 1026,-381 1026,-387 1020,-393 1014,-393\"/>\r\n",
       "<text text-anchor=\"middle\" x=\"971\" y=\"-377.8\" font-family=\"Helvetica,sans-Serif\" font-size=\"14.00\">SibSp &lt;= 1.5</text>\r\n",
       "<text text-anchor=\"middle\" x=\"971\" y=\"-362.8\" font-family=\"Helvetica,sans-Serif\" font-size=\"14.00\">gini = 0.408</text>\r\n",
       "<text text-anchor=\"middle\" x=\"971\" y=\"-347.8\" font-family=\"Helvetica,sans-Serif\" font-size=\"14.00\">samples = 21</text>\r\n",
       "<text text-anchor=\"middle\" x=\"971\" y=\"-332.8\" font-family=\"Helvetica,sans-Serif\" font-size=\"14.00\">value = [6, 15]</text>\r\n",
       "<text text-anchor=\"middle\" x=\"971\" y=\"-317.8\" font-family=\"Helvetica,sans-Serif\" font-size=\"14.00\">class = Soprav</text>\r\n",
       "</g>\r\n",
       "<!-- 34&#45;&gt;35 -->\r\n",
       "<g id=\"edge23\" class=\"edge\"><title>34&#45;&gt;35</title>\r\n",
       "<path fill=\"none\" stroke=\"black\" d=\"M971,-428.907C971,-420.649 971,-411.864 971,-403.302\"/>\r\n",
       "<polygon fill=\"black\" stroke=\"black\" points=\"974.5,-403.021 971,-393.021 967.5,-403.021 974.5,-403.021\"/>\r\n",
       "</g>\r\n",
       "<!-- 38 -->\r\n",
       "<g id=\"node27\" class=\"node\"><title>38</title>\r\n",
       "<path fill=\"#ea995f\" stroke=\"black\" d=\"M1264,-393C1264,-393 1166,-393 1166,-393 1160,-393 1154,-387 1154,-381 1154,-381 1154,-322 1154,-322 1154,-316 1160,-310 1166,-310 1166,-310 1264,-310 1264,-310 1270,-310 1276,-316 1276,-322 1276,-322 1276,-381 1276,-381 1276,-387 1270,-393 1264,-393\"/>\r\n",
       "<text text-anchor=\"middle\" x=\"1215\" y=\"-377.8\" font-family=\"Helvetica,sans-Serif\" font-size=\"14.00\">Pclass &lt;= 1.5</text>\r\n",
       "<text text-anchor=\"middle\" x=\"1215\" y=\"-362.8\" font-family=\"Helvetica,sans-Serif\" font-size=\"14.00\">gini = 0.272</text>\r\n",
       "<text text-anchor=\"middle\" x=\"1215\" y=\"-347.8\" font-family=\"Helvetica,sans-Serif\" font-size=\"14.00\">samples = 418</text>\r\n",
       "<text text-anchor=\"middle\" x=\"1215\" y=\"-332.8\" font-family=\"Helvetica,sans-Serif\" font-size=\"14.00\">value = [350, 68]</text>\r\n",
       "<text text-anchor=\"middle\" x=\"1215\" y=\"-317.8\" font-family=\"Helvetica,sans-Serif\" font-size=\"14.00\">class = Morto</text>\r\n",
       "</g>\r\n",
       "<!-- 34&#45;&gt;38 -->\r\n",
       "<g id=\"edge26\" class=\"edge\"><title>34&#45;&gt;38</title>\r\n",
       "<path fill=\"none\" stroke=\"black\" d=\"M1032.26,-440.127C1066.34,-423.785 1108.91,-403.371 1144.39,-386.359\"/>\r\n",
       "<polygon fill=\"black\" stroke=\"black\" points=\"1146.21,-389.365 1153.72,-381.885 1143.19,-383.053 1146.21,-389.365\"/>\r\n",
       "</g>\r\n",
       "<!-- 36 -->\r\n",
       "<g id=\"node25\" class=\"node\"><title>36</title>\r\n",
       "<path fill=\"#399de5\" stroke=\"black\" d=\"M1009,-266.5C1009,-266.5 923,-266.5 923,-266.5 917,-266.5 911,-260.5 911,-254.5 911,-254.5 911,-210.5 911,-210.5 911,-204.5 917,-198.5 923,-198.5 923,-198.5 1009,-198.5 1009,-198.5 1015,-198.5 1021,-204.5 1021,-210.5 1021,-210.5 1021,-254.5 1021,-254.5 1021,-260.5 1015,-266.5 1009,-266.5\"/>\r\n",
       "<text text-anchor=\"middle\" x=\"966\" y=\"-251.3\" font-family=\"Helvetica,sans-Serif\" font-size=\"14.00\">gini = 0.0</text>\r\n",
       "<text text-anchor=\"middle\" x=\"966\" y=\"-236.3\" font-family=\"Helvetica,sans-Serif\" font-size=\"14.00\">samples = 13</text>\r\n",
       "<text text-anchor=\"middle\" x=\"966\" y=\"-221.3\" font-family=\"Helvetica,sans-Serif\" font-size=\"14.00\">value = [0, 13]</text>\r\n",
       "<text text-anchor=\"middle\" x=\"966\" y=\"-206.3\" font-family=\"Helvetica,sans-Serif\" font-size=\"14.00\">class = Soprav</text>\r\n",
       "</g>\r\n",
       "<!-- 35&#45;&gt;36 -->\r\n",
       "<g id=\"edge24\" class=\"edge\"><title>35&#45;&gt;36</title>\r\n",
       "<path fill=\"none\" stroke=\"black\" d=\"M969.265,-309.907C968.808,-299.204 968.313,-287.615 967.849,-276.776\"/>\r\n",
       "<polygon fill=\"black\" stroke=\"black\" points=\"971.341,-276.508 967.417,-266.667 964.348,-276.807 971.341,-276.508\"/>\r\n",
       "</g>\r\n",
       "<!-- 37 -->\r\n",
       "<g id=\"node26\" class=\"node\"><title>37</title>\r\n",
       "<path fill=\"#eeab7b\" stroke=\"black\" d=\"M1128.5,-266.5C1128.5,-266.5 1051.5,-266.5 1051.5,-266.5 1045.5,-266.5 1039.5,-260.5 1039.5,-254.5 1039.5,-254.5 1039.5,-210.5 1039.5,-210.5 1039.5,-204.5 1045.5,-198.5 1051.5,-198.5 1051.5,-198.5 1128.5,-198.5 1128.5,-198.5 1134.5,-198.5 1140.5,-204.5 1140.5,-210.5 1140.5,-210.5 1140.5,-254.5 1140.5,-254.5 1140.5,-260.5 1134.5,-266.5 1128.5,-266.5\"/>\r\n",
       "<text text-anchor=\"middle\" x=\"1090\" y=\"-251.3\" font-family=\"Helvetica,sans-Serif\" font-size=\"14.00\">gini = 0.375</text>\r\n",
       "<text text-anchor=\"middle\" x=\"1090\" y=\"-236.3\" font-family=\"Helvetica,sans-Serif\" font-size=\"14.00\">samples = 8</text>\r\n",
       "<text text-anchor=\"middle\" x=\"1090\" y=\"-221.3\" font-family=\"Helvetica,sans-Serif\" font-size=\"14.00\">value = [6, 2]</text>\r\n",
       "<text text-anchor=\"middle\" x=\"1090\" y=\"-206.3\" font-family=\"Helvetica,sans-Serif\" font-size=\"14.00\">class = Morto</text>\r\n",
       "</g>\r\n",
       "<!-- 35&#45;&gt;37 -->\r\n",
       "<g id=\"edge25\" class=\"edge\"><title>35&#45;&gt;37</title>\r\n",
       "<path fill=\"none\" stroke=\"black\" d=\"M1012.29,-309.907C1024.18,-298.211 1037.15,-285.457 1049.03,-273.78\"/>\r\n",
       "<polygon fill=\"black\" stroke=\"black\" points=\"1051.59,-276.174 1056.27,-266.667 1046.68,-271.182 1051.59,-276.174\"/>\r\n",
       "</g>\r\n",
       "<!-- 39 -->\r\n",
       "<g id=\"node28\" class=\"node\"><title>39</title>\r\n",
       "<path fill=\"#f2c09c\" stroke=\"black\" d=\"M1259.5,-274C1259.5,-274 1170.5,-274 1170.5,-274 1164.5,-274 1158.5,-268 1158.5,-262 1158.5,-262 1158.5,-203 1158.5,-203 1158.5,-197 1164.5,-191 1170.5,-191 1170.5,-191 1259.5,-191 1259.5,-191 1265.5,-191 1271.5,-197 1271.5,-203 1271.5,-203 1271.5,-262 1271.5,-262 1271.5,-268 1265.5,-274 1259.5,-274\"/>\r\n",
       "<text text-anchor=\"middle\" x=\"1215\" y=\"-258.8\" font-family=\"Helvetica,sans-Serif\" font-size=\"14.00\">Age &lt;= 27.5</text>\r\n",
       "<text text-anchor=\"middle\" x=\"1215\" y=\"-243.8\" font-family=\"Helvetica,sans-Serif\" font-size=\"14.00\">gini = 0.444</text>\r\n",
       "<text text-anchor=\"middle\" x=\"1215\" y=\"-228.8\" font-family=\"Helvetica,sans-Serif\" font-size=\"14.00\">samples = 84</text>\r\n",
       "<text text-anchor=\"middle\" x=\"1215\" y=\"-213.8\" font-family=\"Helvetica,sans-Serif\" font-size=\"14.00\">value = [56, 28]</text>\r\n",
       "<text text-anchor=\"middle\" x=\"1215\" y=\"-198.8\" font-family=\"Helvetica,sans-Serif\" font-size=\"14.00\">class = Morto</text>\r\n",
       "</g>\r\n",
       "<!-- 38&#45;&gt;39 -->\r\n",
       "<g id=\"edge27\" class=\"edge\"><title>38&#45;&gt;39</title>\r\n",
       "<path fill=\"none\" stroke=\"black\" d=\"M1215,-309.907C1215,-301.649 1215,-292.864 1215,-284.302\"/>\r\n",
       "<polygon fill=\"black\" stroke=\"black\" points=\"1218.5,-284.021 1215,-274.021 1211.5,-284.021 1218.5,-284.021\"/>\r\n",
       "</g>\r\n",
       "<!-- 52 -->\r\n",
       "<g id=\"node33\" class=\"node\"><title>52</title>\r\n",
       "<path fill=\"#e99254\" stroke=\"black\" d=\"M1400,-274C1400,-274 1302,-274 1302,-274 1296,-274 1290,-268 1290,-262 1290,-262 1290,-203 1290,-203 1290,-197 1296,-191 1302,-191 1302,-191 1400,-191 1400,-191 1406,-191 1412,-197 1412,-203 1412,-203 1412,-262 1412,-262 1412,-268 1406,-274 1400,-274\"/>\r\n",
       "<text text-anchor=\"middle\" x=\"1351\" y=\"-258.8\" font-family=\"Helvetica,sans-Serif\" font-size=\"14.00\">Fare &lt;= 51.698</text>\r\n",
       "<text text-anchor=\"middle\" x=\"1351\" y=\"-243.8\" font-family=\"Helvetica,sans-Serif\" font-size=\"14.00\">gini = 0.211</text>\r\n",
       "<text text-anchor=\"middle\" x=\"1351\" y=\"-228.8\" font-family=\"Helvetica,sans-Serif\" font-size=\"14.00\">samples = 334</text>\r\n",
       "<text text-anchor=\"middle\" x=\"1351\" y=\"-213.8\" font-family=\"Helvetica,sans-Serif\" font-size=\"14.00\">value = [294, 40]</text>\r\n",
       "<text text-anchor=\"middle\" x=\"1351\" y=\"-198.8\" font-family=\"Helvetica,sans-Serif\" font-size=\"14.00\">class = Morto</text>\r\n",
       "</g>\r\n",
       "<!-- 38&#45;&gt;52 -->\r\n",
       "<g id=\"edge32\" class=\"edge\"><title>38&#45;&gt;52</title>\r\n",
       "<path fill=\"none\" stroke=\"black\" d=\"M1262.18,-309.907C1273.16,-300.469 1284.93,-290.343 1296.19,-280.649\"/>\r\n",
       "<polygon fill=\"black\" stroke=\"black\" points=\"1298.6,-283.196 1303.9,-274.021 1294.04,-277.889 1298.6,-283.196\"/>\r\n",
       "</g>\r\n",
       "<!-- 40 -->\r\n",
       "<g id=\"node29\" class=\"node\"><title>40</title>\r\n",
       "<path fill=\"#deeffb\" stroke=\"black\" d=\"M1128,-147.5C1128,-147.5 1042,-147.5 1042,-147.5 1036,-147.5 1030,-141.5 1030,-135.5 1030,-135.5 1030,-91.5 1030,-91.5 1030,-85.5 1036,-79.5 1042,-79.5 1042,-79.5 1128,-79.5 1128,-79.5 1134,-79.5 1140,-85.5 1140,-91.5 1140,-91.5 1140,-135.5 1140,-135.5 1140,-141.5 1134,-147.5 1128,-147.5\"/>\r\n",
       "<text text-anchor=\"middle\" x=\"1085\" y=\"-132.3\" font-family=\"Helvetica,sans-Serif\" font-size=\"14.00\">gini = 0.496</text>\r\n",
       "<text text-anchor=\"middle\" x=\"1085\" y=\"-117.3\" font-family=\"Helvetica,sans-Serif\" font-size=\"14.00\">samples = 11</text>\r\n",
       "<text text-anchor=\"middle\" x=\"1085\" y=\"-102.3\" font-family=\"Helvetica,sans-Serif\" font-size=\"14.00\">value = [5, 6]</text>\r\n",
       "<text text-anchor=\"middle\" x=\"1085\" y=\"-87.3\" font-family=\"Helvetica,sans-Serif\" font-size=\"14.00\">class = Soprav</text>\r\n",
       "</g>\r\n",
       "<!-- 39&#45;&gt;40 -->\r\n",
       "<g id=\"edge28\" class=\"edge\"><title>39&#45;&gt;40</title>\r\n",
       "<path fill=\"none\" stroke=\"black\" d=\"M1169.9,-190.907C1156.78,-179.101 1142.46,-166.217 1129.39,-154.45\"/>\r\n",
       "<polygon fill=\"black\" stroke=\"black\" points=\"1131.63,-151.755 1121.85,-147.667 1126.94,-156.958 1131.63,-151.755\"/>\r\n",
       "</g>\r\n",
       "<!-- 41 -->\r\n",
       "<g id=\"node30\" class=\"node\"><title>41</title>\r\n",
       "<path fill=\"#f0b78e\" stroke=\"black\" d=\"M1259.5,-155C1259.5,-155 1170.5,-155 1170.5,-155 1164.5,-155 1158.5,-149 1158.5,-143 1158.5,-143 1158.5,-84 1158.5,-84 1158.5,-78 1164.5,-72 1170.5,-72 1170.5,-72 1259.5,-72 1259.5,-72 1265.5,-72 1271.5,-78 1271.5,-84 1271.5,-84 1271.5,-143 1271.5,-143 1271.5,-149 1265.5,-155 1259.5,-155\"/>\r\n",
       "<text text-anchor=\"middle\" x=\"1215\" y=\"-139.8\" font-family=\"Helvetica,sans-Serif\" font-size=\"14.00\">Age &lt;= 30.5</text>\r\n",
       "<text text-anchor=\"middle\" x=\"1215\" y=\"-124.8\" font-family=\"Helvetica,sans-Serif\" font-size=\"14.00\">gini = 0.421</text>\r\n",
       "<text text-anchor=\"middle\" x=\"1215\" y=\"-109.8\" font-family=\"Helvetica,sans-Serif\" font-size=\"14.00\">samples = 73</text>\r\n",
       "<text text-anchor=\"middle\" x=\"1215\" y=\"-94.8\" font-family=\"Helvetica,sans-Serif\" font-size=\"14.00\">value = [51, 22]</text>\r\n",
       "<text text-anchor=\"middle\" x=\"1215\" y=\"-79.8\" font-family=\"Helvetica,sans-Serif\" font-size=\"14.00\">class = Morto</text>\r\n",
       "</g>\r\n",
       "<!-- 39&#45;&gt;41 -->\r\n",
       "<g id=\"edge29\" class=\"edge\"><title>39&#45;&gt;41</title>\r\n",
       "<path fill=\"none\" stroke=\"black\" d=\"M1215,-190.907C1215,-182.649 1215,-173.864 1215,-165.302\"/>\r\n",
       "<polygon fill=\"black\" stroke=\"black\" points=\"1218.5,-165.021 1215,-155.021 1211.5,-165.021 1218.5,-165.021\"/>\r\n",
       "</g>\r\n",
       "<!-- 42 -->\r\n",
       "<g id=\"node31\" class=\"node\"><title>42</title>\r\n",
       "<path fill=\"#c0c0c0\" stroke=\"black\" d=\"M1174,-36C1174,-36 1144,-36 1144,-36 1138,-36 1132,-30 1132,-24 1132,-24 1132,-12 1132,-12 1132,-6 1138,-0 1144,-0 1144,-0 1174,-0 1174,-0 1180,-0 1186,-6 1186,-12 1186,-12 1186,-24 1186,-24 1186,-30 1180,-36 1174,-36\"/>\r\n",
       "<text text-anchor=\"middle\" x=\"1159\" y=\"-14.3\" font-family=\"Helvetica,sans-Serif\" font-size=\"14.00\">(...)</text>\r\n",
       "</g>\r\n",
       "<!-- 41&#45;&gt;42 -->\r\n",
       "<g id=\"edge30\" class=\"edge\"><title>41&#45;&gt;42</title>\r\n",
       "<path fill=\"none\" stroke=\"black\" d=\"M1190.6,-71.7615C1185.2,-62.7512 1179.63,-53.4379 1174.69,-45.1906\"/>\r\n",
       "<polygon fill=\"black\" stroke=\"black\" points=\"1177.57,-43.1857 1169.42,-36.4051 1171.56,-46.7825 1177.57,-43.1857\"/>\r\n",
       "</g>\r\n",
       "<!-- 45 -->\r\n",
       "<g id=\"node32\" class=\"node\"><title>45</title>\r\n",
       "<path fill=\"#c0c0c0\" stroke=\"black\" d=\"M1246,-36C1246,-36 1216,-36 1216,-36 1210,-36 1204,-30 1204,-24 1204,-24 1204,-12 1204,-12 1204,-6 1210,-0 1216,-0 1216,-0 1246,-0 1246,-0 1252,-0 1258,-6 1258,-12 1258,-12 1258,-24 1258,-24 1258,-30 1252,-36 1246,-36\"/>\r\n",
       "<text text-anchor=\"middle\" x=\"1231\" y=\"-14.3\" font-family=\"Helvetica,sans-Serif\" font-size=\"14.00\">(...)</text>\r\n",
       "</g>\r\n",
       "<!-- 41&#45;&gt;45 -->\r\n",
       "<g id=\"edge31\" class=\"edge\"><title>41&#45;&gt;45</title>\r\n",
       "<path fill=\"none\" stroke=\"black\" d=\"M1221.97,-71.7615C1223.43,-63.2356 1224.94,-54.4385 1226.29,-46.5299\"/>\r\n",
       "<polygon fill=\"black\" stroke=\"black\" points=\"1229.78,-46.8522 1228.02,-36.4051 1222.88,-45.6714 1229.78,-46.8522\"/>\r\n",
       "</g>\r\n",
       "<!-- 53 -->\r\n",
       "<g id=\"node34\" class=\"node\"><title>53</title>\r\n",
       "<path fill=\"#e89152\" stroke=\"black\" d=\"M1400,-155C1400,-155 1302,-155 1302,-155 1296,-155 1290,-149 1290,-143 1290,-143 1290,-84 1290,-84 1290,-78 1296,-72 1302,-72 1302,-72 1400,-72 1400,-72 1406,-72 1412,-78 1412,-84 1412,-84 1412,-143 1412,-143 1412,-149 1406,-155 1400,-155\"/>\r\n",
       "<text text-anchor=\"middle\" x=\"1351\" y=\"-139.8\" font-family=\"Helvetica,sans-Serif\" font-size=\"14.00\">Age &lt;= 13.0</text>\r\n",
       "<text text-anchor=\"middle\" x=\"1351\" y=\"-124.8\" font-family=\"Helvetica,sans-Serif\" font-size=\"14.00\">gini = 0.199</text>\r\n",
       "<text text-anchor=\"middle\" x=\"1351\" y=\"-109.8\" font-family=\"Helvetica,sans-Serif\" font-size=\"14.00\">samples = 321</text>\r\n",
       "<text text-anchor=\"middle\" x=\"1351\" y=\"-94.8\" font-family=\"Helvetica,sans-Serif\" font-size=\"14.00\">value = [285, 36]</text>\r\n",
       "<text text-anchor=\"middle\" x=\"1351\" y=\"-79.8\" font-family=\"Helvetica,sans-Serif\" font-size=\"14.00\">class = Morto</text>\r\n",
       "</g>\r\n",
       "<!-- 52&#45;&gt;53 -->\r\n",
       "<g id=\"edge33\" class=\"edge\"><title>52&#45;&gt;53</title>\r\n",
       "<path fill=\"none\" stroke=\"black\" d=\"M1351,-190.907C1351,-182.649 1351,-173.864 1351,-165.302\"/>\r\n",
       "<polygon fill=\"black\" stroke=\"black\" points=\"1354.5,-165.021 1351,-155.021 1347.5,-165.021 1354.5,-165.021\"/>\r\n",
       "</g>\r\n",
       "<!-- 66 -->\r\n",
       "<g id=\"node37\" class=\"node\"><title>66</title>\r\n",
       "<path fill=\"#f1b991\" stroke=\"black\" d=\"M1521.5,-147.5C1521.5,-147.5 1442.5,-147.5 1442.5,-147.5 1436.5,-147.5 1430.5,-141.5 1430.5,-135.5 1430.5,-135.5 1430.5,-91.5 1430.5,-91.5 1430.5,-85.5 1436.5,-79.5 1442.5,-79.5 1442.5,-79.5 1521.5,-79.5 1521.5,-79.5 1527.5,-79.5 1533.5,-85.5 1533.5,-91.5 1533.5,-91.5 1533.5,-135.5 1533.5,-135.5 1533.5,-141.5 1527.5,-147.5 1521.5,-147.5\"/>\r\n",
       "<text text-anchor=\"middle\" x=\"1482\" y=\"-132.3\" font-family=\"Helvetica,sans-Serif\" font-size=\"14.00\">gini = 0.426</text>\r\n",
       "<text text-anchor=\"middle\" x=\"1482\" y=\"-117.3\" font-family=\"Helvetica,sans-Serif\" font-size=\"14.00\">samples = 13</text>\r\n",
       "<text text-anchor=\"middle\" x=\"1482\" y=\"-102.3\" font-family=\"Helvetica,sans-Serif\" font-size=\"14.00\">value = [9, 4]</text>\r\n",
       "<text text-anchor=\"middle\" x=\"1482\" y=\"-87.3\" font-family=\"Helvetica,sans-Serif\" font-size=\"14.00\">class = Morto</text>\r\n",
       "</g>\r\n",
       "<!-- 52&#45;&gt;66 -->\r\n",
       "<g id=\"edge36\" class=\"edge\"><title>52&#45;&gt;66</title>\r\n",
       "<path fill=\"none\" stroke=\"black\" d=\"M1396.45,-190.907C1409.67,-179.101 1424.1,-166.217 1437.27,-154.45\"/>\r\n",
       "<polygon fill=\"black\" stroke=\"black\" points=\"1439.74,-156.939 1444.86,-147.667 1435.07,-151.718 1439.74,-156.939\"/>\r\n",
       "</g>\r\n",
       "<!-- 54 -->\r\n",
       "<g id=\"node35\" class=\"node\"><title>54</title>\r\n",
       "<path fill=\"#c0c0c0\" stroke=\"black\" d=\"M1350,-36C1350,-36 1320,-36 1320,-36 1314,-36 1308,-30 1308,-24 1308,-24 1308,-12 1308,-12 1308,-6 1314,-0 1320,-0 1320,-0 1350,-0 1350,-0 1356,-0 1362,-6 1362,-12 1362,-12 1362,-24 1362,-24 1362,-30 1356,-36 1350,-36\"/>\r\n",
       "<text text-anchor=\"middle\" x=\"1335\" y=\"-14.3\" font-family=\"Helvetica,sans-Serif\" font-size=\"14.00\">(...)</text>\r\n",
       "</g>\r\n",
       "<!-- 53&#45;&gt;54 -->\r\n",
       "<g id=\"edge34\" class=\"edge\"><title>53&#45;&gt;54</title>\r\n",
       "<path fill=\"none\" stroke=\"black\" d=\"M1344.03,-71.7615C1342.57,-63.2356 1341.06,-54.4385 1339.71,-46.5299\"/>\r\n",
       "<polygon fill=\"black\" stroke=\"black\" points=\"1343.12,-45.6714 1337.98,-36.4051 1336.22,-46.8522 1343.12,-45.6714\"/>\r\n",
       "</g>\r\n",
       "<!-- 55 -->\r\n",
       "<g id=\"node36\" class=\"node\"><title>55</title>\r\n",
       "<path fill=\"#c0c0c0\" stroke=\"black\" d=\"M1422,-36C1422,-36 1392,-36 1392,-36 1386,-36 1380,-30 1380,-24 1380,-24 1380,-12 1380,-12 1380,-6 1386,-0 1392,-0 1392,-0 1422,-0 1422,-0 1428,-0 1434,-6 1434,-12 1434,-12 1434,-24 1434,-24 1434,-30 1428,-36 1422,-36\"/>\r\n",
       "<text text-anchor=\"middle\" x=\"1407\" y=\"-14.3\" font-family=\"Helvetica,sans-Serif\" font-size=\"14.00\">(...)</text>\r\n",
       "</g>\r\n",
       "<!-- 53&#45;&gt;55 -->\r\n",
       "<g id=\"edge35\" class=\"edge\"><title>53&#45;&gt;55</title>\r\n",
       "<path fill=\"none\" stroke=\"black\" d=\"M1375.4,-71.7615C1380.8,-62.7512 1386.37,-53.4379 1391.31,-45.1906\"/>\r\n",
       "<polygon fill=\"black\" stroke=\"black\" points=\"1394.44,-46.7825 1396.58,-36.4051 1388.43,-43.1857 1394.44,-46.7825\"/>\r\n",
       "</g>\r\n",
       "</g>\r\n",
       "</svg>\r\n"
      ],
      "text/plain": [
       "<graphviz.files.Source at 0x1cc8df253c8>"
      ]
     },
     "metadata": {},
     "output_type": "display_data"
    }
   ],
   "source": [
    "dot_data = export_graphviz(\n",
    "    decision_tree=dtc_tun.named_steps[\"tree\"], \n",
    "    max_depth=4,\n",
    "    feature_names=dtc.named_steps[\"ottenere_dummy\"].columns_,\n",
    "    class_names=(\"Morto\", \"Soprav\"),\n",
    "    filled=True,\n",
    "    rounded=True,\n",
    ")\n",
    "display(graphviz.Source(dot_data))"
   ]
  },
  {
   "cell_type": "markdown",
   "metadata": {},
   "source": [
    "## 5.2 Visualizzare l'importanza delle variabili <a id=visualizzare_importanza> </a>"
   ]
  },
  {
   "cell_type": "markdown",
   "metadata": {},
   "source": [
    "Dalla pagina di [DecisionTreeClassifier](https://scikit-learn.org/stable/modules/generated/sklearn.tree.DecisionTreeClassifier.html#sklearn.tree.DecisionTreeClassifier.feature_importances_):\n",
    "\n",
    "The importance of a feature is computed as the *(normalized) total reduction of the criterion* brought by that feature. It is also known as the Gini importance."
   ]
  },
  {
   "cell_type": "code",
   "execution_count": 39,
   "metadata": {},
   "outputs": [
    {
     "name": "stdout",
     "output_type": "stream",
     "text": [
      "def grafico_importanza_variabili(importanze, variabili, max_num=None,\n",
      "        titolo=\"Importanza delle variabili\"):\n",
      "    importanze = pd.Series(importanze, index=variabili).sort_values(\n",
      "        ascending=False)\n",
      "    importanze[:max_num].plot(kind=\"bar\", grid=True, title=titolo,\n",
      "        color=\"tab:blue\")\n",
      "\n"
     ]
    }
   ],
   "source": [
    "from msbd.grafici import grafico_importanza_variabili\n",
    "\n",
    "print(inspect.getsource(grafico_importanza_variabili))"
   ]
  },
  {
   "cell_type": "code",
   "execution_count": 40,
   "metadata": {},
   "outputs": [
    {
     "data": {
      "image/png": "[encoded data removed]",
      "text/plain": [
       "<Figure size 432x288 with 1 Axes>"
      ]
     },
     "metadata": {
      "needs_background": "light"
     },
     "output_type": "display_data"
    }
   ],
   "source": [
    "importanze = dtc_tun.named_steps[\"tree\"].feature_importances_\n",
    "variabili = dtc_tun.named_steps[\"ottenere_dummy\"].columns_\n",
    "\n",
    "grafico_importanza_variabili(importanze, variabili)\n",
    "\n",
    "plt.show()"
   ]
  },
  {
   "cell_type": "markdown",
   "metadata": {},
   "source": [
    "## 5.3 Visualizzare le superfici di decisione <a id=visualizzare_superfici> </a>"
   ]
  },
  {
   "cell_type": "markdown",
   "metadata": {},
   "source": [
    "### Esercizio\n",
    "\n",
    "Imitare, per le variabili per cui ha senso, i grafici presenti in [Plot the decision surface of a decision tree on the iris dataset](https://scikit-learn.org/stable/auto_examples/tree/plot_iris_dtc.html)."
   ]
  },
  {
   "cell_type": "code",
   "execution_count": 41,
   "metadata": {},
   "outputs": [
    {
     "name": "stdout",
     "output_type": "stream",
     "text": [
      "Automatically created module for IPython interactive environment\n"
     ]
    },
    {
     "data": {
      "image/png": "[encoded data removed]",
      "text/plain": [
       "<Figure size 432x288 with 3 Axes>"
      ]
     },
     "metadata": {
      "needs_background": "light"
     },
     "output_type": "display_data"
    },
    {
     "data": {
      "image/png": "[encoded data removed]",
      "text/plain": [
       "<Figure size 432x288 with 1 Axes>"
      ]
     },
     "metadata": {
      "needs_background": "light"
     },
     "output_type": "display_data"
    }
   ],
   "source": [
    "print(__doc__)\n",
    "\n",
    "import numpy as np\n",
    "import matplotlib.pyplot as plt\n",
    "\n",
    "from sklearn.datasets import load_iris\n",
    "from sklearn.tree import DecisionTreeClassifier, plot_tree\n",
    "\n",
    "# Parameters\n",
    "n_classes = 2 # 0=non sopravvissuti, 1=sopravvissuti\n",
    "plot_colors = \"rb\"\n",
    "plot_step = 0.02\n",
    "\n",
    "# Preparo il dataset X_train applicandogli la Pipeline di preprocessing \n",
    "# (creazione dummy e imputazione per i valori mancanti)\n",
    "preproc = Pipeline([\n",
    "    (\"ottenere_dummy\", OttenereDummy(drop_first=True)),\n",
    "    (\"imputer\", SimpleImputer(strategy=\"mean\"))\n",
    "])\n",
    "prep_X = preproc.fit_transform(X_train)\n",
    "\n",
    "# scelgo 3 variabili numeriche del dataset \n",
    "    # 0: Pclass\n",
    "    # 1: Age\n",
    "    # 2: Sibsp\n",
    "    # 3: Parch\n",
    "    # 4: Fare\n",
    "    # 5: Sex (0=Male, 1=Female)\n",
    "    # 6/7: Embarked (0,0=C, 0,1=S, 1,0=Q) \n",
    "# e ne elenco le coppie all'interno di enumerate.\n",
    "# Io ho scelto Pclass, Sibsp e Fare, ma potete provare diverse combinazioni.\n",
    "\n",
    "for pairidx, pair in enumerate([[0, 2], [0, 4], [2, 4]]):\n",
    "    # Seleziono da X solo la i-esima coppia di variabili che mi interessano\n",
    "    X = prep_X[:, pair]\n",
    "    y = y_train\n",
    "\n",
    "    # Train\n",
    "    clf = DecisionTreeClassifier().fit(X, y)\n",
    "\n",
    "    # Plot the decision boundary\n",
    "    plt.subplot(2, 3, pairidx + 1)\n",
    "\n",
    "    x_min, x_max = X[:, 0].min() - 1, X[:, 0].max() + 1\n",
    "    y_min, y_max = X[:, 1].min() - 1, X[:, 1].max() + 1\n",
    "    xx, yy = np.meshgrid(np.arange(x_min, x_max, plot_step),\n",
    "                         np.arange(y_min, y_max, plot_step))\n",
    "    plt.tight_layout(h_pad=0.5, w_pad=0.5, pad=2.5)\n",
    "\n",
    "    Z = clf.predict(np.c_[xx.ravel(), yy.ravel()])\n",
    "    Z = Z.reshape(xx.shape)\n",
    "    cs = plt.contourf(xx, yy, Z, cmap=plt.cm.RdYlBu)\n",
    "\n",
    "    # Nomi dele variabili - in questo caso ho solo l'indice numerico\n",
    "    plt.xlabel(pair[0])\n",
    "    plt.ylabel(pair[1])\n",
    "\n",
    "    # Plot the training points\n",
    "    for i, color in zip(range(n_classes), plot_colors):\n",
    "        idx = np.where(y == i)\n",
    "        plt.scatter(X[idx, 0], X[idx, 1], c=color, label=np.unique(y)[i],\n",
    "                    cmap=plt.cm.RdYlBu, edgecolor='black', s=15)\n",
    "\n",
    "plt.suptitle(\"Decision surface of a decision tree using paired features\")\n",
    "plt.legend(loc='lower right', borderpad=0, handletextpad=0)\n",
    "plt.axis(\"tight\")\n",
    "\n",
    "plt.figure()\n",
    "clf = DecisionTreeClassifier().fit(X, y)\n",
    "plot_tree(clf, filled=True)\n",
    "plt.show()"
   ]
  },
  {
   "cell_type": "code",
   "execution_count": null,
   "metadata": {},
   "outputs": [],
   "source": []
  },
  {
   "cell_type": "code",
   "execution_count": null,
   "metadata": {},
   "outputs": [],
   "source": []
  }
 ],
 "metadata": {
  "kernelspec": {
   "display_name": "Python 3",
   "language": "python",
   "name": "python3"
  },
  "language_info": {
   "codemirror_mode": {
    "name": "ipython",
    "version": 3
   },
   "file_extension": ".py",
   "mimetype": "text/x-python",
   "name": "python",
   "nbconvert_exporter": "python",
   "pygments_lexer": "ipython3",
   "version": "3.7.6"
  }
 },
 "nbformat": 4,
 "nbformat_minor": 2
}
