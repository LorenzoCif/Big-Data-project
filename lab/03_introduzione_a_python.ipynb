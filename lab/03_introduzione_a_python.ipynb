{
 "cells": [
  {
   "cell_type": "markdown",
   "metadata": {},
   "source": [
    "# Introduzione a Python"
   ]
  },
  {
   "cell_type": "markdown",
   "metadata": {},
   "source": [
    "## Indice\n",
    "1. [Python](#python)<br>\n",
    "2. [Importare moduli in Python](#import)<br>\n",
    "3. [Numeri](#numeri)<br>\n",
    "    3.1 [Variabili numeriche](#variabili_numeriche)<br>\n",
    "    3.2 [Operatori aritmetici](#operatori_aritmetici)<br>\n",
    "    3.3 [Operatori di assegnazione](#operatori_assegnazione)<br>\n",
    "4. [Operatori di confronto e logici](#operatori_confronto_logici)<br>\n",
    "5. [Stringhe](#stringhe)<br>\n",
    "6. [Strutture dati](#strutture_dati)<br>\n",
    "    6.1 [`list`](#list)<br>\n",
    "    6.2 [`tuple`](#tuple)<br>\n",
    "    6.3 [`set`](#set)<br>\n",
    "    6.4 [`dict`](#dict)<br>\n",
    "7. [Strumenti di controllo del flusso](#controllo_flusso)<br>\n",
    "8. [Funzioni](#funzioni)<br>\n",
    "9. [Verificare il proprio codice con pytest](#pytest)<br>\n",
    "10. [Generatori](#generatori)<br>\n",
    "11. [Classi](#classi)<br>\n",
    "    11.1 [Creare una semplice classe](#creare_classe)<br>\n",
    "    11.2 [Ereditarietà](#ereditarietà)<br>"
   ]
  },
  {
   "cell_type": "markdown",
   "metadata": {},
   "source": [
    "# 1. Python <a id=python> </a>\n",
    "\n",
    "<img style=\"float: right;\" src=\"figures/guido.jpg\">\n",
    "\n",
    "Python è un linguaggio di programmazione orientato agli oggetti, inventato da Guido van Rossum, che si distingue per una sintassi molto chiara e una curva di apprendimento non troppo ripida. Oggi Python è utilizzato in moltissimi contesti e, [secondo alcuni](https://www.kdnuggets.com/2018/05/poll-tools-analytics-data-science-machine-learning-results.html), si sta \"mangiando\" R come *Top Analytics/Data Science/ML Software*:\n",
    "\n",
    "> Python eats away at R\n",
    "Python already had over 50% share in 2017, and increased its share to 66%, while R share has decreased for the first time since we have done this poll, and dropped to below 50%. \n",
    "\n",
    "Parte di questo incremento di popolarità è dovuto alla sua versatilità e a pacchetti fantastici come quelli che useremo nelle seguenti lezioni come NumPy, Pandas, Matplotlib, SciKit-Learn e altri ancora. Python è inoltre molto popolare nell'industria ed è il linguaggio di programmazione de facto del Deep Learning grazie a librerie come TensorFlow, PyTorch, Keras e MXNet per citarne alcune.\n",
    "\n",
    "Risorse per imparare le basi di Python:\n",
    "* [Introduction to Python (Udacity)](https://eu.udacity.com/course/introduction-to-python--ud1110)\n",
    "* [The Python Tutorial (Python Software Foundation)](https://docs.python.org/3/tutorial/index.html)\n",
    "\n",
    "Per scrivere del buon codice Python seguire le indicazioni date dalla guida ufficiale: [PEP 8 -- Style Guide for Python Code](https://www.python.org/dev/peps/pep-0008/)."
   ]
  },
  {
   "cell_type": "markdown",
   "metadata": {},
   "source": [
    "# 2. Importare moduli in Python <a id=import> </a>"
   ]
  },
  {
   "cell_type": "markdown",
   "metadata": {},
   "source": [
    "[`autoreload`](https://ipython.org/ipython-doc/3/config/extensions/autoreload.html) permette di ricaricare i moduli prima di eseguire il codice dell'utente."
   ]
  },
  {
   "cell_type": "code",
   "execution_count": 1,
   "metadata": {},
   "outputs": [],
   "source": [
    "%load_ext autoreload\n",
    "%autoreload 2"
   ]
  },
  {
   "cell_type": "markdown",
   "metadata": {},
   "source": [
    "### `import` pacchetto <a id=import_pacchetto> </a>"
   ]
  },
  {
   "cell_type": "code",
   "execution_count": 1,
   "metadata": {},
   "outputs": [
    {
     "name": "stdout",
     "output_type": "stream",
     "text": [
      "Help on package msbd:\n",
      "\n",
      "NAME\n",
      "    msbd\n",
      "\n",
      "PACKAGE CONTENTS\n",
      "    datasets (package)\n",
      "    esperimenti (package)\n",
      "    grafici (package)\n",
      "    hello_world (package)\n",
      "    indici (package)\n",
      "    matematica (package)\n",
      "    metriche (package)\n",
      "    modello_lineare (package)\n",
      "    preprocessamento (package)\n",
      "    scraping (package)\n",
      "    selezione_variabili (package)\n",
      "    tests (package)\n",
      "    varieta (package)\n",
      "\n",
      "FILE\n",
      "    /Users/gianluca/Dropbox/Unipd/lab/msbd/__init__.py\n",
      "\n",
      "\n",
      "None\n"
     ]
    }
   ],
   "source": [
    "import msbd\n",
    "\n",
    "print(help(msbd))"
   ]
  },
  {
   "cell_type": "markdown",
   "metadata": {},
   "source": [
    "### Accedere agli attributi del pacchetto tramite \"`.`\""
   ]
  },
  {
   "cell_type": "code",
   "execution_count": 3,
   "metadata": {},
   "outputs": [
    {
     "name": "stdout",
     "output_type": "stream",
     "text": [
      "Hello, world!\n"
     ]
    }
   ],
   "source": [
    "msbd.hello_world.print_hello_world()"
   ]
  },
  {
   "cell_type": "markdown",
   "metadata": {},
   "source": [
    "### `from` pacchetto `import` modulo"
   ]
  },
  {
   "cell_type": "code",
   "execution_count": 4,
   "metadata": {},
   "outputs": [
    {
     "name": "stdout",
     "output_type": "stream",
     "text": [
      "Hello, world!\n"
     ]
    }
   ],
   "source": [
    "from msbd import hello_world\n",
    "\n",
    "hello_world.print_hello_world()"
   ]
  },
  {
   "cell_type": "markdown",
   "metadata": {},
   "source": [
    "### `from` pacchetto `import` modulo `as` nuovo_nome"
   ]
  },
  {
   "cell_type": "code",
   "execution_count": 5,
   "metadata": {},
   "outputs": [
    {
     "name": "stdout",
     "output_type": "stream",
     "text": [
      "Hello, world!\n"
     ]
    }
   ],
   "source": [
    "from msbd import hello_world as hw\n",
    "\n",
    "hw.print_hello_world()"
   ]
  },
  {
   "cell_type": "markdown",
   "metadata": {},
   "source": [
    "### `from` pacchetto.modulo `import` oggetto"
   ]
  },
  {
   "cell_type": "code",
   "execution_count": 23,
   "metadata": {},
   "outputs": [],
   "source": [
    "from msbd.hello_world import print_hello_world\n",
    "\n",
    "print_hello_world()"
   ]
  },
  {
   "cell_type": "markdown",
   "metadata": {},
   "source": [
    "### Esercizio\n",
    "\n",
    "Modificare il messaggio stampato dalla funzione `print_hello_world` in `msbd/hello_world/hello_world.py`. Eseguire nuovamente funzione verificando che l'output sia diverso da prima grazie a `autoreload`."
   ]
  },
  {
   "cell_type": "code",
   "execution_count": 26,
   "metadata": {},
   "outputs": [
    {
     "name": "stdout",
     "output_type": "stream",
     "text": [
      "Ciao mondo!\n"
     ]
    }
   ],
   "source": [
    "print_hello_world()"
   ]
  },
  {
   "cell_type": "markdown",
   "metadata": {},
   "source": [
    "# 3. Numeri <a id=numeri> </a>"
   ]
  },
  {
   "cell_type": "markdown",
   "metadata": {},
   "source": [
    "## 3.1 Variabili numeriche <a id=variabili_numeriche> </a>"
   ]
  },
  {
   "cell_type": "code",
   "execution_count": 27,
   "metadata": {},
   "outputs": [
    {
     "name": "stdout",
     "output_type": "stream",
     "text": [
      "Tipo: <class 'int'>\n",
      "Contenuto della variabile: 42\n"
     ]
    }
   ],
   "source": [
    "i = 42\n",
    "print(\"Tipo: {}\".format(type(i)))\n",
    "print(\"Contenuto della variabile: {}\".format(i))"
   ]
  },
  {
   "cell_type": "code",
   "execution_count": 19,
   "metadata": {},
   "outputs": [
    {
     "name": "stdout",
     "output_type": "stream",
     "text": [
      "Tipo: <class 'float'>\n",
      "Contenuto della variabile: 42.0\n"
     ]
    }
   ],
   "source": [
    "f = 42.\n",
    "print(\"Tipo: {}\".format(type(f)))\n",
    "print(\"Contenuto della variabile: {}\".format(f))"
   ]
  },
  {
   "cell_type": "code",
   "execution_count": 20,
   "metadata": {},
   "outputs": [
    {
     "name": "stdout",
     "output_type": "stream",
     "text": [
      "Tipo: <class 'complex'>\n",
      "Contenuto della variabile: (42+0j)\n"
     ]
    }
   ],
   "source": [
    "c = complex(42)\n",
    "print(\"Tipo: {}\".format(type(c)))\n",
    "print(\"Contenuto della variabile: {}\".format(c))"
   ]
  },
  {
   "cell_type": "markdown",
   "metadata": {},
   "source": [
    "## 3.2 Operatori aritmetici <a id=operatori_aritmetici> </a>"
   ]
  },
  {
   "cell_type": "markdown",
   "metadata": {},
   "source": [
    "### Esempio\n",
    "\n",
    "$(6 - 2\\times2 + 3)^{\\frac{4}{2}}$"
   ]
  },
  {
   "cell_type": "code",
   "execution_count": null,
   "metadata": {},
   "outputs": [],
   "source": [
    "(6 - 2 * 2 + 3) ** (4 / 2)"
   ]
  },
  {
   "cell_type": "markdown",
   "metadata": {},
   "source": [
    "### Esercizio\n",
    "\n",
    "Calcolare il risultato della frazione $\\frac{3^4 + 7}{8}$, verificare manualmente il risultato."
   ]
  },
  {
   "cell_type": "code",
   "execution_count": null,
   "metadata": {},
   "outputs": [],
   "source": []
  },
  {
   "cell_type": "markdown",
   "metadata": {},
   "source": [
    "### Parte intera\n",
    "\n",
    "$\\lfloor x/y \\rfloor$"
   ]
  },
  {
   "cell_type": "code",
   "execution_count": 21,
   "metadata": {},
   "outputs": [
    {
     "name": "stdout",
     "output_type": "stream",
     "text": [
      "Parte intera di dieci diviso tre: 10 // 3 = 3\n"
     ]
    }
   ],
   "source": [
    "print(\"Parte intera di dieci diviso tre: 10 // 3 = {}\".format(10 // 3))"
   ]
  },
  {
   "cell_type": "markdown",
   "metadata": {},
   "source": [
    "### Modulo\n",
    "\n",
    "$x \\bmod y$"
   ]
  },
  {
   "cell_type": "code",
   "execution_count": 22,
   "metadata": {},
   "outputs": [
    {
     "name": "stdout",
     "output_type": "stream",
     "text": [
      "Modulo di dieci diviso tre: 10 % 3 = 1\n"
     ]
    }
   ],
   "source": [
    "print(\"Modulo di dieci diviso tre: 10 % 3 = {}\".format(10 % 3))"
   ]
  },
  {
   "cell_type": "markdown",
   "metadata": {},
   "source": [
    "### Esercizio\n",
    "\n",
    "Scrivere ed eseguire il seguente comando dopo essersi interrogati sul risultato atteso:\n",
    "\n",
    "```python\n",
    "(15 // 4)*4 + (15 % 4)\n",
    "``` "
   ]
  },
  {
   "cell_type": "code",
   "execution_count": null,
   "metadata": {},
   "outputs": [],
   "source": []
  },
  {
   "cell_type": "markdown",
   "metadata": {},
   "source": [
    "## 3.3 Operatori di assegnazione <a id=operatori_assegnazione> </a>"
   ]
  },
  {
   "cell_type": "code",
   "execution_count": 23,
   "metadata": {},
   "outputs": [
    {
     "name": "stdout",
     "output_type": "stream",
     "text": [
      "x = 2\n",
      "x + 3 = 5\n",
      "x - 2 = 3\n",
      "x / 3 = 1.0\n",
      "x * 2 = 2.0\n",
      "x ** 3 = 8.0\n",
      "x // 2 = 4.0\n",
      "x % 3 = 1.0\n"
     ]
    }
   ],
   "source": [
    "x = 2\n",
    "print(\"x = {}\".format(x))\n",
    "\n",
    "x += 3 # equivalente a: x = x + 3\n",
    "print(\"x + 3 = {}\".format(x))\n",
    "\n",
    "x -= 2 # equivalente a: x = x - 2\n",
    "print(\"x - 2 = {}\".format(x))\n",
    "\n",
    "x /= 3 # equivalente a: x = x / 3\n",
    "print(\"x / 3 = {}\".format(x))\n",
    "\n",
    "x *= 2 # equivalente a: x = x * 2\n",
    "print(\"x * 2 = {}\".format(x))\n",
    "\n",
    "x **= 3 # equivalente a: x = x ** 3\n",
    "print(\"x ** 3 = {}\".format(x))\n",
    "\n",
    "x //= 2 # equivalente a: x = x // 2\n",
    "print(\"x // 2 = {}\".format(x))\n",
    "\n",
    "x %= 3 # equivalente a: x = x % 3\n",
    "print(\"x % 3 = {}\".format(x))"
   ]
  },
  {
   "cell_type": "markdown",
   "metadata": {},
   "source": [
    "### Esercizio\n",
    "\n",
    "Verificare che \n",
    "```python\n",
    "x += 1\n",
    "```\n",
    "è equivalente a\n",
    "```python\n",
    "x = x + 1\n",
    "```"
   ]
  },
  {
   "cell_type": "code",
   "execution_count": null,
   "metadata": {},
   "outputs": [],
   "source": []
  },
  {
   "cell_type": "markdown",
   "metadata": {},
   "source": [
    "# 4. Operatori di confronto e logici <a id=operatori_confronto_logici> </a>"
   ]
  },
  {
   "cell_type": "markdown",
   "metadata": {},
   "source": [
    "### Operatori di confronto"
   ]
  },
  {
   "cell_type": "code",
   "execution_count": null,
   "metadata": {},
   "outputs": [],
   "source": [
    "print(\"Cinque è maggiore stretto di tre? {}.\".format(5 > 3))\n",
    "print(\"Cinque è maggiore o uguale a tre? {}.\".format(5 >= 3))\n",
    "print(\"Cinque è minore stretto di tre? {}.\".format(5 < 3))\n",
    "print(\"Cinque è minore o uguale a tre? {}.\".format(5 <= 3))\n",
    "print(\"Cinque è uguale a tre? {}.\".format(5 == 3))\n",
    "print(\"Cinque è diverso da tre? {}.\".format(5 != 3))"
   ]
  },
  {
   "cell_type": "markdown",
   "metadata": {},
   "source": [
    "### Operatori logici"
   ]
  },
  {
   "cell_type": "code",
   "execution_count": null,
   "metadata": {},
   "outputs": [],
   "source": [
    "print(\"True or False = {}\".format(True or False))\n",
    "print(\"True and False = {}\".format(True and False))\n",
    "print(\"not False = {}\".format(not False))"
   ]
  },
  {
   "cell_type": "markdown",
   "metadata": {},
   "source": [
    "# 5. Stringhe <a id=stringhe> </a>"
   ]
  },
  {
   "cell_type": "markdown",
   "metadata": {},
   "source": [
    "### Virgolette\n",
    "\n",
    "Da [PEP 8](https://www.python.org/dev/peps/pep-0008/#string-quotes):\n",
    "> In Python, single-quoted strings and double-quoted strings are the same. This PEP does not make a recommendation for this. Pick a rule and stick to it. When a string contains single or double quote characters, however, use the other one to avoid backslashes in the string. It improves readability.\n",
    "\n",
    "> For triple-quoted strings, always use double quote characters to be consistent with the docstring convention in PEP 257."
   ]
  },
  {
   "cell_type": "code",
   "execution_count": null,
   "metadata": {},
   "outputs": [],
   "source": [
    "print('Stringa tra virgolette alte singole.')\n",
    "print(\"\\nStringa tra virgolette alte doppie.\")\n",
    "print('''\\nStringa tra triple virgolette \n",
    "alte singole. Sconsigliate.''')\n",
    "print(\"\"\"\\nStringa tra triple virgolette \n",
    "alte doppie. Sono solitamente usate per le docstring.\"\"\")"
   ]
  },
  {
   "cell_type": "markdown",
   "metadata": {},
   "source": [
    "### Newline e tab"
   ]
  },
  {
   "cell_type": "code",
   "execution_count": null,
   "metadata": {},
   "outputs": [],
   "source": [
    "print(\"Stringa su più righe,\\ntra questa parola e\\tquesta c'è un tab.\")"
   ]
  },
  {
   "cell_type": "markdown",
   "metadata": {},
   "source": [
    "### Somma, prodotto"
   ]
  },
  {
   "cell_type": "code",
   "execution_count": 24,
   "metadata": {},
   "outputs": [
    {
     "name": "stdout",
     "output_type": "stream",
     "text": [
      "Le stringhe si possono sommare...\n",
      "O moltiplicare. O moltiplicare. O moltiplicare. \n"
     ]
    }
   ],
   "source": [
    "print(\"Le stringhe si possono som\" + \"mare...\")\n",
    "print(\"O moltiplicare. \" * 3)"
   ]
  },
  {
   "cell_type": "markdown",
   "metadata": {},
   "source": [
    "### Utilizzo di `format`"
   ]
  },
  {
   "cell_type": "code",
   "execution_count": 25,
   "metadata": {},
   "outputs": [
    {
     "name": "stdout",
     "output_type": "stream",
     "text": [
      "10 / 3 = 3.3333\n",
      "33 trentini entrarono in Trento tutti e 33 trotterellando.\n"
     ]
    }
   ],
   "source": [
    "print(\"10 / 3 = {:.4f}\".format(10 / 3))\n",
    "print(\"{t} trentini {e} in Trento tutti e {t} trotterellando.\".format(t=int(99 / 3), e=\"entrarono\"))"
   ]
  },
  {
   "cell_type": "markdown",
   "metadata": {},
   "source": [
    "### Accedere agli elementi di una stringa"
   ]
  },
  {
   "cell_type": "code",
   "execution_count": 26,
   "metadata": {},
   "outputs": [
    {
     "name": "stdout",
     "output_type": "stream",
     "text": [
      "Primo elemento di \"stringa\": s\n",
      "Primi tre elementi della \"stringa\": str\n",
      "Ultimi quattro elementi della \"stringa\": inga\n"
     ]
    }
   ],
   "source": [
    "print('Primo elemento di \"stringa\": {}'.format(\"stringa\"[0]))\n",
    "print('Primi tre elementi della \"stringa\": {}'.format(\"stringa\"[:3]))\n",
    "print('Ultimi quattro elementi della \"stringa\": {}'.format(\"stringa\"[-4:]))"
   ]
  },
  {
   "cell_type": "markdown",
   "metadata": {},
   "source": [
    "### Modificare i caratteri di una stringa"
   ]
  },
  {
   "cell_type": "code",
   "execution_count": 29,
   "metadata": {},
   "outputs": [
    {
     "name": "stdout",
     "output_type": "stream",
     "text": [
      "\"sTrInGa\" capitalizzata: Stringa\n",
      "\"sTrInGa\" in caratteri maiuscoli: STRINGA\n",
      "\"sTrInGa\" in caratteri minuscoli: stringa\n",
      "\"sTrInGa\" con la \"@\" al posto della \"a\": sTrInG@\n"
     ]
    }
   ],
   "source": [
    "s = \"sTrInGa\"\n",
    "print('\"{}\" capitalizzata: {}'.format(s, s.capitalize()))\n",
    "print('\"{}\" in caratteri maiuscoli: {}'.format(s, s.upper()))\n",
    "print('\"{}\" in caratteri minuscoli: {}'.format(s, s.lower()))\n",
    "print('\"{}\" con la \"@\" al posto della \"a\": {}'.format(s, s.replace(\"a\", \"@\")))"
   ]
  },
  {
   "cell_type": "markdown",
   "metadata": {},
   "source": [
    "### Dividere una stringa in base ad un carattere specificato"
   ]
  },
  {
   "cell_type": "code",
   "execution_count": 30,
   "metadata": {},
   "outputs": [
    {
     "name": "stdout",
     "output_type": "stream",
     "text": [
      "['Divido', 'questa', 'stringa', 'in', 'base', 'al', '\"carattere', 'spazio\".']\n",
      "['Divido quest', ' string', ' in b', 'se ', 'll', ' letter', ' \"', '\".']\n"
     ]
    }
   ],
   "source": [
    "print('Divido questa stringa in base al \"carattere spazio\".'.split(\" \"))\n",
    "print('Divido questa stringa in base alla lettera \"a\".'.split(\"a\"))"
   ]
  },
  {
   "cell_type": "markdown",
   "metadata": {},
   "source": [
    "### Esercizio\n",
    "\n",
    "Utilizzare le operazioni imparate per creare una `cassa` con 100 mele partendo dalla variabile `mela`.\n",
    "```python\n",
    "Cassa di mele: ['mela', 'mela', 'mela', 'mela', 'mela', 'mela', 'mela', 'mela', 'mela', 'mela', 'mela', 'mela', 'mela', 'mela', 'mela', 'mela', 'mela', 'mela', 'mela', 'mela', 'mela', 'mela', 'mela', 'mela', 'mela', 'mela', 'mela', 'mela', 'mela', 'mela', 'mela', 'mela', 'mela', 'mela', 'mela', 'mela', 'mela', 'mela', 'mela', 'mela', 'mela', 'mela', 'mela', 'mela', 'mela', 'mela', 'mela', 'mela', 'mela', 'mela', 'mela', 'mela', 'mela', 'mela', 'mela', 'mela', 'mela', 'mela', 'mela', 'mela', 'mela', 'mela', 'mela', 'mela', 'mela', 'mela', 'mela', 'mela', 'mela', 'mela', 'mela', 'mela', 'mela', 'mela', 'mela', 'mela', 'mela', 'mela', 'mela', 'mela', 'mela', 'mela', 'mela', 'mela', 'mela', 'mela', 'mela', 'mela', 'mela', 'mela', 'mela', 'mela', 'mela', 'mela', 'mela', 'mela', 'mela', 'mela', 'mela', 'mela']\n",
    "```"
   ]
  },
  {
   "cell_type": "code",
   "execution_count": 28,
   "metadata": {},
   "outputs": [
    {
     "name": "stdout",
     "output_type": "stream",
     "text": [
      "Cassa di mele: ['mela', 'mela', 'mela', 'mela', 'mela', 'mela', 'mela', 'mela', 'mela', 'mela', 'mela', 'mela', 'mela', 'mela', 'mela', 'mela', 'mela', 'mela', 'mela', 'mela', 'mela', 'mela', 'mela', 'mela', 'mela', 'mela', 'mela', 'mela', 'mela', 'mela', 'mela', 'mela', 'mela', 'mela', 'mela', 'mela', 'mela', 'mela', 'mela', 'mela', 'mela', 'mela', 'mela', 'mela', 'mela', 'mela', 'mela', 'mela', 'mela', 'mela', 'mela', 'mela', 'mela', 'mela', 'mela', 'mela', 'mela', 'mela', 'mela', 'mela', 'mela', 'mela', 'mela', 'mela', 'mela', 'mela', 'mela', 'mela', 'mela', 'mela', 'mela', 'mela', 'mela', 'mela', 'mela', 'mela', 'mela', 'mela', 'mela', 'mela', 'mela', 'mela', 'mela', 'mela', 'mela', 'mela', 'mela', 'mela', 'mela', 'mela', 'mela', 'mela', 'mela', 'mela', 'mela', 'mela', 'mela', 'mela', 'mela', 'mela']\n",
      "Numero di mele nella cassa: 100\n"
     ]
    }
   ],
   "source": [
    "mela = \"mela\" \n",
    "# ============== YOUR CODE HERE ==============\n",
    "cassa = []\n",
    "# ============================================\n",
    "print(\"Cassa di mele: {}\".format(cassa))\n",
    "print(\"Numero di mele nella cassa: {}\".format(len(cassa)))"
   ]
  },
  {
   "cell_type": "markdown",
   "metadata": {},
   "source": [
    "# 6. Strutture dati <a id=strutture_dati> </a>"
   ]
  },
  {
   "cell_type": "markdown",
   "metadata": {},
   "source": [
    "## 6.1 `list` <a id=list> </a>"
   ]
  },
  {
   "cell_type": "markdown",
   "metadata": {},
   "source": [
    "### Definire una lista"
   ]
  },
  {
   "cell_type": "code",
   "execution_count": 32,
   "metadata": {},
   "outputs": [
    {
     "name": "stdout",
     "output_type": "stream",
     "text": [
      "Tipo: <class 'list'>\n",
      "Contenuto della variabile: ['scimmia', 1, 'cane', 2.0, 5]\n"
     ]
    }
   ],
   "source": [
    "l = [\"scimmia\", 1, \"cane\", 2., 5]\n",
    "print(\"Tipo: {}\".format(type(l)))\n",
    "print(\"Contenuto della variabile: {}\".format(l))"
   ]
  },
  {
   "cell_type": "markdown",
   "metadata": {},
   "source": [
    "### Accedere agli elementi di una lista"
   ]
  },
  {
   "cell_type": "markdown",
   "metadata": {},
   "source": [
    "### Esercizio\n",
    "\n",
    "Accedere agli elementi di una lista è lo stesso che accedere agli elementi di una stringa. Verificare."
   ]
  },
  {
   "cell_type": "code",
   "execution_count": 33,
   "metadata": {},
   "outputs": [
    {
     "data": {
      "text/plain": [
       "'scimmia'"
      ]
     },
     "execution_count": 33,
     "metadata": {},
     "output_type": "execute_result"
    }
   ],
   "source": [
    "l[0]"
   ]
  },
  {
   "cell_type": "markdown",
   "metadata": {},
   "source": [
    "### *Item* e *slice assignment*"
   ]
  },
  {
   "cell_type": "code",
   "execution_count": 30,
   "metadata": {},
   "outputs": [
    {
     "name": "stdout",
     "output_type": "stream",
     "text": [
      "Lista \"l\": ['scimmia', 1, 'cane', 2.0, 5]\n",
      "Sostituzione dell'elemento all'indice 0: ['uomo', 1, 'cane', 2.0, 5]\n",
      "Sostituzione degli elementi agli indici da 1 a 3: ['uomo', 'gatto', -1.5, 0, 5]\n"
     ]
    }
   ],
   "source": [
    "l = [\"scimmia\", 1, \"cane\", 2., 5]\n",
    "print('Lista \"l\": {}'.format(l))\n",
    "\n",
    "l[0] = \"uomo\"\n",
    "print(\"Sostituzione dell'elemento all'indice 0: {}\".format(l))\n",
    "\n",
    "l[1:4] = \"gatto\", -1.5, 0\n",
    "print(\"Sostituzione degli elementi agli indici da 1 a 3: {}\".format(l))"
   ]
  },
  {
   "cell_type": "markdown",
   "metadata": {},
   "source": [
    "### Somma e prodotto di liste"
   ]
  },
  {
   "cell_type": "code",
   "execution_count": 31,
   "metadata": {},
   "outputs": [
    {
     "name": "stdout",
     "output_type": "stream",
     "text": [
      "['a', 'b'] + ['c', 'd'] = ['a', 'b', 'c', 'd']\n",
      "[1] * 3 = [1, 1, 1]\n"
     ]
    }
   ],
   "source": [
    "print(\"['a', 'b'] + ['c', 'd'] = {}\".format(['a', 'b'] + ['c', 'd']))\n",
    "print(\"[1] * 3 = {}\".format([1] * 3))"
   ]
  },
  {
   "cell_type": "markdown",
   "metadata": {},
   "source": [
    "### Aggiungere uno o più elementi a una lista"
   ]
  },
  {
   "cell_type": "code",
   "execution_count": 32,
   "metadata": {},
   "outputs": [
    {
     "name": "stdout",
     "output_type": "stream",
     "text": [
      "Lista \"l\": [0, 1]\n",
      "Aggiungo l'elemento [2, 3] alla lista: [0, 1, [2, 3]]\n",
      "Estendo la lista aggiungendo gli elementi presenti nella lista [4, 5]: [0, 1, [2, 3], 4, 5]\n"
     ]
    }
   ],
   "source": [
    "l = [0, 1]\n",
    "print('Lista \"l\": {}'.format(l))\n",
    "\n",
    "l.append([2, 3])\n",
    "print('Aggiungo l\\'elemento [2, 3] alla lista: {}'.format(l))\n",
    "\n",
    "l.extend([4, 5])\n",
    "print('Estendo la lista aggiungendo gli elementi presenti nella lista [4, 5]: {}'.format(l))"
   ]
  },
  {
   "cell_type": "markdown",
   "metadata": {},
   "source": [
    "### Ordinare una lista"
   ]
  },
  {
   "cell_type": "code",
   "execution_count": 33,
   "metadata": {},
   "outputs": [
    {
     "name": "stdout",
     "output_type": "stream",
     "text": [
      "Lista \"l\": ['d', 'aaa', 'bbbb', 'cc']\n",
      "Lista \"l\" ordinata: ['aaa', 'bbbb', 'cc', 'd']\n",
      "Lista \"l\": ['d', 'aaa', 'bbbb', 'cc']\n",
      "Lista \"l\" dopo \"l.sort()\": ['aaa', 'bbbb', 'cc', 'd']\n",
      "Lista \"l\" dopo \"l.sort(reverse=True)\": ['d', 'cc', 'bbbb', 'aaa']\n",
      "Lista \"l\" dopo \"l.sort(key=len, reverse=True)\": ['bbbb', 'aaa', 'cc', 'd']\n"
     ]
    }
   ],
   "source": [
    "l = ['d', 'aaa', 'bbbb', 'cc']\n",
    "print('Lista \"l\": {}'.format(l))\n",
    "\n",
    "print('Lista \"l\" ordinata: {}'.format(sorted(l)))\n",
    "print('Lista \"l\": {}'.format(l))\n",
    "\n",
    "l.sort() # equivalente a: l = sorted(l)\n",
    "print('Lista \"l\" dopo \"l.sort()\": {}'.format(l))\n",
    "\n",
    "l.sort(reverse=True) # equivalente a: l = sorted(l, reverse=True)\n",
    "print('Lista \"l\" dopo \"l.sort(reverse=True)\": {}'.format(l))\n",
    "\n",
    "l.sort(key=len, reverse=True) # equivalente a: l = sorted(l, key=len, reverse=True)\n",
    "print('Lista \"l\" dopo \"l.sort(key=len, reverse=True)\": {}'.format(l))"
   ]
  },
  {
   "cell_type": "markdown",
   "metadata": {},
   "source": [
    "### *List comprehensions*"
   ]
  },
  {
   "cell_type": "code",
   "execution_count": null,
   "metadata": {},
   "outputs": [],
   "source": [
    "print(\"Numeri pari tra 0 e 9: {}\".format([i for i in range(10) if i % 2 == 0]))"
   ]
  },
  {
   "cell_type": "markdown",
   "metadata": {},
   "source": [
    "### Esercizio\n",
    "\n",
    "Utilizzare *list comprehensions* per creare la lista dei quadrati di tutti i numeri dispari tra zero e novantanove."
   ]
  },
  {
   "cell_type": "code",
   "execution_count": null,
   "metadata": {},
   "outputs": [],
   "source": []
  },
  {
   "cell_type": "markdown",
   "metadata": {},
   "source": [
    "## 6.2 `tuple` <a id=tuple> </a>"
   ]
  },
  {
   "cell_type": "markdown",
   "metadata": {},
   "source": [
    "### Definire una tupla"
   ]
  },
  {
   "cell_type": "code",
   "execution_count": 39,
   "metadata": {},
   "outputs": [
    {
     "name": "stdout",
     "output_type": "stream",
     "text": [
      "Tipo: <class 'tuple'>\n",
      "Contenuto della variabile: ('scimmia', 1, 'cane', 2.0, 5)\n"
     ]
    }
   ],
   "source": [
    "t = (\"scimmia\", 1, \"cane\", 2., 5)\n",
    "print(\"Tipo: {}\".format(type(t)))\n",
    "print(\"Contenuto della variabile: {}\".format(t))"
   ]
  },
  {
   "cell_type": "markdown",
   "metadata": {},
   "source": [
    "### Esercizio\n",
    "\n",
    "Accedere agli elementi di una tupla è lo stesso che accedere agli elementi di una stringa. Verificare."
   ]
  },
  {
   "cell_type": "code",
   "execution_count": 40,
   "metadata": {},
   "outputs": [
    {
     "data": {
      "text/plain": [
       "'scimmia'"
      ]
     },
     "execution_count": 40,
     "metadata": {},
     "output_type": "execute_result"
    }
   ],
   "source": [
    "t[0]"
   ]
  },
  {
   "cell_type": "markdown",
   "metadata": {},
   "source": [
    "### Esercizio\n",
    "\n",
    "le `tuple` non sono modificabili, a differenza delle `list`. Verificare."
   ]
  },
  {
   "cell_type": "code",
   "execution_count": 41,
   "metadata": {},
   "outputs": [
    {
     "ename": "TypeError",
     "evalue": "'tuple' object does not support item assignment",
     "output_type": "error",
     "traceback": [
      "\u001b[0;31m---------------------------------------------------------------------------\u001b[0m",
      "\u001b[0;31mTypeError\u001b[0m                                 Traceback (most recent call last)",
      "\u001b[0;32m<ipython-input-41-191a39a81331>\u001b[0m in \u001b[0;36m<module>\u001b[0;34m\u001b[0m\n\u001b[0;32m----> 1\u001b[0;31m \u001b[0mt\u001b[0m\u001b[0;34m[\u001b[0m\u001b[0;36m0\u001b[0m\u001b[0;34m]\u001b[0m \u001b[0;34m=\u001b[0m \u001b[0;34m\"topo\"\u001b[0m\u001b[0;34m\u001b[0m\u001b[0;34m\u001b[0m\u001b[0m\n\u001b[0m",
      "\u001b[0;31mTypeError\u001b[0m: 'tuple' object does not support item assignment"
     ]
    }
   ],
   "source": [
    "t[0] = \"topo\""
   ]
  },
  {
   "cell_type": "markdown",
   "metadata": {},
   "source": [
    "### Esercizio\n",
    "\n",
    "Non esiste la *tuple comprehensions*. Il risultato di questa operazione è un generatore, non una tupla. Verificare."
   ]
  },
  {
   "cell_type": "code",
   "execution_count": 57,
   "metadata": {},
   "outputs": [
    {
     "data": {
      "text/plain": [
       "<generator object <genexpr> at 0x000001E3209A45E8>"
      ]
     },
     "execution_count": 57,
     "metadata": {},
     "output_type": "execute_result"
    }
   ],
   "source": [
    "(elem for elem in t if type(elem)==\"numeric\")"
   ]
  },
  {
   "cell_type": "markdown",
   "metadata": {},
   "source": [
    "## 6.3 `set` <a id=set> </a>"
   ]
  },
  {
   "cell_type": "markdown",
   "metadata": {},
   "source": [
    "### Definire un insieme"
   ]
  },
  {
   "cell_type": "code",
   "execution_count": 42,
   "metadata": {},
   "outputs": [
    {
     "name": "stdout",
     "output_type": "stream",
     "text": [
      "Tipo: <class 'set'>\n",
      "Contenuto della variabile: {1, 2.0, 5, 'cane', 'scimmia'}\n"
     ]
    }
   ],
   "source": [
    "i = {\"scimmia\", 1, \"cane\", 2., 5}\n",
    "print(\"Tipo: {}\".format(type(i)))\n",
    "print(\"Contenuto della variabile: {}\".format(i))"
   ]
  },
  {
   "cell_type": "markdown",
   "metadata": {},
   "source": [
    "### Esercizio\n",
    "\n",
    "I `set` non supportano l'indicizzazione, sono insiemi non ordinati. Verificare."
   ]
  },
  {
   "cell_type": "code",
   "execution_count": 43,
   "metadata": {},
   "outputs": [
    {
     "ename": "TypeError",
     "evalue": "'set' object is not subscriptable",
     "output_type": "error",
     "traceback": [
      "\u001b[0;31m---------------------------------------------------------------------------\u001b[0m",
      "\u001b[0;31mTypeError\u001b[0m                                 Traceback (most recent call last)",
      "\u001b[0;32m<ipython-input-43-3aa51af8ff05>\u001b[0m in \u001b[0;36m<module>\u001b[0;34m\u001b[0m\n\u001b[0;32m----> 1\u001b[0;31m \u001b[0mi\u001b[0m\u001b[0;34m[\u001b[0m\u001b[0;36m0\u001b[0m\u001b[0;34m]\u001b[0m\u001b[0;34m\u001b[0m\u001b[0;34m\u001b[0m\u001b[0m\n\u001b[0m",
      "\u001b[0;31mTypeError\u001b[0m: 'set' object is not subscriptable"
     ]
    }
   ],
   "source": [
    "i[0]"
   ]
  },
  {
   "cell_type": "markdown",
   "metadata": {},
   "source": [
    "### Verifiche di appartenenza"
   ]
  },
  {
   "cell_type": "code",
   "execution_count": 43,
   "metadata": {},
   "outputs": [
    {
     "name": "stdout",
     "output_type": "stream",
     "text": [
      "\"cane\" è in \"i\"? True.\n",
      "\"5\" non è in \"i\"? False.\n"
     ]
    }
   ],
   "source": [
    "i = {\"scimmia\", 1, \"cane\", 2., 5}\n",
    "\n",
    "print('\"cane\" è in \"i\"? {}.'.format(\"cane\" in i))\n",
    "print('\"5\" non è in \"i\"? {}.'.format(5 not in i))"
   ]
  },
  {
   "cell_type": "markdown",
   "metadata": {},
   "source": [
    "### Operazioni tra insiemi"
   ]
  },
  {
   "cell_type": "code",
   "execution_count": 46,
   "metadata": {},
   "outputs": [
    {
     "name": "stdout",
     "output_type": "stream",
     "text": [
      "Insieme \"a\": {1, 2, 3, 4, 5}\n",
      "Insieme \"b\": {2, 3, 6}\n",
      "Unione di \"a\" e \"b\": {1, 2, 3, 4, 5, 6}\n",
      "Intersezione di \"a\" e \"b\": {2, 3}\n",
      "Differenza tra \"a\" e \"b\": {1, 4, 5}\n",
      "Differenza tra \"b\" e \"a\": {6}\n",
      "Differenza simmetrica tra \"a\" e \"b\": {1, 4, 5, 6}\n"
     ]
    }
   ],
   "source": [
    "a = {1, 2, 3, 4, 5}\n",
    "b = {2, 3, 6}\n",
    "\n",
    "print('Insieme \"a\": {}'.format(a))\n",
    "print('Insieme \"b\": {}'.format(b))\n",
    "print('Unione di \"a\" e \"b\": {}'.format(a | b)) # equivalente a: a.union(b)\n",
    "print('Intersezione di \"a\" e \"b\": {}'.format(a & b)) # equivalente a: a.intersection(b)\n",
    "print('Differenza tra \"a\" e \"b\": {}'.format(a - b)) # equivalente a: a.difference(b)\n",
    "print('Differenza tra \"b\" e \"a\": {}'.format(b - a)) # equivalente a: b.difference(a)\n",
    "print('Differenza simmetrica tra \"a\" e \"b\": {}'.format(a ^ b)) # equivalente a: a.symmetric_difference(b)"
   ]
  },
  {
   "cell_type": "markdown",
   "metadata": {},
   "source": [
    "### Relazioni tra insiemi"
   ]
  },
  {
   "cell_type": "code",
   "execution_count": 47,
   "metadata": {},
   "outputs": [
    {
     "name": "stdout",
     "output_type": "stream",
     "text": [
      "\"b\" è un sottoinsieme di \"a\"? True.\n",
      "\"a\" è un sovrainsieme di \"b\"? True.\n"
     ]
    }
   ],
   "source": [
    "a = {1, 2, 3, 4, 5}\n",
    "b = {2, 3}\n",
    "\n",
    "print('\"b\" è un sottoinsieme di \"a\"? {}.'.format(b <= a)) # equivalente a: b.issubset(a)\n",
    "print('\"a\" è un sovrainsieme di \"b\"? {}.'.format(a >= b)) # equivalente a: a.issuperset(b)"
   ]
  },
  {
   "cell_type": "markdown",
   "metadata": {},
   "source": [
    "### Aggiungere elementi ad un insieme"
   ]
  },
  {
   "cell_type": "code",
   "execution_count": 49,
   "metadata": {},
   "outputs": [
    {
     "name": "stdout",
     "output_type": "stream",
     "text": [
      "Insieme \"a\": {1, 2, 3, 4, 5}\n",
      "Insieme \"a\" dopo l'aggiunta di 5, 6 e 7: {1, 2, 3, 4, 5, 6, 7}\n"
     ]
    }
   ],
   "source": [
    "a = {1, 2, 3, 4, 5}\n",
    "print('Insieme \"a\": {}'.format(a))\n",
    "\n",
    "a.update({5, 6, 7})\n",
    "print('Insieme \"a\" dopo l\\'aggiunta di 5, 6 e 7: {}'.format(a))"
   ]
  },
  {
   "cell_type": "markdown",
   "metadata": {},
   "source": [
    "### Esercizio\n",
    "\n",
    "Esiste anche la *set comprehensions*. Verificare."
   ]
  },
  {
   "cell_type": "code",
   "execution_count": 52,
   "metadata": {},
   "outputs": [
    {
     "data": {
      "text/plain": [
       "{2, 4, 6}"
      ]
     },
     "execution_count": 52,
     "metadata": {},
     "output_type": "execute_result"
    }
   ],
   "source": [
    "{elem for elem in a if elem % 2 == 0}"
   ]
  },
  {
   "cell_type": "markdown",
   "metadata": {},
   "source": [
    "## 6.4 `dict` <a id=dict> </a>"
   ]
  },
  {
   "cell_type": "markdown",
   "metadata": {},
   "source": [
    "### Definire un dizionario"
   ]
  },
  {
   "cell_type": "code",
   "execution_count": 44,
   "metadata": {},
   "outputs": [
    {
     "name": "stdout",
     "output_type": "stream",
     "text": [
      "Tipo: <class 'dict'>\n",
      "Contenuto della variabile: {'Luca': 'umano', 2: 'intero', (1, 2): 'tupla'}\n"
     ]
    }
   ],
   "source": [
    "d = {\"Luca\": \"umano\", 2: \"intero\", (1, 2): \"tupla\"}\n",
    "print(\"Tipo: {}\".format(type(d)))\n",
    "print(\"Contenuto della variabile: {}\".format(d))"
   ]
  },
  {
   "cell_type": "markdown",
   "metadata": {},
   "source": [
    "### Ottenere la lista delle chiavi di un dizionario"
   ]
  },
  {
   "cell_type": "code",
   "execution_count": 45,
   "metadata": {},
   "outputs": [
    {
     "name": "stdout",
     "output_type": "stream",
     "text": [
      "Lista delle chiavi del dizionario: dict_keys(['Luca', 2, (1, 2)])\n"
     ]
    }
   ],
   "source": [
    "d = {\"Luca\": \"umano\", 2: \"intero\", (1, 2): \"tupla\"}\n",
    "\n",
    "chiavi = d.keys()\n",
    "print(\"Lista delle chiavi del dizionario: {}\".format(chiavi))"
   ]
  },
  {
   "cell_type": "markdown",
   "metadata": {},
   "source": [
    "### Ottenere la lista dei valori di un dizionario"
   ]
  },
  {
   "cell_type": "code",
   "execution_count": 46,
   "metadata": {},
   "outputs": [
    {
     "name": "stdout",
     "output_type": "stream",
     "text": [
      "Lista dei valori del dizionario: dict_values(['umano', 'intero', 'tupla'])\n"
     ]
    }
   ],
   "source": [
    "d = {\"Luca\": \"umano\", 2: \"intero\", (1, 2): \"tupla\"}\n",
    "\n",
    "valori = d.values()\n",
    "print(\"Lista dei valori del dizionario: {}\".format(valori))"
   ]
  },
  {
   "cell_type": "markdown",
   "metadata": {},
   "source": [
    "### Accedere a un valore di un dizionario tramite una sua chiave"
   ]
  },
  {
   "cell_type": "code",
   "execution_count": 47,
   "metadata": {},
   "outputs": [
    {
     "name": "stdout",
     "output_type": "stream",
     "text": [
      "Elemento del dizionario collegato alla chiave \"(1, 2)\": tupla\n"
     ]
    }
   ],
   "source": [
    "d = {\"Luca\": \"umano\", 2: \"intero\", (1, 2): \"tupla\"}\n",
    "\n",
    "print('Elemento del dizionario collegato alla chiave \"(1, 2)\": {}'.format(d[(1, 2)]))"
   ]
  },
  {
   "cell_type": "markdown",
   "metadata": {},
   "source": [
    "### Eliminare un elemento di un dizionario"
   ]
  },
  {
   "cell_type": "code",
   "execution_count": null,
   "metadata": {},
   "outputs": [],
   "source": [
    "d = {\"Luca\": \"umano\", 2: \"intero\", (1, 2): \"tupla\"}\n",
    "\n",
    "del d[2]\n",
    "print('Dizionario \"d\" dopo aver eliminato la chiave \"2\": {}'.format(d))"
   ]
  },
  {
   "cell_type": "markdown",
   "metadata": {},
   "source": [
    "### Unire due dizionari"
   ]
  },
  {
   "cell_type": "code",
   "execution_count": 58,
   "metadata": {},
   "outputs": [
    {
     "name": "stdout",
     "output_type": "stream",
     "text": [
      "Dizionario \"a\": {'k0': 0, 'k1': 1}\n",
      "Dizionario \"b\": {'k2': 2, 'k3': 3, 'k4': 4}\n",
      "Unione dei dizionari \"a\" e \"b\": {'k0': 0, 'k1': 1, 'k2': 2, 'k3': 3, 'k4': 4}\n"
     ]
    }
   ],
   "source": [
    "a = {\"k0\": 0, \"k1\": 1}\n",
    "b = {\"k2\": 2, \"k3\": 3, \"k4\": 4}\n",
    "\n",
    "print('Dizionario \"a\": {}'.format(a))\n",
    "print('Dizionario \"b\": {}'.format(b))\n",
    "print('Unione dei dizionari \"a\" e \"b\": {}'.format({**a, **b}))"
   ]
  },
  {
   "cell_type": "markdown",
   "metadata": {},
   "source": [
    "### Esercizio\n",
    "\n",
    "Esiste anche la *dict comprehensions*. Verificarlo creando il dizionario:\n",
    "```python\n",
    "{0: 'pari', 1: 'dispari', 2: 'pari', 3: 'dispari', 4: 'pari', 5: 'dispari', 6: 'pari', 7: 'dispari', 8: 'pari', 9: 'dispari'}\n",
    "```"
   ]
  },
  {
   "cell_type": "code",
   "execution_count": 67,
   "metadata": {},
   "outputs": [
    {
     "name": "stdout",
     "output_type": "stream",
     "text": [
      "Dizionario \"pari e dispari\": \n",
      "{0: 'pari', 1: 'dispari', 2: 'pari', 3: 'dispari', 4: 'pari', 5: 'dispari', 6: 'pari', 7: 'dispari', 8: 'pari', 9: 'dispari'}\n"
     ]
    }
   ],
   "source": [
    "chiavi = [i for i in range(10)]\n",
    "valori = ['pari','dispari']*5\n",
    "numeri = dict(zip(chiavi, valori))\n",
    "\n",
    "print('Dizionario \"pari e dispari\": \\n{}'.format(numeri))"
   ]
  },
  {
   "cell_type": "markdown",
   "metadata": {},
   "source": [
    "### Esercizio\n",
    "\n",
    "Creare i dizionari\n",
    "```python\n",
    "a = {'a0': 1, 'a1': 2, ... 'a99': 100}\n",
    "```\n",
    "e\n",
    "```python\n",
    "b = {'b0': 1, 'b1': 2, ... 'b99': 100}\n",
    "```\n",
    "utilizzando la *dict comprehensions* e poi unirli."
   ]
  },
  {
   "cell_type": "code",
   "execution_count": 76,
   "metadata": {},
   "outputs": [
    {
     "name": "stdout",
     "output_type": "stream",
     "text": [
      "Dizionario \"a\" unito a \"b\":{'a0': 0, 'a1': 1, 'a2': 2, 'a3': 3, 'a4': 4, 'a5': 5, 'a6': 6, 'a7': 7, 'a8': 8, 'a9': 9, 'a10': 10, 'a11': 11, 'a12': 12, 'a13': 13, 'a14': 14, 'a15': 15, 'a16': 16, 'a17': 17, 'a18': 18, 'a19': 19, 'a20': 20, 'a21': 21, 'a22': 22, 'a23': 23, 'a24': 24, 'a25': 25, 'a26': 26, 'a27': 27, 'a28': 28, 'a29': 29, 'a30': 30, 'a31': 31, 'a32': 32, 'a33': 33, 'a34': 34, 'a35': 35, 'a36': 36, 'a37': 37, 'a38': 38, 'a39': 39, 'a40': 40, 'a41': 41, 'a42': 42, 'a43': 43, 'a44': 44, 'a45': 45, 'a46': 46, 'a47': 47, 'a48': 48, 'a49': 49, 'a50': 50, 'a51': 51, 'a52': 52, 'a53': 53, 'a54': 54, 'a55': 55, 'a56': 56, 'a57': 57, 'a58': 58, 'a59': 59, 'a60': 60, 'a61': 61, 'a62': 62, 'a63': 63, 'a64': 64, 'a65': 65, 'a66': 66, 'a67': 67, 'a68': 68, 'a69': 69, 'a70': 70, 'a71': 71, 'a72': 72, 'a73': 73, 'a74': 74, 'a75': 75, 'a76': 76, 'a77': 77, 'a78': 78, 'a79': 79, 'a80': 80, 'a81': 81, 'a82': 82, 'a83': 83, 'a84': 84, 'a85': 85, 'a86': 86, 'a87': 87, 'a88': 88, 'a89': 89, 'a90': 90, 'a91': 91, 'a92': 92, 'a93': 93, 'a94': 94, 'a95': 95, 'a96': 96, 'a97': 97, 'a98': 98, 'a99': 99, 'a100': 100, 'b0': 0, 'b1': 1, 'b2': 2, 'b3': 3, 'b4': 4, 'b5': 5, 'b6': 6, 'b7': 7, 'b8': 8, 'b9': 9, 'b10': 10, 'b11': 11, 'b12': 12, 'b13': 13, 'b14': 14, 'b15': 15, 'b16': 16, 'b17': 17, 'b18': 18, 'b19': 19, 'b20': 20, 'b21': 21, 'b22': 22, 'b23': 23, 'b24': 24, 'b25': 25, 'b26': 26, 'b27': 27, 'b28': 28, 'b29': 29, 'b30': 30, 'b31': 31, 'b32': 32, 'b33': 33, 'b34': 34, 'b35': 35, 'b36': 36, 'b37': 37, 'b38': 38, 'b39': 39, 'b40': 40, 'b41': 41, 'b42': 42, 'b43': 43, 'b44': 44, 'b45': 45, 'b46': 46, 'b47': 47, 'b48': 48, 'b49': 49, 'b50': 50, 'b51': 51, 'b52': 52, 'b53': 53, 'b54': 54, 'b55': 55, 'b56': 56, 'b57': 57, 'b58': 58, 'b59': 59, 'b60': 60, 'b61': 61, 'b62': 62, 'b63': 63, 'b64': 64, 'b65': 65, 'b66': 66, 'b67': 67, 'b68': 68, 'b69': 69, 'b70': 70, 'b71': 71, 'b72': 72, 'b73': 73, 'b74': 74, 'b75': 75, 'b76': 76, 'b77': 77, 'b78': 78, 'b79': 79, 'b80': 80, 'b81': 81, 'b82': 82, 'b83': 83, 'b84': 84, 'b85': 85, 'b86': 86, 'b87': 87, 'b88': 88, 'b89': 89, 'b90': 90, 'b91': 91, 'b92': 92, 'b93': 93, 'b94': 94, 'b95': 95, 'b96': 96, 'b97': 97, 'b98': 98, 'b99': 99, 'b100': 100}\n"
     ]
    }
   ],
   "source": [
    "chiavi_a = ['a' + str(i) for i in range(101)]\n",
    "chiavi_b = ['b' + str(i) for i in range(101)]\n",
    "valori = [i for i in range(101)]\n",
    "\n",
    "a = dict(zip(chiavi_a, valori))\n",
    "b = dict(zip(chiavi_b, valori))\n",
    "a_unito_b = a.update(b)\n",
    "print('Dizionario \"a\" unito a \"b\":{}'.format(a))"
   ]
  },
  {
   "cell_type": "markdown",
   "metadata": {
    "collapsed": true
   },
   "source": [
    "# 7. Strumenti di controllo del flusso <a id=controllo_flusso> </a>"
   ]
  },
  {
   "cell_type": "markdown",
   "metadata": {},
   "source": [
    "### `if`, `elif`, `else`"
   ]
  },
  {
   "cell_type": "code",
   "execution_count": 77,
   "metadata": {},
   "outputs": [
    {
     "name": "stdout",
     "output_type": "stream",
     "text": [
      "5 è maggiore 4.\n"
     ]
    }
   ],
   "source": [
    "x = 5\n",
    "\n",
    "if x > 4:\n",
    "    print(\"{} è maggiore 4.\".format(x))\n",
    "elif x < -1:\n",
    "    print(\"{} è minore di -1.\".format(x))\n",
    "else:\n",
    "    print(\"{} non è né maggiore di 4 né minore di -1.\".format(x))"
   ]
  },
  {
   "cell_type": "markdown",
   "metadata": {},
   "source": [
    "### Esercizio\n",
    "\n",
    "Provare con altri numeri."
   ]
  },
  {
   "cell_type": "markdown",
   "metadata": {},
   "source": [
    "### `for`"
   ]
  },
  {
   "cell_type": "code",
   "execution_count": 80,
   "metadata": {},
   "outputs": [
    {
     "name": "stdout",
     "output_type": "stream",
     "text": [
      "0 è un numero pari.\n",
      "1 è un numero dispari.\n",
      "2 è un numero pari.\n",
      "3 è un numero dispari.\n",
      "4 è un numero pari.\n",
      "5 è un numero dispari.\n",
      "6 è un numero pari.\n",
      "7 è un numero dispari.\n",
      "8 è un numero pari.\n",
      "9 è un numero dispari.\n"
     ]
    }
   ],
   "source": [
    "for i in range(10):\n",
    "    if (i % 2) == 0:\n",
    "        print(\"{} è un numero pari.\".format(i))\n",
    "    else:\n",
    "        print(\"{} è un numero dispari.\".format(i))"
   ]
  },
  {
   "cell_type": "markdown",
   "metadata": {},
   "source": [
    "### Esercizio\n",
    "\n",
    "Replicare il risultato utilizzando [`while`](https://docs.python.org/3/reference/compound_stmts.html#while)."
   ]
  },
  {
   "cell_type": "code",
   "execution_count": 81,
   "metadata": {},
   "outputs": [
    {
     "name": "stdout",
     "output_type": "stream",
     "text": [
      "0 è un numero pari.\n",
      "1 è un numero dispari.\n",
      "2 è un numero pari.\n",
      "3 è un numero dispari.\n",
      "4 è un numero pari.\n",
      "5 è un numero dispari.\n",
      "6 è un numero pari.\n",
      "7 è un numero dispari.\n",
      "8 è un numero pari.\n",
      "9 è un numero dispari.\n"
     ]
    }
   ],
   "source": [
    "i = 0\n",
    "while i < 10:\n",
    "    if (i % 2) == 0:\n",
    "        print(\"{} è un numero pari.\".format(i))\n",
    "    else:\n",
    "        print(\"{} è un numero dispari.\".format(i))\n",
    "    i+=1"
   ]
  },
  {
   "cell_type": "markdown",
   "metadata": {},
   "source": [
    "# 8. Funzioni <a id=funzioni> </a>"
   ]
  },
  {
   "cell_type": "markdown",
   "metadata": {},
   "source": [
    "### Definire una funzione"
   ]
  },
  {
   "cell_type": "code",
   "execution_count": 82,
   "metadata": {},
   "outputs": [
    {
     "name": "stdout",
     "output_type": "stream",
     "text": [
      "Tipo: <class 'function'>\n",
      "area_triangolo_isoscele(b=2) = 3.0\n",
      "area_triangolo_isoscele(2) = 3.0\n",
      "area_triangolo_isoscele(h=4, b=2) = 4.0\n",
      "area_triangolo_isoscele(2, 4) = 4.0\n"
     ]
    }
   ],
   "source": [
    "def area_triangolo_isoscele(b, h=3):\n",
    "    area = b * h / 2\n",
    "    return area\n",
    "\n",
    "print(\"Tipo: {}\".format(type(area_triangolo_isoscele)))\n",
    "print(\"area_triangolo_isoscele(b=2) = {}\".format(area_triangolo_isoscele(b=2)))\n",
    "print(\"area_triangolo_isoscele(2) = {}\".format(area_triangolo_isoscele(2)))\n",
    "print(\"area_triangolo_isoscele(h=4, b=2) = {}\".format(area_triangolo_isoscele(h=4, b=2)))\n",
    "print(\"area_triangolo_isoscele(2, 4) = {}\".format(area_triangolo_isoscele(2, 4)))"
   ]
  },
  {
   "cell_type": "markdown",
   "metadata": {},
   "source": [
    "### `*args` "
   ]
  },
  {
   "cell_type": "code",
   "execution_count": 55,
   "metadata": {},
   "outputs": [
    {
     "data": {
      "text/plain": [
       "[-1, 0, 1, 2, 3, 9]"
      ]
     },
     "execution_count": 55,
     "metadata": {},
     "output_type": "execute_result"
    }
   ],
   "source": [
    "def lista_numeri_ordinati(*args, reverse=False):\n",
    "    return sorted(args, reverse=reverse)\n",
    "\n",
    "lista_numeri_ordinati(3,1,2,0, -1, 9)"
   ]
  },
  {
   "cell_type": "markdown",
   "metadata": {},
   "source": [
    "### `**kwargs` "
   ]
  },
  {
   "cell_type": "code",
   "execution_count": 84,
   "metadata": {},
   "outputs": [
    {
     "name": "stdout",
     "output_type": "stream",
     "text": [
      "Luca: +39 333 4132258\n",
      "Giorgia: +39 331 2137262\n"
     ]
    }
   ],
   "source": [
    "def print_elenco_telefonico(**kwargs):\n",
    "    for nome, numero in kwargs.items():\n",
    "        print(\"{}: +39 {} {}\".format(nome.capitalize(), numero[:3], numero[3:]))\n",
    "\n",
    "print_elenco_telefonico(luca=\"3334132258\", giorgia=\"3312137262\")"
   ]
  },
  {
   "cell_type": "markdown",
   "metadata": {},
   "source": [
    "### `lambda`"
   ]
  },
  {
   "cell_type": "code",
   "execution_count": 85,
   "metadata": {},
   "outputs": [
    {
     "name": "stdout",
     "output_type": "stream",
     "text": [
      "Lista \"l\": [-3, 1, 2]\n",
      "Lista \"l\" ordinata in base al valore dell'elemento alla seconda: [1, 2, -3]\n"
     ]
    }
   ],
   "source": [
    "l = [-3, 1, 2]\n",
    "print('Lista \"l\": {}'.format(l))\n",
    "\n",
    "l.sort(key=lambda x: x ** 2)\n",
    "print('Lista \"l\" ordinata in base al valore dell\\'elemento alla seconda: {}'.format(l))"
   ]
  },
  {
   "cell_type": "markdown",
   "metadata": {},
   "source": [
    "### Funzione ricorsiva"
   ]
  },
  {
   "cell_type": "code",
   "execution_count": 86,
   "metadata": {},
   "outputs": [
    {
     "name": "stdout",
     "output_type": "stream",
     "text": [
      "Help on function fibonacci in module msbd.matematica.fibonacci:\n",
      "\n",
      "fibonacci(n)\n",
      "    Restituisce l'n-esimo numero della sucessione di Fibonacci\n",
      "    \n",
      "    Parameters\n",
      "    ----------\n",
      "    n : int\n",
      "        Numero intero maggiore o uguale a 1.\n",
      "    \n",
      "    Returns\n",
      "    -------\n",
      "    fib : int\n",
      "        N-esimo numero della sucessione di Fibonacci.\n",
      "\n"
     ]
    }
   ],
   "source": [
    "from msbd.matematica import fibonacci\n",
    "\n",
    "help(fibonacci)"
   ]
  },
  {
   "cell_type": "markdown",
   "metadata": {},
   "source": [
    "### Visualizzare il codice sorgente"
   ]
  },
  {
   "cell_type": "code",
   "execution_count": 87,
   "metadata": {},
   "outputs": [
    {
     "name": "stdout",
     "output_type": "stream",
     "text": [
      "def fibonacci(n):\n",
      "    \"\"\"Restituisce l'n-esimo numero della sucessione di Fibonacci\n",
      "\n",
      "    Parameters\n",
      "    ----------\n",
      "    n : int\n",
      "        Numero intero maggiore o uguale a 1.\n",
      "\n",
      "    Returns\n",
      "    -------\n",
      "    fib : int\n",
      "        N-esimo numero della sucessione di Fibonacci.\n",
      "    \"\"\"\n",
      "    if not isinstance(n, numbers.Real) or not float(n).is_integer():\n",
      "        raise ValueError(\"fibonacci() è definito solo per numeri interi.\")\n",
      "    elif n < 1:\n",
      "        raise ValueError(\"fibonacci() è definito solo per valori maggiori o \"\n",
      "            \"uguali a 1.\")\n",
      "    else:\n",
      "        if n <= 2:\n",
      "            return 1\n",
      "        else:\n",
      "            return fibonacci(n - 1) + fibonacci(n - 2)\n",
      "\n"
     ]
    }
   ],
   "source": [
    "import inspect\n",
    "\n",
    "print(inspect.getsource(fibonacci))"
   ]
  },
  {
   "cell_type": "markdown",
   "metadata": {},
   "source": [
    "### Primi 10 valori della sucessione di Fibonacci"
   ]
  },
  {
   "cell_type": "code",
   "execution_count": 88,
   "metadata": {},
   "outputs": [
    {
     "name": "stdout",
     "output_type": "stream",
     "text": [
      "Successione di Fibonacci: 1, 1, 2, 3, 5, 8, 13, 21, 34, 55...\n"
     ]
    }
   ],
   "source": [
    "print(\"Successione di Fibonacci: {}...\".format(\", \".join([str(fibonacci(i)) for i in range(1, 11)])))"
   ]
  },
  {
   "cell_type": "markdown",
   "metadata": {},
   "source": [
    "### Esercizio\n",
    "\n",
    "Analizzare la funzione `fibonacci()`definita nel modulo *matematica* del pacchetto *msbd*.\n",
    "\n",
    "1. Provare a invocare la funzione con una stringa, cosa succede?\n",
    "2. Provare a invocare la funzione con un numero intero minore di 1, cosa succede?"
   ]
  },
  {
   "cell_type": "code",
   "execution_count": 91,
   "metadata": {},
   "outputs": [
    {
     "name": "stdout",
     "output_type": "stream",
     "text": [
      "def fibonacci(n):\n",
      "    \"\"\"Restituisce l'n-esimo numero della sucessione di Fibonacci\n",
      "\n",
      "    Parameters\n",
      "    ----------\n",
      "    n : int\n",
      "        Numero intero maggiore o uguale a 1.\n",
      "\n",
      "    Returns\n",
      "    -------\n",
      "    fib : int\n",
      "        N-esimo numero della sucessione di Fibonacci.\n",
      "    \"\"\"\n",
      "    if not isinstance(n, numbers.Real) or not float(n).is_integer():\n",
      "        raise ValueError(\"fibonacci() è definito solo per numeri interi.\")\n",
      "    elif n < 1:\n",
      "        raise ValueError(\"fibonacci() è definito solo per valori maggiori o \"\n",
      "            \"uguali a 1.\")\n",
      "    else:\n",
      "        if n <= 2:\n",
      "            return 1\n",
      "        else:\n",
      "            return fibonacci(n - 1) + fibonacci(n - 2)\n",
      "\n"
     ]
    }
   ],
   "source": [
    "from msbd.matematica import fibonacci\n",
    "\n",
    "print(inspect.getsource(fibonacci))"
   ]
  },
  {
   "cell_type": "code",
   "execution_count": 92,
   "metadata": {},
   "outputs": [
    {
     "ename": "ValueError",
     "evalue": "fibonacci() è definito solo per numeri interi.",
     "output_type": "error",
     "traceback": [
      "\u001b[1;31m---------------------------------------------------------------------------\u001b[0m",
      "\u001b[1;31mValueError\u001b[0m                                Traceback (most recent call last)",
      "\u001b[1;32m<ipython-input-92-71ed114de18a>\u001b[0m in \u001b[0;36m<module>\u001b[1;34m\u001b[0m\n\u001b[1;32m----> 1\u001b[1;33m \u001b[0mfibonacci\u001b[0m\u001b[1;33m(\u001b[0m\u001b[1;34m\"stringa\"\u001b[0m\u001b[1;33m)\u001b[0m\u001b[1;33m\u001b[0m\u001b[1;33m\u001b[0m\u001b[0m\n\u001b[0m",
      "\u001b[1;32m~\\Dropbox\\Unipd\\2020\\laboratorio\\python2020\\msbd\\matematica\\fibonacci.py\u001b[0m in \u001b[0;36mfibonacci\u001b[1;34m(n)\u001b[0m\n\u001b[0;32m     16\u001b[0m     \"\"\"\n\u001b[0;32m     17\u001b[0m     \u001b[1;32mif\u001b[0m \u001b[1;32mnot\u001b[0m \u001b[0misinstance\u001b[0m\u001b[1;33m(\u001b[0m\u001b[0mn\u001b[0m\u001b[1;33m,\u001b[0m \u001b[0mnumbers\u001b[0m\u001b[1;33m.\u001b[0m\u001b[0mReal\u001b[0m\u001b[1;33m)\u001b[0m \u001b[1;32mor\u001b[0m \u001b[1;32mnot\u001b[0m \u001b[0mfloat\u001b[0m\u001b[1;33m(\u001b[0m\u001b[0mn\u001b[0m\u001b[1;33m)\u001b[0m\u001b[1;33m.\u001b[0m\u001b[0mis_integer\u001b[0m\u001b[1;33m(\u001b[0m\u001b[1;33m)\u001b[0m\u001b[1;33m:\u001b[0m\u001b[1;33m\u001b[0m\u001b[1;33m\u001b[0m\u001b[0m\n\u001b[1;32m---> 18\u001b[1;33m         \u001b[1;32mraise\u001b[0m \u001b[0mValueError\u001b[0m\u001b[1;33m(\u001b[0m\u001b[1;34m\"fibonacci() è definito solo per numeri interi.\"\u001b[0m\u001b[1;33m)\u001b[0m\u001b[1;33m\u001b[0m\u001b[1;33m\u001b[0m\u001b[0m\n\u001b[0m\u001b[0;32m     19\u001b[0m     \u001b[1;32melif\u001b[0m \u001b[0mn\u001b[0m \u001b[1;33m<\u001b[0m \u001b[1;36m1\u001b[0m\u001b[1;33m:\u001b[0m\u001b[1;33m\u001b[0m\u001b[1;33m\u001b[0m\u001b[0m\n\u001b[0;32m     20\u001b[0m         raise ValueError(\"fibonacci() è definito solo per valori maggiori o \"\n",
      "\u001b[1;31mValueError\u001b[0m: fibonacci() è definito solo per numeri interi."
     ]
    }
   ],
   "source": [
    "fibonacci(\"stringa\")"
   ]
  },
  {
   "cell_type": "code",
   "execution_count": 94,
   "metadata": {},
   "outputs": [
    {
     "ename": "ValueError",
     "evalue": "fibonacci() è definito solo per valori maggiori o uguali a 1.",
     "output_type": "error",
     "traceback": [
      "\u001b[1;31m---------------------------------------------------------------------------\u001b[0m",
      "\u001b[1;31mValueError\u001b[0m                                Traceback (most recent call last)",
      "\u001b[1;32m<ipython-input-94-15a7c5be9ef8>\u001b[0m in \u001b[0;36m<module>\u001b[1;34m\u001b[0m\n\u001b[1;32m----> 1\u001b[1;33m \u001b[0mfibonacci\u001b[0m\u001b[1;33m(\u001b[0m\u001b[1;36m0\u001b[0m\u001b[1;33m)\u001b[0m\u001b[1;33m\u001b[0m\u001b[1;33m\u001b[0m\u001b[0m\n\u001b[0m",
      "\u001b[1;32m~\\Dropbox\\Unipd\\2020\\laboratorio\\python2020\\msbd\\matematica\\fibonacci.py\u001b[0m in \u001b[0;36mfibonacci\u001b[1;34m(n)\u001b[0m\n\u001b[0;32m     18\u001b[0m         \u001b[1;32mraise\u001b[0m \u001b[0mValueError\u001b[0m\u001b[1;33m(\u001b[0m\u001b[1;34m\"fibonacci() è definito solo per numeri interi.\"\u001b[0m\u001b[1;33m)\u001b[0m\u001b[1;33m\u001b[0m\u001b[1;33m\u001b[0m\u001b[0m\n\u001b[0;32m     19\u001b[0m     \u001b[1;32melif\u001b[0m \u001b[0mn\u001b[0m \u001b[1;33m<\u001b[0m \u001b[1;36m1\u001b[0m\u001b[1;33m:\u001b[0m\u001b[1;33m\u001b[0m\u001b[1;33m\u001b[0m\u001b[0m\n\u001b[1;32m---> 20\u001b[1;33m         raise ValueError(\"fibonacci() è definito solo per valori maggiori o \"\n\u001b[0m\u001b[0;32m     21\u001b[0m             \"uguali a 1.\")\n\u001b[0;32m     22\u001b[0m     \u001b[1;32melse\u001b[0m\u001b[1;33m:\u001b[0m\u001b[1;33m\u001b[0m\u001b[1;33m\u001b[0m\u001b[0m\n",
      "\u001b[1;31mValueError\u001b[0m: fibonacci() è definito solo per valori maggiori o uguali a 1."
     ]
    }
   ],
   "source": [
    "fibonacci(0)"
   ]
  },
  {
   "cell_type": "markdown",
   "metadata": {},
   "source": [
    "# 9. Verificare il proprio codice con pytest <a id=pytest> </a>\n",
    "Dal [sito ufficiale](https://docs.pytest.org/en/latest/index.html) di pytest:\n",
    "> The pytest framework makes it easy to write small tests, yet scales to support complex functional testing for applications and libraries."
   ]
  },
  {
   "cell_type": "code",
   "execution_count": 95,
   "metadata": {},
   "outputs": [
    {
     "name": "stdout",
     "output_type": "stream",
     "text": [
      "============================= test session starts =============================\n",
      "platform win32 -- Python 3.7.3, pytest-4.3.1, py-1.8.0, pluggy-0.9.0 -- C:\\Users\\gianluca.emireni\\anaconda3\\python.exe\n",
      "cachedir: .pytest_cache\n",
      "rootdir: C:\\Users\\gianluca.emireni\\Dropbox\\Unipd\\2020\\laboratorio\\python2020, inifile:\n",
      "plugins: remotedata-0.3.1, openfiles-0.3.2, doctestplus-0.3.0, arraydiff-0.3\n",
      "collecting ... collected 3 items\n",
      "\n",
      "msbd/tests/test_fibonacci.py::test_value_error_se_n_non_intero PASSED    [ 33%]\n",
      "msbd/tests/test_fibonacci.py::test_value_error_se_n_minore_1 PASSED      [ 66%]\n",
      "msbd/tests/test_fibonacci.py::test_n_uguale_10 PASSED                    [100%]\n",
      "\n",
      "============================== warnings summary ===============================\n",
      "C:\\Users\\gianluca.emireni\\anaconda3\\lib\\site-packages\\ipywidgets\\widgets\\widget_selection.py:9\n",
      "C:\\Users\\gianluca.emireni\\anaconda3\\lib\\site-packages\\ipywidgets\\widgets\\widget_selection.py:9\n",
      "  C:\\Users\\gianluca.emireni\\anaconda3\\lib\\site-packages\\ipywidgets\\widgets\\widget_selection.py:9: DeprecationWarning: Using or importing the ABCs from 'collections' instead of from 'collections.abc' is deprecated, and in 3.8 it will stop working\n",
      "    from collections import Mapping, Iterable\n",
      "\n",
      "C:\\Users\\gianluca.emireni\\anaconda3\\lib\\site-packages\\nltk\\decorators.py:68\n",
      "  C:\\Users\\gianluca.emireni\\anaconda3\\lib\\site-packages\\nltk\\decorators.py:68: DeprecationWarning: `formatargspec` is deprecated since Python 3.5. Use `signature` and the `Signature` object directly\n",
      "    regargs, varargs, varkwargs, defaults, formatvalue=lambda value: \"\"\n",
      "\n",
      "-- Docs: https://docs.pytest.org/en/latest/warnings.html\n",
      "==================== 3 passed, 3 warnings in 4.46 seconds =====================\n"
     ]
    }
   ],
   "source": [
    "# Nota: tramite \"!\" si accede al terminale\n",
    "!pytest -v msbd/tests/test_fibonacci.py"
   ]
  },
  {
   "cell_type": "markdown",
   "metadata": {},
   "source": [
    "### Esercizio\n",
    "\n",
    "Completare la funzione `fattoriale()` in `msbd/matematica/fattoriale.py` utilizzando quanto imparato sulle funzioni ricorsive.\n",
    "\n",
    "Si ricorda che\n",
    "$$\n",
    "n! =\n",
    "\\begin{cases}\n",
    "    1 & \\quad n = 0\\\\\n",
    "    n\\times(n-1)! & \\quad n > 0\n",
    "\\end{cases}\n",
    "$$\n",
    "\n",
    "Testare la funzione utilizzando pytest."
   ]
  },
  {
   "cell_type": "code",
   "execution_count": null,
   "metadata": {},
   "outputs": [],
   "source": [
    "from msbd.matematica import  fattoriale\n",
    "\n",
    "print(inspect.getsource(fattoriale))"
   ]
  },
  {
   "cell_type": "code",
   "execution_count": null,
   "metadata": {},
   "outputs": [],
   "source": [
    "!pytest -v msbd/tests/test_fattoriale.py"
   ]
  },
  {
   "cell_type": "markdown",
   "metadata": {},
   "source": [
    "# 10. Generatori <a id=generatori> </a>"
   ]
  },
  {
   "cell_type": "code",
   "execution_count": 3,
   "metadata": {},
   "outputs": [
    {
     "ename": "NameError",
     "evalue": "name 'inspect' is not defined",
     "output_type": "error",
     "traceback": [
      "\u001b[1;31m---------------------------------------------------------------------------\u001b[0m",
      "\u001b[1;31mNameError\u001b[0m                                 Traceback (most recent call last)",
      "\u001b[1;32m<ipython-input-3-60b88400b783>\u001b[0m in \u001b[0;36m<module>\u001b[1;34m\u001b[0m\n\u001b[0;32m      1\u001b[0m \u001b[1;32mfrom\u001b[0m \u001b[0mmsbd\u001b[0m\u001b[1;33m.\u001b[0m\u001b[0mmatematica\u001b[0m \u001b[1;32mimport\u001b[0m  \u001b[0mfibonacci_gen\u001b[0m\u001b[1;33m\u001b[0m\u001b[1;33m\u001b[0m\u001b[0m\n\u001b[0;32m      2\u001b[0m \u001b[1;33m\u001b[0m\u001b[0m\n\u001b[1;32m----> 3\u001b[1;33m \u001b[0mprint\u001b[0m\u001b[1;33m(\u001b[0m\u001b[0minspect\u001b[0m\u001b[1;33m.\u001b[0m\u001b[0mgetsource\u001b[0m\u001b[1;33m(\u001b[0m\u001b[0mfibonacci_gen\u001b[0m\u001b[1;33m)\u001b[0m\u001b[1;33m)\u001b[0m\u001b[1;33m\u001b[0m\u001b[1;33m\u001b[0m\u001b[0m\n\u001b[0m\u001b[0;32m      4\u001b[0m \u001b[1;33m\u001b[0m\u001b[0m\n\u001b[0;32m      5\u001b[0m \u001b[1;33m\u001b[0m\u001b[0m\n",
      "\u001b[1;31mNameError\u001b[0m: name 'inspect' is not defined"
     ]
    }
   ],
   "source": [
    "from msbd.matematica import  fibonacci_gen\n",
    "\n",
    "print(inspect.getsource(fibonacci_gen))\n",
    "            \n",
    "\n",
    "g = fibonacci_gen()\n",
    "print(\"Tipo: {}\".format(type(g)))\n",
    "print(\"Contenuto della variabile: {}\".format(g))"
   ]
  },
  {
   "cell_type": "code",
   "execution_count": null,
   "metadata": {},
   "outputs": [],
   "source": [
    "fib = fibonacci_gen()\n",
    "\n",
    "for i, n in enumerate(fib, 1):\n",
    "    print(\"Il {:>2}° numero della successione di Fibonacci è {}.\".format(i, n))\n",
    "    \n",
    "    if i >= 10:\n",
    "        print(\"Interrompo la sequenza che, altrimenti, andrebbe avanti all'infinito...\")\n",
    "        break\n",
    "        \n",
    "print(\"\\nUtilizzo next() per accedere al numero sucessivo: {}.\".format(next(fib)))"
   ]
  },
  {
   "cell_type": "markdown",
   "metadata": {},
   "source": [
    "### Esercizio\n",
    "\n",
    "Completare la funzione `fattoriale_gen()` in `msbd/matematica/fattoriale.py` utilizzando quanto imparato sui generatori.\n",
    "\n",
    "Definire dei test per verificare il corretto funzionamento della funzione ed eseguirli tramite pytest."
   ]
  },
  {
   "cell_type": "code",
   "execution_count": null,
   "metadata": {},
   "outputs": [],
   "source": [
    "from msbd.matematica import  fattoriale_gen\n",
    "\n",
    "print(inspect.getsource(fattoriale_gen))"
   ]
  },
  {
   "cell_type": "code",
   "execution_count": null,
   "metadata": {},
   "outputs": [],
   "source": [
    "!pytest -v msbd/tests/test_fattoriale_gen.py"
   ]
  },
  {
   "cell_type": "markdown",
   "metadata": {},
   "source": [
    "# 11. Classi <a id=classi> </a>"
   ]
  },
  {
   "cell_type": "markdown",
   "metadata": {},
   "source": [
    "## 11.1 Creare una semplice classe <a id=creare_classe> </a>"
   ]
  },
  {
   "cell_type": "code",
   "execution_count": 56,
   "metadata": {},
   "outputs": [
    {
     "name": "stdout",
     "output_type": "stream",
     "text": [
      "Tipo: <class 'type'>\n"
     ]
    }
   ],
   "source": [
    "class Persona():\n",
    "    def __init__(self, nome, cognome):\n",
    "        self.__name__ = \"Persona\"\n",
    "        self.nome = nome\n",
    "        self.cognome = cognome\n",
    "        \n",
    "    def presentazione(self):\n",
    "        print(\"Ciao, mi chiamo {} {}.\".format(self.nome.capitalize(), self.cognome.capitalize()))\n",
    "        \n",
    "print(\"Tipo: {}\".format(type(Persona)))"
   ]
  },
  {
   "cell_type": "markdown",
   "metadata": {},
   "source": [
    "### Istanza di una classe"
   ]
  },
  {
   "cell_type": "code",
   "execution_count": 57,
   "metadata": {},
   "outputs": [
    {
     "name": "stdout",
     "output_type": "stream",
     "text": [
      "Classe di appartenza: Persona.\n",
      "Attributo \"nome\": Mario.\n",
      "Attributo \"cognome\": Rossi.\n",
      "Metodo \"presentazione\":\n",
      "Ciao, mi chiamo Mario Rossi.\n"
     ]
    }
   ],
   "source": [
    "mario = Persona(\"Mario\", \"Rossi\")\n",
    "\n",
    "print(\"Classe di appartenza: {}.\".format(type(mario).__name__))\n",
    "print('Attributo \"nome\": {}.'.format(mario.nome))\n",
    "print('Attributo \"cognome\": {}.'.format(mario.cognome))\n",
    "print('Metodo \"presentazione\":')\n",
    "mario.presentazione()"
   ]
  },
  {
   "cell_type": "markdown",
   "metadata": {},
   "source": [
    "## 11.2 Ereditarietà <a id=ereditarietà> </a>"
   ]
  },
  {
   "cell_type": "code",
   "execution_count": 5,
   "metadata": {},
   "outputs": [],
   "source": [
    "import matplotlib.pyplot as plt\n",
    "import matplotlib.image as mpimg\n",
    "\n",
    "\n",
    "class Simpson(Persona):\n",
    "    def __init__(self, nome):\n",
    "        super().__init__(nome=nome, cognome=\"simpson\")\n",
    "\n",
    "    def studia_python(self):\n",
    "        img = mpimg.imread(\"figures/{}_python.jpg\".format(self.nome))\n",
    "        plt.axis(\"off\")\n",
    "        plt.imshow(img)"
   ]
  },
  {
   "cell_type": "markdown",
   "metadata": {},
   "source": [
    "### Homer Simpson"
   ]
  },
  {
   "cell_type": "code",
   "execution_count": 8,
   "metadata": {},
   "outputs": [
    {
     "name": "stdout",
     "output_type": "stream",
     "text": [
      "Classe di appartenza: Simpson.\n",
      "Attributo \"nome\": homer.\n",
      "Attributo \"cognome\": simpson.\n",
      "Metodo \"presentazione\":\n",
      "Ciao, mi chiamo Homer Simpson.\n",
      "Metodo \"studia_python\":\n"
     ]
    },
    {
     "data": {
      "image/png": "[encoded data removed]",
      "text/plain": [
       "<Figure size 432x288 with 1 Axes>"
      ]
     },
     "metadata": {
      "needs_background": "light"
     },
     "output_type": "display_data"
    }
   ],
   "source": [
    "homer = Simpson(\"homer\")\n",
    "\n",
    "print(\"Classe di appartenza: {}.\".format(type(homer).__name__))\n",
    "print('Attributo \"nome\": {}.'.format(homer.nome))\n",
    "print('Attributo \"cognome\": {}.'.format(homer.cognome))\n",
    "print('Metodo \"presentazione\":')\n",
    "homer.presentazione()\n",
    "print('Metodo \"studia_python\":')\n",
    "homer.studia_python()"
   ]
  },
  {
   "cell_type": "markdown",
   "metadata": {},
   "source": [
    "### Bart Simpson"
   ]
  },
  {
   "cell_type": "code",
   "execution_count": 9,
   "metadata": {},
   "outputs": [
    {
     "name": "stdout",
     "output_type": "stream",
     "text": [
      "Classe di appartenza: Simpson.\n",
      "Attributo \"nome\": bart.\n",
      "Attributo \"cognome\": simpson.\n",
      "Metodo \"presentazione\":\n",
      "Ciao, mi chiamo Bart Simpson.\n",
      "Metodo \"studia_python\":\n"
     ]
    },
    {
     "data": {
      "image/png": "[encoded data removed]",
      "text/plain": [
       "<Figure size 432x288 with 1 Axes>"
      ]
     },
     "metadata": {
      "needs_background": "light"
     },
     "output_type": "display_data"
    }
   ],
   "source": [
    "bart = Simpson(\"bart\")\n",
    "\n",
    "print(\"Classe di appartenza: {}.\".format(type(bart).__name__))\n",
    "print('Attributo \"nome\": {}.'.format(bart.nome))\n",
    "print('Attributo \"cognome\": {}.'.format(bart.cognome))\n",
    "print('Metodo \"presentazione\":')\n",
    "bart.presentazione()\n",
    "print('Metodo \"studia_python\":')\n",
    "bart.studia_python()"
   ]
  },
  {
   "cell_type": "code",
   "execution_count": null,
   "metadata": {},
   "outputs": [],
   "source": []
  }
 ],
 "metadata": {
  "kernelspec": {
   "display_name": "Python 3",
   "language": "python",
   "name": "python3"
  },
  "language_info": {
   "codemirror_mode": {
    "name": "ipython",
    "version": 3
   },
   "file_extension": ".py",
   "mimetype": "text/x-python",
   "name": "python",
   "nbconvert_exporter": "python",
   "pygments_lexer": "ipython3",
   "version": "3.7.6"
  }
 },
 "nbformat": 4,
 "nbformat_minor": 2
}
